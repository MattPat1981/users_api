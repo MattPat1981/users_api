{
 "cells": [
  {
   "cell_type": "markdown",
   "id": "81ac0a2e",
   "metadata": {},
   "source": [
    "# Mimmic the Lambda Call\n",
    "***Matt Paterson***<br>\n",
    "***Machine Learning Engineer***<br>\n",
    "***Santa Cruz, California***<br>\n",
    "***10/17/2021***<br>\n",
    "\n",
    "Use this notebook to write the code that will live in the lambda function that serves the API Response"
   ]
  },
  {
   "cell_type": "code",
   "execution_count": 40,
   "id": "e197329f",
   "metadata": {},
   "outputs": [
    {
     "name": "stdout",
     "output_type": "stream",
     "text": [
      "******************************\n",
      "You entered user handle: 42\n",
      "The closest 10 user handles and their cosine similarities are:\n",
      "7709    0.944039\n",
      "2690    0.944039\n",
      "7595    0.785488\n",
      "4510    0.653049\n",
      "3121    0.621871\n",
      "3349    0.555424\n",
      "5788    0.553188\n",
      "1760    0.522246\n",
      "1275    0.431039\n",
      "6189    0.407345\n",
      "Name: 42, dtype: float64\n",
      "******************************\n",
      "CPU times: user 24.7 s, sys: 852 ms, total: 25.6 s\n",
      "Wall time: 32.2 s\n"
     ]
    }
   ],
   "source": [
    "%%time\n",
    "\n",
    "import pandas as pd\n",
    "import boto3\n",
    "import io\n",
    "\n",
    "bucket_name = 'mp-pluralsight-demo-20211016'\n",
    "filename = 'data/sims_df.csv'\n",
    "\n",
    "s3 = boto3.client('s3')\n",
    "obj = s3.get_object(Bucket=bucket_name, Key=filename)\n",
    "sims_df = pd.read_csv(io.BytesIO(obj['Body'].read()), index_col='user_handle')\n",
    "\n",
    "search = 42\n",
    "print(\"*\"*30)\n",
    "print(\"You entered user handle:\", search)\n",
    "print(\"The closest 10 user handles and their cosine similarities are:\")\n",
    "print(sims_df.loc[search].sort_values(ascending=False)[1:11])   \n",
    "print(\"*\"*30)"
   ]
  }
 ],
 "metadata": {
  "kernelspec": {
   "display_name": "conda_python3",
   "language": "python",
   "name": "conda_python3"
  },
  "language_info": {
   "codemirror_mode": {
    "name": "ipython",
    "version": 3
   },
   "file_extension": ".py",
   "mimetype": "text/x-python",
   "name": "python",
   "nbconvert_exporter": "python",
   "pygments_lexer": "ipython3",
   "version": "3.6.13"
  }
 },
 "nbformat": 4,
 "nbformat_minor": 5
}
