{
 "cells": [
  {
   "cell_type": "markdown",
   "metadata": {},
   "source": [
    "# Using CountVectorizer to compute a similarity score\n",
    "***Matt Paterson***<br>\n",
    "***Machine Learning Engineer***<br>\n",
    "***Santa Cruz, California***<br>\n",
    "***10/16/2021***<br>\n",
    "\n",
    "In this challenge, I'll take four csv's with raw data about users of a platform who view videos, review the videos, and also voluntarily submit their interests in the videos, as well as the videos and video authors. \n",
    "\n",
    "I will create a model and api that allows an administrator/user (comapny) to input a user_handle (customer) from the existing group of user_handle(s) and get an output of the closest users to the input user_handle.\n",
    "\n",
    "For the Quick and Dirty model, \n",
    "- I will use a simple cosine similarity score for the users, \n",
    "- run a dbscan model as an additional input column,\n",
    "- employ some Natural Language Processing techniques to find \n",
    "    - similar course tags and \n",
    "    - interest tags and \n",
    "    - assessment tags where they are inconsistent, and will \n",
    "- utilize scikit-learn's OneHotEncoder to quickly vectorize categorical data\n",
    "\n",
    "I will then create a lookup table in DynamoDB that can store the resulting users table, allowing a RESTful API to query the database through Amazon API Gateway through the depoloyment of an Amazon SageMaker Model Endpoint."
   ]
  },
  {
   "cell_type": "code",
   "execution_count": 9,
   "metadata": {},
   "outputs": [],
   "source": [
    "import pandas as pd\n",
    "import numpy as np\n",
    "import matplotlib.pyplot as plt\n",
    "from scipy import sparse\n",
    "from sklearn.metrics.pairwise import cosine_similarity\n",
    "\n",
    "bucket='s3://mp-pluralsight-demo-20211016/'\n",
    "\n",
    "from sklearn.feature_extraction.text import CountVectorizer\n",
    "# Before final push, add any imports that come later in this program to this top box"
   ]
  },
  {
   "cell_type": "markdown",
   "metadata": {},
   "source": [
    "## Load `course_tags.csv`, `user_assessment_scores.csv`, `user_course_views.csv`, and `user_interests.csv`\n",
    "---"
   ]
  },
  {
   "cell_type": "code",
   "execution_count": 10,
   "metadata": {},
   "outputs": [
    {
     "name": "stdout",
     "output_type": "stream",
     "text": [
      "courses.shape is (11337, 2)\n"
     ]
    },
    {
     "data": {
      "text/html": [
       "<div>\n",
       "<style scoped>\n",
       "    .dataframe tbody tr th:only-of-type {\n",
       "        vertical-align: middle;\n",
       "    }\n",
       "\n",
       "    .dataframe tbody tr th {\n",
       "        vertical-align: top;\n",
       "    }\n",
       "\n",
       "    .dataframe thead th {\n",
       "        text-align: right;\n",
       "    }\n",
       "</style>\n",
       "<table border=\"1\" class=\"dataframe\">\n",
       "  <thead>\n",
       "    <tr style=\"text-align: right;\">\n",
       "      <th></th>\n",
       "      <th>course_id</th>\n",
       "      <th>course_tags</th>\n",
       "    </tr>\n",
       "  </thead>\n",
       "  <tbody>\n",
       "    <tr>\n",
       "      <th>0</th>\n",
       "      <td>12-principles-animation-toon-boom-harmony-1475</td>\n",
       "      <td>2d-animation</td>\n",
       "    </tr>\n",
       "    <tr>\n",
       "      <th>1</th>\n",
       "      <td>2d-racing-game-series-unity-5-1312</td>\n",
       "      <td>game-design</td>\n",
       "    </tr>\n",
       "    <tr>\n",
       "      <th>2</th>\n",
       "      <td>2d-racing-games-unity-volume-2-1286</td>\n",
       "      <td>game-art</td>\n",
       "    </tr>\n",
       "    <tr>\n",
       "      <th>3</th>\n",
       "      <td>2d-racing-games-unity-volume-2-1286</td>\n",
       "      <td>digital-painting</td>\n",
       "    </tr>\n",
       "    <tr>\n",
       "      <th>4</th>\n",
       "      <td>2d-racing-games-unity-volume-2-1286</td>\n",
       "      <td>image-editing</td>\n",
       "    </tr>\n",
       "  </tbody>\n",
       "</table>\n",
       "</div>"
      ],
      "text/plain": [
       "                                        course_id       course_tags\n",
       "0  12-principles-animation-toon-boom-harmony-1475      2d-animation\n",
       "1              2d-racing-game-series-unity-5-1312       game-design\n",
       "2             2d-racing-games-unity-volume-2-1286          game-art\n",
       "3             2d-racing-games-unity-volume-2-1286  digital-painting\n",
       "4             2d-racing-games-unity-volume-2-1286     image-editing"
      ]
     },
     "execution_count": 10,
     "metadata": {},
     "output_type": "execute_result"
    }
   ],
   "source": [
    "courses = pd.read_csv(bucket +'data/course_tags.csv')\n",
    "print(\"courses.shape is\", courses.shape)\n",
    "courses.head()"
   ]
  },
  {
   "cell_type": "code",
   "execution_count": 11,
   "metadata": {},
   "outputs": [
    {
     "name": "stdout",
     "output_type": "stream",
     "text": [
      "<class 'pandas.core.frame.DataFrame'>\n",
      "RangeIndex: 11337 entries, 0 to 11336\n",
      "Data columns (total 2 columns):\n",
      " #   Column       Non-Null Count  Dtype \n",
      "---  ------       --------------  ----- \n",
      " 0   course_id    11337 non-null  object\n",
      " 1   course_tags  11225 non-null  object\n",
      "dtypes: object(2)\n",
      "memory usage: 177.3+ KB\n"
     ]
    }
   ],
   "source": [
    "courses.info()"
   ]
  },
  {
   "cell_type": "code",
   "execution_count": 12,
   "metadata": {},
   "outputs": [],
   "source": [
    "courses=courses.dropna()"
   ]
  },
  {
   "cell_type": "code",
   "execution_count": 17,
   "metadata": {},
   "outputs": [
    {
     "data": {
      "text/plain": [
       "CountVectorizer()"
      ]
     },
     "execution_count": 17,
     "metadata": {},
     "output_type": "execute_result"
    }
   ],
   "source": [
    "vec = CountVectorizer()\n",
    "\n",
    "#tokenize\n",
    "vec.fit(courses.course_id)"
   ]
  },
  {
   "cell_type": "code",
   "execution_count": 18,
   "metadata": {},
   "outputs": [
    {
     "data": {
      "text/plain": [
       "{'12': 182,\n",
       " 'principles': 4776,\n",
       " 'animation': 2239,\n",
       " 'toon': 5664,\n",
       " 'boom': 2480,\n",
       " 'harmony': 3612,\n",
       " '1475': 431,\n",
       " '2d': 1465,\n",
       " 'racing': 4907,\n",
       " 'game': 3485,\n",
       " 'series': 5196,\n",
       " 'unity': 5771,\n",
       " '1312': 286,\n",
       " 'games': 3487,\n",
       " 'volume': 5876,\n",
       " '1286': 261,\n",
       " '1311': 285,\n",
       " '3d': 1601,\n",
       " 'coat': 2704,\n",
       " 'character': 2631,\n",
       " 'concept': 2774,\n",
       " 'sculpting': 5164,\n",
       " 'techniques': 5564,\n",
       " '2526': 1400,\n",
       " 'getting': 3513,\n",
       " 'started': 5399,\n",
       " '2487': 1370,\n",
       " 'integration': 3797,\n",
       " 'relighting': 4986,\n",
       " 'nuke': 4437,\n",
       " '1157': 144,\n",
       " 'models': 4280,\n",
       " 'presenting': 4764,\n",
       " 'online': 4473,\n",
       " '2385': 1285,\n",
       " 'pan': 4556,\n",
       " 'tile': 5629,\n",
       " 'sky': 5296,\n",
       " '81': 1960,\n",
       " 'printing': 4780,\n",
       " 'design': 2993,\n",
       " 'selective': 5183,\n",
       " 'laser': 3988,\n",
       " 'sintering': 5276,\n",
       " 'rotation': 5084,\n",
       " 'trackers': 5681,\n",
       " 'trigonometry': 5714,\n",
       " '284': 1450,\n",
       " '3ds': 1603,\n",
       " 'max': 4178,\n",
       " '2011': 928,\n",
       " 'motion': 4314,\n",
       " 'graphics': 3547,\n",
       " '585': 1763,\n",
       " '2017': 935,\n",
       " 'introduction': 3832,\n",
       " '2517': 1394,\n",
       " 'modeling': 4279,\n",
       " 'cartoon': 2580,\n",
       " 'props': 4838,\n",
       " '2018': 936,\n",
       " 'exploring': 3281,\n",
       " 'fundamentals': 3475,\n",
       " 'arnold': 2296,\n",
       " 'converting': 2829,\n",
       " 'photo': 4640,\n",
       " 'vr': 5883,\n",
       " 'set': 5209,\n",
       " '2468': 1357,\n",
       " 'creating': 2865,\n",
       " 'ready': 4932,\n",
       " 'modular': 4288,\n",
       " 'structures': 5454,\n",
       " 'realistic': 4935,\n",
       " 'low': 4076,\n",
       " 'poly': 4707,\n",
       " 'tree': 5706,\n",
       " '2420': 1317,\n",
       " 'graphite': 3548,\n",
       " 'tools': 5661,\n",
       " 'hard': 3608,\n",
       " 'surface': 5490,\n",
       " 'interior': 3812,\n",
       " 'lighting': 4027,\n",
       " 'motionbuilder': 4315,\n",
       " '790': 1945,\n",
       " 'reference': 4968,\n",
       " 'library': 4022,\n",
       " 'world': 6023,\n",
       " 'space': 5339,\n",
       " 'modifiers': 4285,\n",
       " '531': 1721,\n",
       " 'ref': 4965,\n",
       " 'object': 4446,\n",
       " '530': 1720,\n",
       " 'rendering': 4994,\n",
       " 'topology': 5669,\n",
       " 'uv': 5797,\n",
       " 'mapping': 4136,\n",
       " 'ray': 4922,\n",
       " 'photorealistic': 4648,\n",
       " 'scene': 5135,\n",
       " '2424': 1321,\n",
       " '2016': 934,\n",
       " '2473': 1359,\n",
       " 'studio': 5458,\n",
       " '802': 1953,\n",
       " '11': 92,\n",
       " 'technology': 5566,\n",
       " 'cisco': 2665,\n",
       " 'wifund': 5976,\n",
       " '200': 915,\n",
       " '355': 1542,\n",
       " 'abap': 2108,\n",
       " 'dictionary': 3026,\n",
       " 'understanding': 5766,\n",
       " 'objects': 4450,\n",
       " 'concepts': 2776,\n",
       " 'class': 2672,\n",
       " 'builder': 2530,\n",
       " 'workbench': 6007,\n",
       " 'big': 2438,\n",
       " 'picture': 4660,\n",
       " 'ableton': 2110,\n",
       " 'live': 4049,\n",
       " 'abstract': 2114,\n",
       " 'art': 2299,\n",
       " 'things': 5610,\n",
       " 'just': 3933,\n",
       " 'right': 5064,\n",
       " 'accelerated': 2117,\n",
       " 'cpp': 2856,\n",
       " 'accelerating': 2118,\n",
       " 'rigging': 5063,\n",
       " 'maya': 4182,\n",
       " '2101': 1020,\n",
       " 'char': 2630,\n",
       " 'creation': 2866,\n",
       " 'pipeline': 4666,\n",
       " '2040': 957,\n",
       " 'face': 3315,\n",
       " 'process': 4792,\n",
       " '2148': 1064,\n",
       " 'access': 2120,\n",
       " '2007': 923,\n",
       " 'advanced': 2169,\n",
       " 'features': 3338,\n",
       " 'queries': 4894,\n",
       " 'tables': 5537,\n",
       " 'relationships': 4981,\n",
       " '2010': 927,\n",
       " 'pivottables': 4673,\n",
       " 'pivot': 4671,\n",
       " 'charts': 2634,\n",
       " 'functions': 3472,\n",
       " '2013': 931,\n",
       " 'essentials': 3238,\n",
       " 'pt1': 4864,\n",
       " 'pt2': 4865,\n",
       " 'control': 2821,\n",
       " 'ise': 3862,\n",
       " 'ccnp': 2604,\n",
       " 'security': 5179,\n",
       " '300': 1469,\n",
       " '208': 998,\n",
       " 'sisas': 5277,\n",
       " 'lists': 4047,\n",
       " 'ccna': 2603,\n",
       " '125': 228,\n",
       " '100': 6,\n",
       " '105': 50,\n",
       " 'accessing': 2123,\n",
       " 'data': 2931,\n",
       " 'fsharp': 3461,\n",
       " 'type': 5742,\n",
       " 'providers': 4853,\n",
       " 'cost': 2844,\n",
       " 'sap': 5119,\n",
       " 'development': 3015,\n",
       " 'system': 5530,\n",
       " 'accountability': 2125,\n",
       " 'five': 3377,\n",
       " 'steps': 5417,\n",
       " 'acrobat': 2131,\n",
       " 'dc': 2949,\n",
       " 'building': 2531,\n",
       " 'forms': 3432,\n",
       " 'action': 2136,\n",
       " 'editing': 3135,\n",
       " '2386': 1286,\n",
       " 'active': 2139,\n",
       " 'directory': 3039,\n",
       " 'programming': 4816,\n",
       " 'ada': 2144,\n",
       " '2012': 929,\n",
       " 'add': 2147,\n",
       " 'dev': 3010,\n",
       " 'console': 2801,\n",
       " 'to': 5645,\n",
       " 'your': 6067,\n",
       " 'app': 2259,\n",
       " 'with': 5998,\n",
       " 'javascript': 3885,\n",
       " 'increase': 3747,\n",
       " 'productivity': 4801,\n",
       " 'adding': 2148,\n",
       " 'dynamics': 3116,\n",
       " 'mermaid': 4218,\n",
       " 'bifrost': 2437,\n",
       " '1909': 829,\n",
       " 'facial': 3318,\n",
       " '294': 1459,\n",
       " 'keyframe': 3950,\n",
       " 'capture': 2568,\n",
       " '1813': 737,\n",
       " 'designers': 2995,\n",
       " 'guide': 3580,\n",
       " 'illustrator': 3719,\n",
       " '830': 1980,\n",
       " 'adfs2': 2153,\n",
       " 'and': 2223,\n",
       " 'wif35': 5974,\n",
       " 'adfs': 2152,\n",
       " 'logon': 4066,\n",
       " 'server': 5198,\n",
       " 'by': 2544,\n",
       " 'example': 3262,\n",
       " 'administering': 2157,\n",
       " 'powershell': 4738,\n",
       " 'elasticsearch': 3158,\n",
       " 'cluster': 2696,\n",
       " 'office': 4460,\n",
       " '365': 1570,\n",
       " 'quick': 4898,\n",
       " 'start': 5397,\n",
       " 'administrating': 2158,\n",
       " 'identities': 3701,\n",
       " '70': 1858,\n",
       " '346': 1511,\n",
       " 'adobe': 2163,\n",
       " 'analytics': 2217,\n",
       " 'dynamic': 3115,\n",
       " 'tag': 5544,\n",
       " 'management': 4122,\n",
       " 'brush': 2517,\n",
       " 'cc': 2597,\n",
       " 'brushes': 2519,\n",
       " 'campaign': 2561,\n",
       " 'v6': 5807,\n",
       " 'color': 2723,\n",
       " 'grading': 3540,\n",
       " 'tips': 5639,\n",
       " 'infusing': 3769,\n",
       " 'energy': 3195,\n",
       " 'illustrations': 3717,\n",
       " '2447': 1340,\n",
       " 'package': 4541,\n",
       " 'redesign': 4960,\n",
       " 'dps': 3081,\n",
       " 'wordpress': 6005,\n",
       " 'content': 2816,\n",
       " 'tshirt': 5722,\n",
       " 'photoshop': 4650,\n",
       " 'users': 5792,\n",
       " '338': 1498,\n",
       " 'media': 4197,\n",
       " 'encoder': 3188,\n",
       " 'muse': 4343,\n",
       " 'responsive': 5023,\n",
       " 'single': 5274,\n",
       " 'page': 4545,\n",
       " 'website': 5949,\n",
       " '2478': 1363,\n",
       " 'product': 4797,\n",
       " 'composite': 2762,\n",
       " 'fix': 3378,\n",
       " 'speedgrade': 5355,\n",
       " 'premiere': 4751,\n",
       " 'pro': 4785,\n",
       " '2466': 1355,\n",
       " 'stock': 5425,\n",
       " 'story': 5432,\n",
       " 'target': 5550,\n",
       " 'automated': 2362,\n",
       " 'personalization': 4624,\n",
       " 'using': 5794,\n",
       " 'shared': 5223,\n",
       " 'audiences': 2346,\n",
       " 'adodotnet': 2164,\n",
       " 'adopting': 2165,\n",
       " 'aws': 2375,\n",
       " 'watch': 5918,\n",
       " 'this': 5615,\n",
       " 'first': 3374,\n",
       " 'ads2': 2167,\n",
       " 'ads': 2166,\n",
       " 'part1': 4572,\n",
       " 'angular': 2228,\n",
       " 'workflows': 6013,\n",
       " '210': 1018,\n",
       " '260': 1425,\n",
       " 'iins': 3709,\n",
       " 'rigs': 5066,\n",
       " '2166': 1081,\n",
       " '2398': 1297,\n",
       " 'zbrush': 6070,\n",
       " '520': 1712,\n",
       " '879': 2022,\n",
       " 'clean': 2676,\n",
       " 'plate': 4684,\n",
       " '2176': 1089,\n",
       " 'compositing': 2763,\n",
       " '1216': 196,\n",
       " 'creature': 2871,\n",
       " 'painting': 4551,\n",
       " '2300': 1201,\n",
       " 'defensive': 2968,\n",
       " 'theories': 5606,\n",
       " '1624': 570,\n",
       " 'lightroom': 4030,\n",
       " '2273': 1174,\n",
       " 'editor': 3137,\n",
       " 'scripting': 5158,\n",
       " 'monodevelop': 4304,\n",
       " '1992': 906,\n",
       " 'git': 3519,\n",
       " 'js': 3921,\n",
       " 'jquery': 3919,\n",
       " 'pure': 4878,\n",
       " 'dom': 3067,\n",
       " '2352': 1253,\n",
       " 'machine': 4092,\n",
       " 'learning': 4008,\n",
       " 'encog': 3189,\n",
       " 'fur': 3476,\n",
       " 'menus': 4214,\n",
       " '263': 1428,\n",
       " 'revit': 5047,\n",
       " '1509': 466,\n",
       " 'network': 4391,\n",
       " 'administration': 2159,\n",
       " 'lfce': 4018,\n",
       " 'persistent': 4619,\n",
       " 'threats': 5620,\n",
       " 'dsc': 3102,\n",
       " 'production': 4798,\n",
       " '3dequalizer': 1602,\n",
       " '1679': 613,\n",
       " 'pyqt': 4884,\n",
       " '2122': 1041,\n",
       " 'python': 4886,\n",
       " 'redux': 4964,\n",
       " 'rigid': 5065,\n",
       " 'body': 2475,\n",
       " 'proxy': 4859,\n",
       " '2003': 919,\n",
       " 'rotoscope': 5087,\n",
       " 'keying': 3951,\n",
       " 'mocha': 4269,\n",
       " '730': 1887,\n",
       " 'routing': 5091,\n",
       " 'salt': 5114,\n",
       " 'master': 4159,\n",
       " 'shading': 5217,\n",
       " '1955': 872,\n",
       " 'shapes': 5222,\n",
       " '460': 1654,\n",
       " 'subsurface': 5475,\n",
       " 'scattering': 5133,\n",
       " 'mental': 4210,\n",
       " '817': 1968,\n",
       " 'vue': 5895,\n",
       " '2274': 1175,\n",
       " 'theming': 5605,\n",
       " 'drupal': 3098,\n",
       " 'unit': 5770,\n",
       " 'testing': 5588,\n",
       " 'film': 3358,\n",
       " 'tv': 5735,\n",
       " '2399': 1298,\n",
       " 'web': 5935,\n",
       " 'application': 2266,\n",
       " 'penetration': 4604,\n",
       " 'burp': 2538,\n",
       " 'suite': 5481,\n",
       " 'adv': 2168,\n",
       " 'humanik': 3676,\n",
       " '640': 1800,\n",
       " 'orchard': 4501,\n",
       " 'sql': 5371,\n",
       " 'oracle': 4499,\n",
       " 'win': 5981,\n",
       " 'debug': 2956,\n",
       " 'part': 4571,\n",
       " 'aem': 2175,\n",
       " 'authoring': 2356,\n",
       " 'developer': 3012,\n",
       " 'projects': 4826,\n",
       " 'affinity': 2177,\n",
       " 'designer': 2994,\n",
       " 'after': 2179,\n",
       " 'effects': 3150,\n",
       " 'updates': 5779,\n",
       " 'tilting': 5631,\n",
       " 'cinema': 2654,\n",
       " '4d': 1688,\n",
       " 'lite': 4048,\n",
       " 'animating': 2238,\n",
       " 'lip': 4043,\n",
       " 'sync': 5521,\n",
       " 'music': 4344,\n",
       " 'shape': 5221,\n",
       " 'layers': 3997,\n",
       " 'animator': 2241,\n",
       " 'tracking': 5682,\n",
       " 'paint': 4548,\n",
       " 'puppet': 4876,\n",
       " 'pin': 4663,\n",
       " 'tool': 5654,\n",
       " 'rotoscoping': 5088,\n",
       " 'expressions': 3291,\n",
       " 'made': 4098,\n",
       " 'easy': 3124,\n",
       " '725': 1881,\n",
       " 'team': 5559,\n",
       " 'transparency': 5699,\n",
       " 'blending': 2459,\n",
       " 'text': 5592,\n",
       " '2481': 1366,\n",
       " 'aged': 2181,\n",
       " '657': 1817,\n",
       " 'age': 2180,\n",
       " 'defying': 2974,\n",
       " 'portrait': 4719,\n",
       " 'retouching': 5037,\n",
       " '1502': 459,\n",
       " 'progression': 4819,\n",
       " '2026': 943,\n",
       " 'agile': 2184,\n",
       " 'estimation': 3241,\n",
       " 'families': 3326,\n",
       " 'living': 4050,\n",
       " 'change': 2624,\n",
       " 'for': 3416,\n",
       " 'one': 4470,\n",
       " 'project': 4821,\n",
       " 'real': 4933,\n",
       " 'release': 4983,\n",
       " 'requirements': 5009,\n",
       " 'idea': 3696,\n",
       " 'minimum': 4255,\n",
       " 'viable': 5838,\n",
       " 'practice': 4740,\n",
       " 'aging': 2185,\n",
       " 'characters': 2633,\n",
       " '143': 389,\n",
       " 'wood': 6003,\n",
       " 'metal': 4226,\n",
       " 'textures': 5596,\n",
       " '826': 1977,\n",
       " 'ai': 2187,\n",
       " 'algorithms': 2196,\n",
       " 'kismet': 3960,\n",
       " 'udk': 5755,\n",
       " '1248': 226,\n",
       " 'akka': 2190,\n",
       " 'dotnet': 3073,\n",
       " 'actor': 2142,\n",
       " 'model': 4277,\n",
       " 'concurrent': 2782,\n",
       " 'applications': 2267,\n",
       " 'distributed': 3049,\n",
       " 'systems': 5532,\n",
       " 'clustering': 2697,\n",
       " 'reactive': 4929,\n",
       " 'wpf': 6026,\n",
       " 'implementing': 3733,\n",
       " 'logging': 4061,\n",
       " 'dependency': 2986,\n",
       " 'injection': 3773,\n",
       " 'improving': 3739,\n",
       " 'messaging': 4223,\n",
       " 'throughput': 5624,\n",
       " 'persistence': 4618,\n",
       " 'akkadotnet': 2191,\n",
       " 'signalr': 5256,\n",
       " 'stateful': 5404,\n",
       " 'spas': 5346,\n",
       " 'alan': 2192,\n",
       " 'turing': 5729,\n",
       " 'wonderful': 6002,\n",
       " 'algorithmics': 2195,\n",
       " 'recommendation': 4951,\n",
       " 'alien': 2198,\n",
       " '682': 1841,\n",
       " 'all': 2200,\n",
       " '1661': 600,\n",
       " 'alm': 2203,\n",
       " 'developers': 3013,\n",
       " 'altering': 2207,\n",
       " 'weight': 5955,\n",
       " '1968': 885,\n",
       " 'alternate': 2208,\n",
       " 'uses': 5793,\n",
       " 'modo': 4286,\n",
       " '242': 1316,\n",
       " 'alternative': 2209,\n",
       " 'hair': 3594,\n",
       " '816': 1967,\n",
       " 'amazing': 2211,\n",
       " 'browser': 2515,\n",
       " 'amazon': 2212,\n",
       " 'echo': 3126,\n",
       " 'developing': 3014,\n",
       " 'alexa': 2194,\n",
       " 'skills': 5292,\n",
       " 'rds': 4926,\n",
       " 'services': 5204,\n",
       " 'databases': 2933,\n",
       " 'in': 3740,\n",
       " 'depth': 2991,\n",
       " 'an': 2214,\n",
       " 'abandoned': 2107,\n",
       " 'city': 2669,\n",
       " '916': 2055,\n",
       " 'forest': 3423,\n",
       " 'entity': 3216,\n",
       " 'krakatoa': 3973,\n",
       " 'fusion': 3479,\n",
       " '1506': 463,\n",
       " 'adventure': 2170,\n",
       " 'puzzle': 4881,\n",
       " '1519': 475,\n",
       " 'adaptive': 2146,\n",
       " 'layout': 3998,\n",
       " 'axure': 2377,\n",
       " '1757': 685,\n",
       " 'african': 2178,\n",
       " 'tribal': 5711,\n",
       " 'mask': 4153,\n",
       " 'mudbox': 4332,\n",
       " '2309': 1209,\n",
       " '1134': 124,\n",
       " 'helmet': 3629,\n",
       " '2308': 1208,\n",
       " 'alpha': 2204,\n",
       " 'pack': 4540,\n",
       " '2192': 1101,\n",
       " 'analyzing': 2220,\n",
       " 'malware': 4118,\n",
       " 'infections': 3758,\n",
       " 'animated': 2237,\n",
       " 'paper': 4562,\n",
       " 'folding': 3407,\n",
       " 'effect': 3146,\n",
       " '1878': 798,\n",
       " 'typeface': 5744,\n",
       " '1568': 521,\n",
       " 'armored': 2294,\n",
       " 'beast': 2411,\n",
       " '1300': 275,\n",
       " 'knight': 3966,\n",
       " '1362': 335,\n",
       " 'assault': 2324,\n",
       " 'rifle': 5059,\n",
       " '681': 1840,\n",
       " 'ancient': 2222,\n",
       " 'temple': 5575,\n",
       " '1381': 352,\n",
       " 'android': 2224,\n",
       " '4whatsnew': 1692,\n",
       " 'actionbar': 2137,\n",
       " 'animations': 2240,\n",
       " 'basics': 2403,\n",
       " 'beginner': 2416,\n",
       " 'inventor': 3836,\n",
       " 'java': 3882,\n",
       " 'platform': 4685,\n",
       " 'overview': 4531,\n",
       " 'custom': 2902,\n",
       " 'components': 2760,\n",
       " 'database': 2932,\n",
       " 'sqlite': 5373,\n",
       " 'binding': 2445,\n",
       " 'designing': 2996,\n",
       " 'layouts': 3999,\n",
       " 'multiple': 4337,\n",
       " 'device': 3016,\n",
       " 'screens': 5154,\n",
       " 'mindset': 4252,\n",
       " 'dreams': 3090,\n",
       " 'widgets': 5971,\n",
       " 'notifications': 4427,\n",
       " 'enhancing': 3206,\n",
       " 'experience': 3270,\n",
       " 'exposing': 3286,\n",
       " 'information': 3764,\n",
       " 'outside': 4524,\n",
       " 'file': 3355,\n",
       " 'firebase': 3370,\n",
       " 'cloud': 2687,\n",
       " 'storage': 5427,\n",
       " 'email': 3174,\n",
       " 'authentication': 2355,\n",
       " 'verification': 5831,\n",
       " 'fragments': 3447,\n",
       " 'accessibility': 2121,\n",
       " 'activities': 2141,\n",
       " 'broadcast': 2511,\n",
       " 'receivers': 4944,\n",
       " 'intents': 3804,\n",
       " 'localization': 4054,\n",
       " 'internationalization': 3817,\n",
       " 'realm': 4937,\n",
       " 'preferences': 4747,\n",
       " 'styles': 5464,\n",
       " 'themes': 5604,\n",
       " 'intro': 3830,\n",
       " 'leveraging': 4017,\n",
       " 'power': 4733,\n",
       " 'location': 4055,\n",
       " 'based': 2399,\n",
       " 'apps': 2273,\n",
       " 'managing': 4125,\n",
       " 'material': 4168,\n",
       " 'support': 5487,\n",
       " 'tabs': 5539,\n",
       " 'performance': 4611,\n",
       " 'barriers': 2397,\n",
       " 'overcoming': 4527,\n",
       " 'common': 2740,\n",
       " 'video': 5841,\n",
       " 'processes': 4793,\n",
       " 'threads': 5618,\n",
       " 'connected': 2795,\n",
       " 'ui': 5757,\n",
       " 'tests': 5589,\n",
       " 'espresso': 3235,\n",
       " 'xamarin': 6038,\n",
       " 'from': 3459,\n",
       " 'store': 5428,\n",
       " 'electronics': 3163,\n",
       " 'ad': 2143,\n",
       " '1137': 127,\n",
       " 'newsletter': 4400,\n",
       " 'dreamweaver': 3091,\n",
       " '1755': 683,\n",
       " 'endless': 3192,\n",
       " 'runner': 5099,\n",
       " 'mobile': 4265,\n",
       " '1764': 690,\n",
       " 'end': 3191,\n",
       " 'look': 4070,\n",
       " 'update': 5778,\n",
       " 'manage': 4120,\n",
       " 'state': 5403,\n",
       " 'prime': 4774,\n",
       " 'ng': 4403,\n",
       " 'aspnetcore': 2320,\n",
       " 'restful': 5026,\n",
       " 'best': 2429,\n",
       " 'practices': 4741,\n",
       " 'spa': 5338,\n",
       " 'framework': 3452,\n",
       " 'business': 2540,\n",
       " 'cli': 2677,\n",
       " 'angularfire2': 2231,\n",
       " 'angularjs': 2232,\n",
       " 'directive': 3037,\n",
       " 'bootstrap': 2484,\n",
       " 'mvc5': 4351,\n",
       " 'get': 3512,\n",
       " 'line': 4038,\n",
       " 'of': 4459,\n",
       " 'ngmock': 4405,\n",
       " 'patterns': 4590,\n",
       " 'code': 2708,\n",
       " 'php': 4651,\n",
       " 'site': 5278,\n",
       " 'playbook': 4689,\n",
       " 'svg': 5499,\n",
       " 'scalable': 5126,\n",
       " 'graphs': 3550,\n",
       " 'nodejs': 4415,\n",
       " 'typescript': 5747,\n",
       " 'angularui': 2233,\n",
       " 'api': 2256,\n",
       " 'front': 3460,\n",
       " 'back': 2381,\n",
       " 'illustrated': 3714,\n",
       " 'title': 5642,\n",
       " 'sequence': 5194,\n",
       " '1938': 857,\n",
       " 'animal': 2234,\n",
       " '2224': 1132,\n",
       " 'substance': 5474,\n",
       " 'painter': 4550,\n",
       " 'animate': 2236,\n",
       " 'air': 2188,\n",
       " 'desktop': 3001,\n",
       " 'walk': 5904,\n",
       " 'cycle': 2917,\n",
       " 'anime': 2243,\n",
       " 'syncing': 5522,\n",
       " '1516': 472,\n",
       " 'turntable': 5732,\n",
       " 'ae': 2174,\n",
       " '815': 1966,\n",
       " 'social': 5313,\n",
       " 'banners': 2395,\n",
       " 'flash': 3385,\n",
       " '1857': 777,\n",
       " 'rig': 5061,\n",
       " 'bouncing': 2491,\n",
       " 'ball': 2392,\n",
       " '2376': 1277,\n",
       " '1600': 551,\n",
       " 'retro': 5039,\n",
       " 'logo': 4065,\n",
       " '1042': 43,\n",
       " 'mechanics': 4196,\n",
       " '1488': 442,\n",
       " 'acrobatic': 2132,\n",
       " 'fight': 3352,\n",
       " '1478': 434,\n",
       " 'between': 2432,\n",
       " 'ik': 3711,\n",
       " 'fk': 3381,\n",
       " '745': 1903,\n",
       " 'burglar': 2536,\n",
       " '1682': 615,\n",
       " '3485': 1519,\n",
       " 'eyes': 3309,\n",
       " '1996': 910,\n",
       " 'cellular': 2610,\n",
       " 'behavior': 2420,\n",
       " '1116': 109,\n",
       " 'futuristic': 3481,\n",
       " '1112': 105,\n",
       " 'artaephotoshop': 2300,\n",
       " 'storyboards': 5435,\n",
       " '1814': 738,\n",
       " 'creatures': 2872,\n",
       " 'insects': 3781,\n",
       " '3523': 1534,\n",
       " 'dialogue': 3025,\n",
       " '1291': 266,\n",
       " 'extreme': 3306,\n",
       " 'inbetweens': 3741,\n",
       " 'smears': 5307,\n",
       " '1127': 118,\n",
       " '775': 1930,\n",
       " 'forces': 3420,\n",
       " 'nature': 4368,\n",
       " '1508': 465,\n",
       " 'biped': 2447,\n",
       " '1775': 699,\n",
       " '475': 1669,\n",
       " 'geometric': 3509,\n",
       " '1213': 193,\n",
       " 'grappling': 3551,\n",
       " 'hook': 3652,\n",
       " '814': 1965,\n",
       " 'logos': 4067,\n",
       " '326': 1489,\n",
       " 'infographic': 3762,\n",
       " '1149': 136,\n",
       " 'particles': 4579,\n",
       " '1179': 164,\n",
       " 'matte': 4174,\n",
       " '1289': 263,\n",
       " 'mountain': 4318,\n",
       " '1453': 412,\n",
       " 'multi': 4333,\n",
       " 'plane': 4678,\n",
       " '1932': 851,\n",
       " 'next': 4401,\n",
       " 'gen': 3501,\n",
       " '3480': 1517,\n",
       " 'transitions': 5697,\n",
       " '798': 1951,\n",
       " '444': 1639,\n",
       " '446': 1641,\n",
       " '1142': 129,\n",
       " 'quadrupeds': 4892,\n",
       " '1498': 453,\n",
       " '710': 1866,\n",
       " '731': 1888,\n",
       " '1505': 462,\n",
       " 'short': 5243,\n",
       " 'unreal': 5775,\n",
       " 'engine': 3198,\n",
       " '2359': 1260,\n",
       " 'time': 5633,\n",
       " 'warps': 5916,\n",
       " '1055': 55,\n",
       " 'vector': 5826,\n",
       " 'camera': 2560,\n",
       " '882': 2026,\n",
       " 'blender': 2458,\n",
       " '2311': 1211,\n",
       " 'walking': 5905,\n",
       " 'quadruped': 4891,\n",
       " 'premium': 4755,\n",
       " '2321': 1220,\n",
       " 'ask': 2312,\n",
       " 'dts': 3105,\n",
       " '971': 2096,\n",
       " 'blocking': 2464,\n",
       " '1073': 67,\n",
       " '1071': 65,\n",
       " '1715': 647,\n",
       " 'bounce': 2490,\n",
       " '2346': 1247,\n",
       " 'varying': 5817,\n",
       " 'weights': 5957,\n",
       " '2348': 1249,\n",
       " '3577': 1555,\n",
       " 'polishing': 4705,\n",
       " '1010': 16,\n",
       " '1031': 32,\n",
       " '1012': 18,\n",
       " 'retargeting': 5032,\n",
       " '602': 1771,\n",
       " '2223': 1131,\n",
       " 'tricks': 5712,\n",
       " '173': 661,\n",
       " 'cs6': 2884,\n",
       " '1060': 56,\n",
       " 'infectious': 3759,\n",
       " 'skin': 5293,\n",
       " 'parasite': 4568,\n",
       " '1551': 507,\n",
       " 'walkthrough': 5906,\n",
       " '2157': 1073,\n",
       " 'optimized': 4495,\n",
       " 'arch': 2277,\n",
       " 'visualization': 5861,\n",
       " '1359': 331,\n",
       " 'ansible': 2246,\n",
       " 'windows': 5988,\n",
       " 'ansys': 2247,\n",
       " 'aop': 2252,\n",
       " 'apache': 2254,\n",
       " 'ant': 2248,\n",
       " 'camel': 2559,\n",
       " 'flink': 3390,\n",
       " 'stream': 5440,\n",
       " 'processing': 4794,\n",
       " 'kafka': 3936,\n",
       " 'pig': 4662,\n",
       " 'transformations': 5692,\n",
       " 'spark': 5344,\n",
       " 'beginning': 2418,\n",
       " 'exploration': 3279,\n",
       " 'analysis': 2215,\n",
       " 'fast': 3332,\n",
       " 'handling': 3602,\n",
       " 'streaming': 5441,\n",
       " 'storm': 5431,\n",
       " 'applying': 2269,\n",
       " 'install': 3790,\n",
       " 'config': 2787,\n",
       " 'apex': 2255,\n",
       " 'absolute': 2113,\n",
       " 'coding': 2710,\n",
       " 'salesforce': 5113,\n",
       " 'fundamental': 3474,\n",
       " 'soql': 5329,\n",
       " 'hp': 3665,\n",
       " 'unified': 5768,\n",
       " 'functional': 3469,\n",
       " 'appfabriccache': 2263,\n",
       " 'apple': 2264,\n",
       " 'instrumentation': 3794,\n",
       " 'log4net': 4060,\n",
       " 'counters': 2848,\n",
       " 'layer': 3994,\n",
       " 'protocols': 4846,\n",
       " 'applied': 2268,\n",
       " 'azure': 2379,\n",
       " 'image': 3721,\n",
       " '1756': 684,\n",
       " 'post': 4725,\n",
       " 'silhouettefx': 5259,\n",
       " '2193': 1102,\n",
       " 'concrete': 2780,\n",
       " '2343': 1244,\n",
       " 'repackaging': 4998,\n",
       " 'orca': 4500,\n",
       " 'approval': 2272,\n",
       " 'archicad': 2280,\n",
       " 'filters': 3362,\n",
       " 'scheduling': 5141,\n",
       " 'architecting': 2282,\n",
       " 'solutions': 5323,\n",
       " '534': 1724,\n",
       " 'infrastructure': 3767,\n",
       " 'networking': 4392,\n",
       " 'monitoring': 4302,\n",
       " 'continuity': 2818,\n",
       " 'secure': 5177,\n",
       " 'resources': 5020,\n",
       " 'spring': 5366,\n",
       " 'architectural': 2284,\n",
       " 'detailing': 3008,\n",
       " '215': 1066,\n",
       " 'interiors': 3813,\n",
       " '1856': 776,\n",
       " 'previsualization': 4770,\n",
       " '281': 1447,\n",
       " '75': 1907,\n",
       " '180': 725,\n",
       " 'visualizations': 5862,\n",
       " 'enlighten': 3207,\n",
       " '2141': 1057,\n",
       " 'arduino': 2290,\n",
       " 'are': 2291,\n",
       " 'vol': 5874,\n",
       " 'mgmt': 4233,\n",
       " 'exterior': 3300,\n",
       " 'strategies': 5438,\n",
       " 'artist': 2304,\n",
       " '765': 1922,\n",
       " '584': 1762,\n",
       " '59': 1764,\n",
       " 'smoke': 5308,\n",
       " '923': 2062,\n",
       " 'artistic': 2305,\n",
       " '67': 1827,\n",
       " 'playing': 4691,\n",
       " 'cards': 2574,\n",
       " '2235': 1142,\n",
       " 'water': 5920,\n",
       " 'drops': 3097,\n",
       " '1418': 380,\n",
       " 'artists': 2306,\n",
       " '156': 513,\n",
       " 'mel': 4204,\n",
       " '1326': 297,\n",
       " '1405': 369,\n",
       " 'renderman': 4996,\n",
       " '174': 669,\n",
       " 'architecture': 2285,\n",
       " 'asa': 2311,\n",
       " 'threat': 5619,\n",
       " '206': 976,\n",
       " 'senss': 5191,\n",
       " '928': 2066,\n",
       " '936': 2073,\n",
       " '973': 2098,\n",
       " '981': 2100,\n",
       " 'aspdotnet4': 2315,\n",
       " 'delta': 2978,\n",
       " 'aspdotnet': 2314,\n",
       " 'ef7': 3143,\n",
       " 'asp': 2313,\n",
       " 'dot': 3071,\n",
       " 'net': 4386,\n",
       " 'topics': 5667,\n",
       " 'ajax': 2189,\n",
       " 'jscript': 3923,\n",
       " 'bestpractices': 2430,\n",
       " 'core': 2838,\n",
       " 'upgrading': 5782,\n",
       " 'aspdotnetcore': 2316,\n",
       " 'efcore': 3145,\n",
       " 'securing': 5178,\n",
       " 'deep': 2965,\n",
       " 'dive': 3051,\n",
       " 'migrating': 4244,\n",
       " 'legacy': 4010,\n",
       " 'http': 3670,\n",
       " 'modules': 4291,\n",
       " 'msbuild': 4327,\n",
       " 'tooling': 5657,\n",
       " 'mvc': 4347,\n",
       " 'enterprise': 3211,\n",
       " 'oauth': 4444,\n",
       " 'oauth2': 4445,\n",
       " 'openid': 4480,\n",
       " 'connect': 2794,\n",
       " 'razor': 4925,\n",
       " 'helpers': 3632,\n",
       " 'identity': 3702,\n",
       " 'mvc2': 4348,\n",
       " 'mvc3': 4349,\n",
       " 'scratch': 5151,\n",
       " 'umbraco': 5761,\n",
       " 'odata': 4458,\n",
       " 'v4': 5805,\n",
       " 'secrets': 5175,\n",
       " 'revealed': 5042,\n",
       " 'webforms4': 5940,\n",
       " 'xml': 6048,\n",
       " 'reporting': 5004,\n",
       " 'aspect': 2317,\n",
       " 'oriented': 4509,\n",
       " 'aspectj': 2318,\n",
       " 'aspnet': 2319,\n",
       " ...}"
      ]
     },
     "execution_count": 18,
     "metadata": {},
     "output_type": "execute_result"
    }
   ],
   "source": [
    "vec.vocabulary_"
   ]
  },
  {
   "cell_type": "code",
   "execution_count": 6,
   "metadata": {},
   "outputs": [
    {
     "data": {
      "text/html": [
       "<div>\n",
       "<style scoped>\n",
       "    .dataframe tbody tr th:only-of-type {\n",
       "        vertical-align: middle;\n",
       "    }\n",
       "\n",
       "    .dataframe tbody tr th {\n",
       "        vertical-align: top;\n",
       "    }\n",
       "\n",
       "    .dataframe thead th {\n",
       "        text-align: right;\n",
       "    }\n",
       "</style>\n",
       "<table border=\"1\" class=\"dataframe\">\n",
       "  <thead>\n",
       "    <tr style=\"text-align: right;\">\n",
       "      <th></th>\n",
       "      <th>course_id</th>\n",
       "      <th>course_tags</th>\n",
       "    </tr>\n",
       "  </thead>\n",
       "  <tbody>\n",
       "    <tr>\n",
       "      <th>983</th>\n",
       "      <td>artists-guide-mel-3163</td>\n",
       "      <td>NaN</td>\n",
       "    </tr>\n",
       "  </tbody>\n",
       "</table>\n",
       "</div>"
      ],
      "text/plain": [
       "                  course_id course_tags\n",
       "983  artists-guide-mel-3163         NaN"
      ]
     },
     "execution_count": 6,
     "metadata": {},
     "output_type": "execute_result"
    }
   ],
   "source": [
    "#courses.groupby('course_id').sum()a\n",
    "courses[courses['course_id']=='artists-guide-mel-3163']"
   ]
  },
  {
   "cell_type": "code",
   "execution_count": 7,
   "metadata": {},
   "outputs": [],
   "source": [
    "courses_wide = pd.get_dummies(courses, columns=['course_id'])"
   ]
  },
  {
   "cell_type": "code",
   "execution_count": 8,
   "metadata": {},
   "outputs": [
    {
     "data": {
      "text/plain": [
       "(11337, 5943)"
      ]
     },
     "execution_count": 8,
     "metadata": {},
     "output_type": "execute_result"
    }
   ],
   "source": [
    "courses_wide.shape"
   ]
  },
  {
   "cell_type": "code",
   "execution_count": 9,
   "metadata": {},
   "outputs": [],
   "source": [
    "#courses_wide.groupby('')"
   ]
  },
  {
   "cell_type": "code",
   "execution_count": 10,
   "metadata": {},
   "outputs": [
    {
     "data": {
      "text/html": [
       "<div>\n",
       "<style scoped>\n",
       "    .dataframe tbody tr th:only-of-type {\n",
       "        vertical-align: middle;\n",
       "    }\n",
       "\n",
       "    .dataframe tbody tr th {\n",
       "        vertical-align: top;\n",
       "    }\n",
       "\n",
       "    .dataframe thead th {\n",
       "        text-align: right;\n",
       "    }\n",
       "</style>\n",
       "<table border=\"1\" class=\"dataframe\">\n",
       "  <thead>\n",
       "    <tr style=\"text-align: right;\">\n",
       "      <th></th>\n",
       "      <th>course_id</th>\n",
       "      <th>course_tags</th>\n",
       "    </tr>\n",
       "  </thead>\n",
       "  <tbody>\n",
       "    <tr>\n",
       "      <th>0</th>\n",
       "      <td>12-principles-animation-toon-boom-harmony-1475</td>\n",
       "      <td>2d-animation</td>\n",
       "    </tr>\n",
       "    <tr>\n",
       "      <th>1</th>\n",
       "      <td>2d-racing-game-series-unity-5-1312</td>\n",
       "      <td>game-design</td>\n",
       "    </tr>\n",
       "    <tr>\n",
       "      <th>2</th>\n",
       "      <td>2d-racing-games-unity-volume-2-1286</td>\n",
       "      <td>game-art</td>\n",
       "    </tr>\n",
       "    <tr>\n",
       "      <th>3</th>\n",
       "      <td>2d-racing-games-unity-volume-2-1286</td>\n",
       "      <td>digital-painting</td>\n",
       "    </tr>\n",
       "    <tr>\n",
       "      <th>4</th>\n",
       "      <td>2d-racing-games-unity-volume-2-1286</td>\n",
       "      <td>image-editing</td>\n",
       "    </tr>\n",
       "    <tr>\n",
       "      <th>...</th>\n",
       "      <td>...</td>\n",
       "      <td>...</td>\n",
       "    </tr>\n",
       "    <tr>\n",
       "      <th>11332</th>\n",
       "      <td>zombie-photo-manipulation-techniques-photoshop...</td>\n",
       "      <td>image-editing</td>\n",
       "    </tr>\n",
       "    <tr>\n",
       "      <th>11333</th>\n",
       "      <td>z-os-mainframe-introduction</td>\n",
       "      <td>mainframe</td>\n",
       "    </tr>\n",
       "    <tr>\n",
       "      <th>11334</th>\n",
       "      <td>z-os-tso-ispf-environment-introduction</td>\n",
       "      <td>mainframe</td>\n",
       "    </tr>\n",
       "    <tr>\n",
       "      <th>11335</th>\n",
       "      <td>zsphere-modeling-zbrush-3505</td>\n",
       "      <td>3d-modeling</td>\n",
       "    </tr>\n",
       "    <tr>\n",
       "      <th>11336</th>\n",
       "      <td>zsphere-modeling-zbrush-3505</td>\n",
       "      <td>3d-sculpting</td>\n",
       "    </tr>\n",
       "  </tbody>\n",
       "</table>\n",
       "<p>11337 rows × 2 columns</p>\n",
       "</div>"
      ],
      "text/plain": [
       "                                               course_id       course_tags\n",
       "0         12-principles-animation-toon-boom-harmony-1475      2d-animation\n",
       "1                     2d-racing-game-series-unity-5-1312       game-design\n",
       "2                    2d-racing-games-unity-volume-2-1286          game-art\n",
       "3                    2d-racing-games-unity-volume-2-1286  digital-painting\n",
       "4                    2d-racing-games-unity-volume-2-1286     image-editing\n",
       "...                                                  ...               ...\n",
       "11332  zombie-photo-manipulation-techniques-photoshop...     image-editing\n",
       "11333                        z-os-mainframe-introduction         mainframe\n",
       "11334             z-os-tso-ispf-environment-introduction         mainframe\n",
       "11335                       zsphere-modeling-zbrush-3505       3d-modeling\n",
       "11336                       zsphere-modeling-zbrush-3505      3d-sculpting\n",
       "\n",
       "[11337 rows x 2 columns]"
      ]
     },
     "execution_count": 10,
     "metadata": {},
     "output_type": "execute_result"
    }
   ],
   "source": [
    "courses"
   ]
  },
  {
   "cell_type": "code",
   "execution_count": null,
   "metadata": {},
   "outputs": [],
   "source": []
  },
  {
   "cell_type": "code",
   "execution_count": 11,
   "metadata": {},
   "outputs": [],
   "source": [
    "courses=courses_wide.copy()"
   ]
  },
  {
   "cell_type": "code",
   "execution_count": 12,
   "metadata": {},
   "outputs": [
    {
     "data": {
      "text/plain": [
       "5942"
      ]
     },
     "execution_count": 12,
     "metadata": {},
     "output_type": "execute_result"
    }
   ],
   "source": [
    "course_titles=[]\n",
    "course_titles=courses.drop(columns='course_tags').columns\n",
    "len(course_titles)"
   ]
  },
  {
   "cell_type": "code",
   "execution_count": null,
   "metadata": {},
   "outputs": [],
   "source": []
  },
  {
   "cell_type": "code",
   "execution_count": null,
   "metadata": {},
   "outputs": [],
   "source": []
  },
  {
   "cell_type": "code",
   "execution_count": 13,
   "metadata": {},
   "outputs": [
    {
     "name": "stdout",
     "output_type": "stream",
     "text": [
      "assess.shape is (6571, 4)\n"
     ]
    },
    {
     "data": {
      "text/html": [
       "<div>\n",
       "<style scoped>\n",
       "    .dataframe tbody tr th:only-of-type {\n",
       "        vertical-align: middle;\n",
       "    }\n",
       "\n",
       "    .dataframe tbody tr th {\n",
       "        vertical-align: top;\n",
       "    }\n",
       "\n",
       "    .dataframe thead th {\n",
       "        text-align: right;\n",
       "    }\n",
       "</style>\n",
       "<table border=\"1\" class=\"dataframe\">\n",
       "  <thead>\n",
       "    <tr style=\"text-align: right;\">\n",
       "      <th></th>\n",
       "      <th>user_handle</th>\n",
       "      <th>assessment_tag</th>\n",
       "      <th>user_assessment_date</th>\n",
       "      <th>user_assessment_score</th>\n",
       "    </tr>\n",
       "  </thead>\n",
       "  <tbody>\n",
       "    <tr>\n",
       "      <th>0</th>\n",
       "      <td>7487</td>\n",
       "      <td>angular-js</td>\n",
       "      <td>2017-08-11 19:03:38</td>\n",
       "      <td>134</td>\n",
       "    </tr>\n",
       "    <tr>\n",
       "      <th>1</th>\n",
       "      <td>7487</td>\n",
       "      <td>css</td>\n",
       "      <td>2017-08-11 20:09:56</td>\n",
       "      <td>38</td>\n",
       "    </tr>\n",
       "    <tr>\n",
       "      <th>2</th>\n",
       "      <td>7487</td>\n",
       "      <td>html5</td>\n",
       "      <td>2017-07-31 18:59:37</td>\n",
       "      <td>84</td>\n",
       "    </tr>\n",
       "    <tr>\n",
       "      <th>3</th>\n",
       "      <td>7487</td>\n",
       "      <td>java</td>\n",
       "      <td>2017-07-31 18:49:27</td>\n",
       "      <td>149</td>\n",
       "    </tr>\n",
       "    <tr>\n",
       "      <th>4</th>\n",
       "      <td>7487</td>\n",
       "      <td>javascript</td>\n",
       "      <td>2017-07-31 19:05:03</td>\n",
       "      <td>92</td>\n",
       "    </tr>\n",
       "  </tbody>\n",
       "</table>\n",
       "</div>"
      ],
      "text/plain": [
       "   user_handle assessment_tag user_assessment_date  user_assessment_score\n",
       "0         7487     angular-js  2017-08-11 19:03:38                    134\n",
       "1         7487            css  2017-08-11 20:09:56                     38\n",
       "2         7487          html5  2017-07-31 18:59:37                     84\n",
       "3         7487           java  2017-07-31 18:49:27                    149\n",
       "4         7487     javascript  2017-07-31 19:05:03                     92"
      ]
     },
     "execution_count": 13,
     "metadata": {},
     "output_type": "execute_result"
    }
   ],
   "source": [
    "assess = pd.read_csv(bucket +'data/user_assessment_scores.csv')\n",
    "print(\"assess.shape is\", assess.shape)\n",
    "assess.head()"
   ]
  },
  {
   "cell_type": "code",
   "execution_count": 14,
   "metadata": {},
   "outputs": [
    {
     "name": "stdout",
     "output_type": "stream",
     "text": [
      "<class 'pandas.core.frame.DataFrame'>\n",
      "RangeIndex: 6571 entries, 0 to 6570\n",
      "Data columns (total 4 columns):\n",
      " #   Column                 Non-Null Count  Dtype \n",
      "---  ------                 --------------  ----- \n",
      " 0   user_handle            6571 non-null   int64 \n",
      " 1   assessment_tag         6571 non-null   object\n",
      " 2   user_assessment_date   6571 non-null   object\n",
      " 3   user_assessment_score  6571 non-null   int64 \n",
      "dtypes: int64(2), object(2)\n",
      "memory usage: 205.5+ KB\n"
     ]
    }
   ],
   "source": [
    "assess.info()"
   ]
  },
  {
   "cell_type": "code",
   "execution_count": 15,
   "metadata": {},
   "outputs": [
    {
     "data": {
      "text/html": [
       "<div>\n",
       "<style scoped>\n",
       "    .dataframe tbody tr th:only-of-type {\n",
       "        vertical-align: middle;\n",
       "    }\n",
       "\n",
       "    .dataframe tbody tr th {\n",
       "        vertical-align: top;\n",
       "    }\n",
       "\n",
       "    .dataframe thead th {\n",
       "        text-align: right;\n",
       "    }\n",
       "</style>\n",
       "<table border=\"1\" class=\"dataframe\">\n",
       "  <thead>\n",
       "    <tr style=\"text-align: right;\">\n",
       "      <th></th>\n",
       "      <th>user_handle</th>\n",
       "      <th>assessment_tag</th>\n",
       "      <th>user_assessment_date</th>\n",
       "      <th>user_assessment_score</th>\n",
       "    </tr>\n",
       "  </thead>\n",
       "  <tbody>\n",
       "    <tr>\n",
       "      <th>0</th>\n",
       "      <td>7487</td>\n",
       "      <td>angular-js</td>\n",
       "      <td>2017-08-11 19:03:38</td>\n",
       "      <td>134</td>\n",
       "    </tr>\n",
       "    <tr>\n",
       "      <th>1</th>\n",
       "      <td>7487</td>\n",
       "      <td>css</td>\n",
       "      <td>2017-08-11 20:09:56</td>\n",
       "      <td>38</td>\n",
       "    </tr>\n",
       "    <tr>\n",
       "      <th>2</th>\n",
       "      <td>7487</td>\n",
       "      <td>html5</td>\n",
       "      <td>2017-07-31 18:59:37</td>\n",
       "      <td>84</td>\n",
       "    </tr>\n",
       "    <tr>\n",
       "      <th>3</th>\n",
       "      <td>7487</td>\n",
       "      <td>java</td>\n",
       "      <td>2017-07-31 18:49:27</td>\n",
       "      <td>149</td>\n",
       "    </tr>\n",
       "    <tr>\n",
       "      <th>4</th>\n",
       "      <td>7487</td>\n",
       "      <td>javascript</td>\n",
       "      <td>2017-07-31 19:05:03</td>\n",
       "      <td>92</td>\n",
       "    </tr>\n",
       "    <tr>\n",
       "      <th>...</th>\n",
       "      <td>...</td>\n",
       "      <td>...</td>\n",
       "      <td>...</td>\n",
       "      <td>...</td>\n",
       "    </tr>\n",
       "    <tr>\n",
       "      <th>6566</th>\n",
       "      <td>958</td>\n",
       "      <td>node-js</td>\n",
       "      <td>2017-04-26 20:36:35</td>\n",
       "      <td>245</td>\n",
       "    </tr>\n",
       "    <tr>\n",
       "      <th>6567</th>\n",
       "      <td>8887</td>\n",
       "      <td>angular-js</td>\n",
       "      <td>2016-09-30 22:30:48</td>\n",
       "      <td>221</td>\n",
       "    </tr>\n",
       "    <tr>\n",
       "      <th>6568</th>\n",
       "      <td>8887</td>\n",
       "      <td>docker</td>\n",
       "      <td>2017-03-24 17:55:06</td>\n",
       "      <td>148</td>\n",
       "    </tr>\n",
       "    <tr>\n",
       "      <th>6569</th>\n",
       "      <td>8887</td>\n",
       "      <td>html5</td>\n",
       "      <td>2017-02-10 16:38:53</td>\n",
       "      <td>241</td>\n",
       "    </tr>\n",
       "    <tr>\n",
       "      <th>6570</th>\n",
       "      <td>4440</td>\n",
       "      <td>c-sharp</td>\n",
       "      <td>2017-09-04 15:58:48</td>\n",
       "      <td>126</td>\n",
       "    </tr>\n",
       "  </tbody>\n",
       "</table>\n",
       "<p>6571 rows × 4 columns</p>\n",
       "</div>"
      ],
      "text/plain": [
       "      user_handle assessment_tag user_assessment_date  user_assessment_score\n",
       "0            7487     angular-js  2017-08-11 19:03:38                    134\n",
       "1            7487            css  2017-08-11 20:09:56                     38\n",
       "2            7487          html5  2017-07-31 18:59:37                     84\n",
       "3            7487           java  2017-07-31 18:49:27                    149\n",
       "4            7487     javascript  2017-07-31 19:05:03                     92\n",
       "...           ...            ...                  ...                    ...\n",
       "6566          958        node-js  2017-04-26 20:36:35                    245\n",
       "6567         8887     angular-js  2016-09-30 22:30:48                    221\n",
       "6568         8887         docker  2017-03-24 17:55:06                    148\n",
       "6569         8887          html5  2017-02-10 16:38:53                    241\n",
       "6570         4440        c-sharp  2017-09-04 15:58:48                    126\n",
       "\n",
       "[6571 rows x 4 columns]"
      ]
     },
     "execution_count": 15,
     "metadata": {},
     "output_type": "execute_result"
    }
   ],
   "source": [
    "assess"
   ]
  },
  {
   "cell_type": "code",
   "execution_count": 16,
   "metadata": {},
   "outputs": [
    {
     "name": "stdout",
     "output_type": "stream",
     "text": [
      "views.shape is (249238, 6)\n"
     ]
    },
    {
     "data": {
      "text/html": [
       "<div>\n",
       "<style scoped>\n",
       "    .dataframe tbody tr th:only-of-type {\n",
       "        vertical-align: middle;\n",
       "    }\n",
       "\n",
       "    .dataframe tbody tr th {\n",
       "        vertical-align: top;\n",
       "    }\n",
       "\n",
       "    .dataframe thead th {\n",
       "        text-align: right;\n",
       "    }\n",
       "</style>\n",
       "<table border=\"1\" class=\"dataframe\">\n",
       "  <thead>\n",
       "    <tr style=\"text-align: right;\">\n",
       "      <th></th>\n",
       "      <th>user_handle</th>\n",
       "      <th>view_date</th>\n",
       "      <th>course_id</th>\n",
       "      <th>author_handle</th>\n",
       "      <th>level</th>\n",
       "      <th>view_time_seconds</th>\n",
       "    </tr>\n",
       "  </thead>\n",
       "  <tbody>\n",
       "    <tr>\n",
       "      <th>0</th>\n",
       "      <td>1</td>\n",
       "      <td>2017-06-27</td>\n",
       "      <td>cpt-sp2010-web-designers-branding-intro</td>\n",
       "      <td>875</td>\n",
       "      <td>Beginner</td>\n",
       "      <td>3786</td>\n",
       "    </tr>\n",
       "    <tr>\n",
       "      <th>1</th>\n",
       "      <td>1</td>\n",
       "      <td>2017-06-28</td>\n",
       "      <td>cpt-sp2010-web-designers-branding-intro</td>\n",
       "      <td>875</td>\n",
       "      <td>Beginner</td>\n",
       "      <td>1098</td>\n",
       "    </tr>\n",
       "    <tr>\n",
       "      <th>2</th>\n",
       "      <td>1</td>\n",
       "      <td>2017-06-28</td>\n",
       "      <td>cpt-sp2010-web-designers-css</td>\n",
       "      <td>875</td>\n",
       "      <td>Intermediate</td>\n",
       "      <td>4406</td>\n",
       "    </tr>\n",
       "    <tr>\n",
       "      <th>3</th>\n",
       "      <td>1</td>\n",
       "      <td>2017-07-27</td>\n",
       "      <td>cpt-sp2010-web-designers-css</td>\n",
       "      <td>875</td>\n",
       "      <td>Intermediate</td>\n",
       "      <td>553</td>\n",
       "    </tr>\n",
       "    <tr>\n",
       "      <th>4</th>\n",
       "      <td>1</td>\n",
       "      <td>2017-09-12</td>\n",
       "      <td>aws-certified-solutions-architect-professional</td>\n",
       "      <td>281</td>\n",
       "      <td>Advanced</td>\n",
       "      <td>102</td>\n",
       "    </tr>\n",
       "  </tbody>\n",
       "</table>\n",
       "</div>"
      ],
      "text/plain": [
       "   user_handle   view_date                                       course_id  \\\n",
       "0            1  2017-06-27         cpt-sp2010-web-designers-branding-intro   \n",
       "1            1  2017-06-28         cpt-sp2010-web-designers-branding-intro   \n",
       "2            1  2017-06-28                    cpt-sp2010-web-designers-css   \n",
       "3            1  2017-07-27                    cpt-sp2010-web-designers-css   \n",
       "4            1  2017-09-12  aws-certified-solutions-architect-professional   \n",
       "\n",
       "   author_handle         level  view_time_seconds  \n",
       "0            875      Beginner               3786  \n",
       "1            875      Beginner               1098  \n",
       "2            875  Intermediate               4406  \n",
       "3            875  Intermediate                553  \n",
       "4            281      Advanced                102  "
      ]
     },
     "execution_count": 16,
     "metadata": {},
     "output_type": "execute_result"
    }
   ],
   "source": [
    "views = pd.read_csv(bucket +'data/user_course_views.csv')\n",
    "print(\"views.shape is\", views.shape)\n",
    "views.head()"
   ]
  },
  {
   "cell_type": "code",
   "execution_count": 17,
   "metadata": {},
   "outputs": [
    {
     "data": {
      "text/plain": [
       "(34, 6)"
      ]
     },
     "execution_count": 17,
     "metadata": {},
     "output_type": "execute_result"
    }
   ],
   "source": [
    "views[views['course_id']=='wpf-advanced-topics'].shape"
   ]
  },
  {
   "cell_type": "code",
   "execution_count": 18,
   "metadata": {},
   "outputs": [
    {
     "name": "stdout",
     "output_type": "stream",
     "text": [
      "<class 'pandas.core.frame.DataFrame'>\n",
      "RangeIndex: 249238 entries, 0 to 249237\n",
      "Data columns (total 6 columns):\n",
      " #   Column             Non-Null Count   Dtype \n",
      "---  ------             --------------   ----- \n",
      " 0   user_handle        249238 non-null  int64 \n",
      " 1   view_date          249238 non-null  object\n",
      " 2   course_id          249238 non-null  object\n",
      " 3   author_handle      249238 non-null  int64 \n",
      " 4   level              249238 non-null  object\n",
      " 5   view_time_seconds  249238 non-null  int64 \n",
      "dtypes: int64(3), object(3)\n",
      "memory usage: 11.4+ MB\n"
     ]
    }
   ],
   "source": [
    "views.info()"
   ]
  },
  {
   "cell_type": "code",
   "execution_count": 19,
   "metadata": {},
   "outputs": [],
   "source": [
    "#views_dummies=pd.get_dummies(views, columns=['course_id'])"
   ]
  },
  {
   "cell_type": "code",
   "execution_count": 20,
   "metadata": {},
   "outputs": [],
   "source": [
    "#views_dummies.shape"
   ]
  },
  {
   "cell_type": "code",
   "execution_count": 21,
   "metadata": {},
   "outputs": [],
   "source": [
    "#views=views_dummies.copy()"
   ]
  },
  {
   "cell_type": "code",
   "execution_count": 22,
   "metadata": {},
   "outputs": [
    {
     "name": "stdout",
     "output_type": "stream",
     "text": [
      "interests.shape is (297526, 3)\n"
     ]
    },
    {
     "data": {
      "text/html": [
       "<div>\n",
       "<style scoped>\n",
       "    .dataframe tbody tr th:only-of-type {\n",
       "        vertical-align: middle;\n",
       "    }\n",
       "\n",
       "    .dataframe tbody tr th {\n",
       "        vertical-align: top;\n",
       "    }\n",
       "\n",
       "    .dataframe thead th {\n",
       "        text-align: right;\n",
       "    }\n",
       "</style>\n",
       "<table border=\"1\" class=\"dataframe\">\n",
       "  <thead>\n",
       "    <tr style=\"text-align: right;\">\n",
       "      <th></th>\n",
       "      <th>user_handle</th>\n",
       "      <th>interest_tag</th>\n",
       "      <th>date_followed</th>\n",
       "    </tr>\n",
       "  </thead>\n",
       "  <tbody>\n",
       "    <tr>\n",
       "      <th>0</th>\n",
       "      <td>1</td>\n",
       "      <td>mvc-scaffolding</td>\n",
       "      <td>2017-06-27 16:26:52</td>\n",
       "    </tr>\n",
       "    <tr>\n",
       "      <th>1</th>\n",
       "      <td>1</td>\n",
       "      <td>mvc2</td>\n",
       "      <td>2017-06-27 16:26:52</td>\n",
       "    </tr>\n",
       "    <tr>\n",
       "      <th>2</th>\n",
       "      <td>1</td>\n",
       "      <td>mvc-html-helpers</td>\n",
       "      <td>2017-06-27 16:26:52</td>\n",
       "    </tr>\n",
       "    <tr>\n",
       "      <th>3</th>\n",
       "      <td>1</td>\n",
       "      <td>mvc4-ioc</td>\n",
       "      <td>2017-06-27 16:26:52</td>\n",
       "    </tr>\n",
       "    <tr>\n",
       "      <th>4</th>\n",
       "      <td>1</td>\n",
       "      <td>mvc-testing</td>\n",
       "      <td>2017-06-27 16:26:52</td>\n",
       "    </tr>\n",
       "  </tbody>\n",
       "</table>\n",
       "</div>"
      ],
      "text/plain": [
       "   user_handle      interest_tag        date_followed\n",
       "0            1   mvc-scaffolding  2017-06-27 16:26:52\n",
       "1            1              mvc2  2017-06-27 16:26:52\n",
       "2            1  mvc-html-helpers  2017-06-27 16:26:52\n",
       "3            1          mvc4-ioc  2017-06-27 16:26:52\n",
       "4            1       mvc-testing  2017-06-27 16:26:52"
      ]
     },
     "execution_count": 22,
     "metadata": {},
     "output_type": "execute_result"
    }
   ],
   "source": [
    "interests = pd.read_csv(bucket +'data/user_interests.csv')\n",
    "print(\"interests.shape is\", interests.shape)\n",
    "interests.head()"
   ]
  },
  {
   "cell_type": "code",
   "execution_count": 23,
   "metadata": {},
   "outputs": [
    {
     "name": "stdout",
     "output_type": "stream",
     "text": [
      "<class 'pandas.core.frame.DataFrame'>\n",
      "RangeIndex: 297526 entries, 0 to 297525\n",
      "Data columns (total 3 columns):\n",
      " #   Column         Non-Null Count   Dtype \n",
      "---  ------         --------------   ----- \n",
      " 0   user_handle    297526 non-null  int64 \n",
      " 1   interest_tag   297526 non-null  object\n",
      " 2   date_followed  297526 non-null  object\n",
      "dtypes: int64(1), object(2)\n",
      "memory usage: 6.8+ MB\n"
     ]
    }
   ],
   "source": [
    "interests.info()"
   ]
  },
  {
   "cell_type": "markdown",
   "metadata": {},
   "source": [
    "## Drop unnecessary columns\n",
    "---\n",
    "\n",
    "For this first run through, drop all of the null values from courses as there are a small number of them--112/11337"
   ]
  },
  {
   "cell_type": "code",
   "execution_count": 24,
   "metadata": {},
   "outputs": [],
   "source": [
    "courses = courses.dropna()"
   ]
  },
  {
   "cell_type": "markdown",
   "metadata": {},
   "source": [
    "## Merge into a single dataframe\n",
    "---\n",
    "\n",
    "Use the user_handle column to merge three of the dataframes and course_id to merge the other"
   ]
  },
  {
   "cell_type": "code",
   "execution_count": 25,
   "metadata": {},
   "outputs": [],
   "source": [
    "def make_dfs():\n",
    "    '''\n",
    "    return updated list with each df for parsing\n",
    "    '''\n",
    "    return [courses, assess, views, interests]"
   ]
  },
  {
   "cell_type": "code",
   "execution_count": 26,
   "metadata": {},
   "outputs": [],
   "source": [
    "dfs=make_dfs()\n",
    "df_names=['courses', 'assess', 'views', 'interests']"
   ]
  },
  {
   "cell_type": "code",
   "execution_count": 27,
   "metadata": {},
   "outputs": [
    {
     "name": "stdout",
     "output_type": "stream",
     "text": [
      "(11225, 5943)\n",
      "(6571, 4)\n",
      "(249238, 6)\n",
      "(297526, 3)\n"
     ]
    }
   ],
   "source": [
    "for df in dfs:\n",
    "    print(df.shape)"
   ]
  },
  {
   "cell_type": "code",
   "execution_count": 28,
   "metadata": {},
   "outputs": [
    {
     "name": "stdout",
     "output_type": "stream",
     "text": [
      "***courses***\n",
      "course_tags                                                      object\n",
      "course_id_12-principles-animation-toon-boom-harmony-1475          uint8\n",
      "course_id_2d-racing-game-series-unity-5-1312                      uint8\n",
      "course_id_2d-racing-games-unity-volume-2-1286                     uint8\n",
      "course_id_2d-racing-games-unity-volume-4-1311                     uint8\n",
      "                                                                  ...  \n",
      "course_id_zend-db-deep-dive                                       uint8\n",
      "course_id_zmodeler-workflows-2091                                 uint8\n",
      "course_id_zombie-concept-illustration-photoshop-782               uint8\n",
      "course_id_zombie-photo-manipulation-techniques-photoshop-1518     uint8\n",
      "course_id_zsphere-modeling-zbrush-3505                            uint8\n",
      "Length: 5943, dtype: object\n",
      "***assess***\n",
      "user_handle               int64\n",
      "assessment_tag           object\n",
      "user_assessment_date     object\n",
      "user_assessment_score     int64\n",
      "dtype: object\n",
      "***views***\n",
      "user_handle           int64\n",
      "view_date            object\n",
      "course_id            object\n",
      "author_handle         int64\n",
      "level                object\n",
      "view_time_seconds     int64\n",
      "dtype: object\n",
      "***interests***\n",
      "user_handle       int64\n",
      "interest_tag     object\n",
      "date_followed    object\n",
      "dtype: object\n"
     ]
    }
   ],
   "source": [
    "for i in range(len(dfs)):\n",
    "    print(\"***\" + df_names[i] + \"***\")\n",
    "    print(dfs[i].dtypes)"
   ]
  },
  {
   "cell_type": "code",
   "execution_count": 29,
   "metadata": {},
   "outputs": [
    {
     "data": {
      "text/plain": [
       "0    2017-08-11 19:03:38\n",
       "1    2017-08-11 20:09:56\n",
       "2    2017-07-31 18:59:37\n",
       "3    2017-07-31 18:49:27\n",
       "4    2017-07-31 19:05:03\n",
       "Name: user_assessment_date, dtype: object"
      ]
     },
     "execution_count": 29,
     "metadata": {},
     "output_type": "execute_result"
    }
   ],
   "source": [
    "dfs[1]['user_assessment_date'].head()"
   ]
  },
  {
   "cell_type": "code",
   "execution_count": 30,
   "metadata": {},
   "outputs": [
    {
     "data": {
      "text/html": [
       "<div>\n",
       "<style scoped>\n",
       "    .dataframe tbody tr th:only-of-type {\n",
       "        vertical-align: middle;\n",
       "    }\n",
       "\n",
       "    .dataframe tbody tr th {\n",
       "        vertical-align: top;\n",
       "    }\n",
       "\n",
       "    .dataframe thead th {\n",
       "        text-align: right;\n",
       "    }\n",
       "</style>\n",
       "<table border=\"1\" class=\"dataframe\">\n",
       "  <thead>\n",
       "    <tr style=\"text-align: right;\">\n",
       "      <th></th>\n",
       "      <th>user_handle</th>\n",
       "      <th>assessment_tag</th>\n",
       "      <th>user_assessment_date</th>\n",
       "      <th>user_assessment_score</th>\n",
       "    </tr>\n",
       "  </thead>\n",
       "  <tbody>\n",
       "    <tr>\n",
       "      <th>0</th>\n",
       "      <td>7487</td>\n",
       "      <td>angular-js</td>\n",
       "      <td>2017-08-11 19:03:38</td>\n",
       "      <td>134</td>\n",
       "    </tr>\n",
       "  </tbody>\n",
       "</table>\n",
       "</div>"
      ],
      "text/plain": [
       "   user_handle assessment_tag user_assessment_date  user_assessment_score\n",
       "0         7487     angular-js  2017-08-11 19:03:38                    134"
      ]
     },
     "execution_count": 30,
     "metadata": {},
     "output_type": "execute_result"
    }
   ],
   "source": [
    "assess.head(1)"
   ]
  },
  {
   "cell_type": "code",
   "execution_count": 31,
   "metadata": {},
   "outputs": [],
   "source": [
    "assess['user_assessment_date'] = pd.to_datetime(assess['user_assessment_date'])"
   ]
  },
  {
   "cell_type": "code",
   "execution_count": 32,
   "metadata": {},
   "outputs": [],
   "source": [
    "dfs = make_dfs()"
   ]
  },
  {
   "cell_type": "code",
   "execution_count": 33,
   "metadata": {},
   "outputs": [
    {
     "name": "stdout",
     "output_type": "stream",
     "text": [
      "***courses***\n",
      "course_tags                                                      object\n",
      "course_id_12-principles-animation-toon-boom-harmony-1475          uint8\n",
      "course_id_2d-racing-game-series-unity-5-1312                      uint8\n",
      "course_id_2d-racing-games-unity-volume-2-1286                     uint8\n",
      "course_id_2d-racing-games-unity-volume-4-1311                     uint8\n",
      "                                                                  ...  \n",
      "course_id_zend-db-deep-dive                                       uint8\n",
      "course_id_zmodeler-workflows-2091                                 uint8\n",
      "course_id_zombie-concept-illustration-photoshop-782               uint8\n",
      "course_id_zombie-photo-manipulation-techniques-photoshop-1518     uint8\n",
      "course_id_zsphere-modeling-zbrush-3505                            uint8\n",
      "Length: 5943, dtype: object\n",
      "***assess***\n",
      "user_handle                       int64\n",
      "assessment_tag                   object\n",
      "user_assessment_date     datetime64[ns]\n",
      "user_assessment_score             int64\n",
      "dtype: object\n",
      "***views***\n",
      "user_handle           int64\n",
      "view_date            object\n",
      "course_id            object\n",
      "author_handle         int64\n",
      "level                object\n",
      "view_time_seconds     int64\n",
      "dtype: object\n",
      "***interests***\n",
      "user_handle       int64\n",
      "interest_tag     object\n",
      "date_followed    object\n",
      "dtype: object\n"
     ]
    }
   ],
   "source": [
    "for i in range(len(dfs)):\n",
    "    print(\"***\" + df_names[i] + \"***\")\n",
    "    print(dfs[i].dtypes)"
   ]
  },
  {
   "cell_type": "markdown",
   "metadata": {},
   "source": [
    "How many unique tags exist in each dataframe?"
   ]
  },
  {
   "cell_type": "code",
   "execution_count": 34,
   "metadata": {},
   "outputs": [
    {
     "name": "stdout",
     "output_type": "stream",
     "text": [
      "There are 998 unique course tags\n"
     ]
    }
   ],
   "source": [
    "tags = len(courses.course_tags.value_counts())\n",
    "#ids = len(courses.course_id.value_counts())\n",
    "\n",
    "print(f\"There are {tags} unique course tags\")\n",
    "#print(f\"There are {ids} unique course ids\")"
   ]
  },
  {
   "cell_type": "code",
   "execution_count": 35,
   "metadata": {},
   "outputs": [
    {
     "data": {
      "text/plain": [
       "Index(['user_handle', 'view_date', 'course_id', 'author_handle', 'level',\n",
       "       'view_time_seconds'],\n",
       "      dtype='object')"
      ]
     },
     "execution_count": 35,
     "metadata": {},
     "output_type": "execute_result"
    }
   ],
   "source": [
    "views.columns"
   ]
  },
  {
   "cell_type": "code",
   "execution_count": 36,
   "metadata": {},
   "outputs": [
    {
     "data": {
      "text/plain": [
       "Index(['user_handle', 'assessment_tag', 'user_assessment_date',\n",
       "       'user_assessment_score'],\n",
       "      dtype='object')"
      ]
     },
     "execution_count": 36,
     "metadata": {},
     "output_type": "execute_result"
    }
   ],
   "source": [
    "assess.columns"
   ]
  },
  {
   "cell_type": "code",
   "execution_count": 37,
   "metadata": {},
   "outputs": [
    {
     "name": "stdout",
     "output_type": "stream",
     "text": [
      "There are 54 unique assessment tags\n"
     ]
    }
   ],
   "source": [
    "assess_tags = len(assess.assessment_tag.value_counts())\n",
    "\n",
    "print(f\"There are {assess_tags} unique assessment tags\")\n"
   ]
  },
  {
   "cell_type": "code",
   "execution_count": 38,
   "metadata": {},
   "outputs": [
    {
     "name": "stdout",
     "output_type": "stream",
     "text": [
      "There are 748 unique interest tags\n"
     ]
    }
   ],
   "source": [
    "interest_tags = len(interests.interest_tag.value_counts())\n",
    "\n",
    "print(f\"There are {interest_tags} unique interest tags\")\n"
   ]
  },
  {
   "cell_type": "code",
   "execution_count": 39,
   "metadata": {},
   "outputs": [
    {
     "name": "stdout",
     "output_type": "stream",
     "text": [
      "Index(['course_tags',\n",
      "       'course_id_12-principles-animation-toon-boom-harmony-1475',\n",
      "       'course_id_2d-racing-game-series-unity-5-1312',\n",
      "       'course_id_2d-racing-games-unity-volume-2-1286',\n",
      "       'course_id_2d-racing-games-unity-volume-4-1311',\n",
      "       'course_id_3d-coat-character-concept-sculpting-techniques-2526',\n",
      "       'course_id_3d-coat-getting-started-2487',\n",
      "       'course_id_3d-integration-relighting-nuke-1157',\n",
      "       'course_id_3d-models-presenting-online-2385',\n",
      "       'course_id_3d-pan-tile-sky-nuke-81',\n",
      "       ...\n",
      "       'course_id_zbrush-mudbox-artists-1416',\n",
      "       'course_id_zbrush-reference-library-3d-brushes-547',\n",
      "       'course_id_zbrush-sculpting-modular-structures-2537',\n",
      "       'course_id_zbrush-sculpting-necroknight-2509',\n",
      "       'course_id_zbrush-tileable-texture-creation-2438',\n",
      "       'course_id_zend-db-deep-dive', 'course_id_zmodeler-workflows-2091',\n",
      "       'course_id_zombie-concept-illustration-photoshop-782',\n",
      "       'course_id_zombie-photo-manipulation-techniques-photoshop-1518',\n",
      "       'course_id_zsphere-modeling-zbrush-3505'],\n",
      "      dtype='object', length=5943)\n",
      "Index(['user_handle', 'assessment_tag', 'user_assessment_date',\n",
      "       'user_assessment_score'],\n",
      "      dtype='object')\n",
      "Index(['user_handle', 'view_date', 'course_id', 'author_handle', 'level',\n",
      "       'view_time_seconds'],\n",
      "      dtype='object')\n",
      "Index(['user_handle', 'interest_tag', 'date_followed'], dtype='object')\n"
     ]
    }
   ],
   "source": [
    "for df in dfs:\n",
    "    print(df.columns)"
   ]
  },
  {
   "cell_type": "code",
   "execution_count": 40,
   "metadata": {},
   "outputs": [
    {
     "data": {
      "text/plain": [
       "['courses', 'assess', 'views', 'interests']"
      ]
     },
     "execution_count": 40,
     "metadata": {},
     "output_type": "execute_result"
    }
   ],
   "source": [
    "df_names"
   ]
  },
  {
   "cell_type": "code",
   "execution_count": 41,
   "metadata": {},
   "outputs": [
    {
     "data": {
      "text/plain": [
       "(6571, 4)"
      ]
     },
     "execution_count": 41,
     "metadata": {},
     "output_type": "execute_result"
    }
   ],
   "source": [
    "assess.shape"
   ]
  },
  {
   "cell_type": "code",
   "execution_count": 42,
   "metadata": {},
   "outputs": [
    {
     "data": {
      "text/plain": [
       "(249238, 6)"
      ]
     },
     "execution_count": 42,
     "metadata": {},
     "output_type": "execute_result"
    }
   ],
   "source": [
    "views.shape"
   ]
  },
  {
   "cell_type": "markdown",
   "metadata": {},
   "source": [
    "## Create a `user-course` dataframe\n",
    "**It should have the following columns to start**\n",
    "- user_handle\n",
    "- total_users_courses\n",
    "- course_id\n",
    "- course_tags\n",
    "- first_view_date\n",
    "- total_views\n",
    "- avg_viewtime\n",
    "- level\n",
    "- author_handle\n",
    "- interest_tags\n",
    "- user_assessment_score\n",
    "- user_avg_assess_score\n",
    "\n",
    "**It should have a compound-index of user_handle_course_id**<br>\n",
    "\n",
    "***On second thought, will that be helpful or only serve to delay the time to get to the MVP?***\n",
    "\n",
    "## Create a `users` dataframe\n",
    "**This should really have the user_handle as an index**\n",
    "\n",
    "\n",
    "From here, create a DBScan clustering model and use the clusters from it as an additional feature.<br>\n",
    "\n",
    "Once completed, run the cosine similarity and create a way to score the users."
   ]
  },
  {
   "cell_type": "markdown",
   "metadata": {},
   "source": [
    "This will require that we group each dataframe by the above factors"
   ]
  },
  {
   "cell_type": "code",
   "execution_count": 43,
   "metadata": {},
   "outputs": [
    {
     "name": "stdout",
     "output_type": "stream",
     "text": [
      "There are 3114 user_handles in the assess df\n",
      "There are 10000 user_handles in the interests df\n",
      "There are 8760 user_handles in the views df\n"
     ]
    }
   ],
   "source": [
    "assess_users = len(assess.user_handle.value_counts())\n",
    "interests_users = len(interests.user_handle.value_counts())\n",
    "views_users = len(views.user_handle.value_counts())\n",
    "\n",
    "print(f\"There are {assess_users} user_handles in the assess df\")\n",
    "print(f\"There are {interests_users} user_handles in the interests df\")\n",
    "print(f\"There are {views_users} user_handles in the views df\")"
   ]
  },
  {
   "cell_type": "markdown",
   "metadata": {},
   "source": [
    "I'll need to figure out a logic to create this table that has \n",
    "1. a unique row for each comination of user and course that the user viewed\n",
    "2. the assessment and score that he user gave the course\n",
    "3. linked together by the course tags, assessment tags\n",
    "4. whether or not course tag or assessment tag match an interest tag from this user"
   ]
  },
  {
   "cell_type": "code",
   "execution_count": 44,
   "metadata": {},
   "outputs": [],
   "source": [
    "users = pd.merge(left=interests, right=views, how='outer', left_on='user_handle', right_on='user_handle')"
   ]
  },
  {
   "cell_type": "code",
   "execution_count": 45,
   "metadata": {},
   "outputs": [
    {
     "data": {
      "text/plain": [
       "(9474074, 8)"
      ]
     },
     "execution_count": 45,
     "metadata": {},
     "output_type": "execute_result"
    }
   ],
   "source": [
    "users.shape"
   ]
  },
  {
   "cell_type": "code",
   "execution_count": 46,
   "metadata": {},
   "outputs": [
    {
     "data": {
      "text/plain": [
       "(10000,)"
      ]
     },
     "execution_count": 46,
     "metadata": {},
     "output_type": "execute_result"
    }
   ],
   "source": [
    "users.user_handle.value_counts().shape"
   ]
  },
  {
   "cell_type": "markdown",
   "metadata": {},
   "source": [
    "We use the outer join merge, or otherwise keep all user_handles total, so that we can construct a dataset that includes those that never took a course but only gave their interests"
   ]
  },
  {
   "cell_type": "code",
   "execution_count": 47,
   "metadata": {},
   "outputs": [],
   "source": [
    "users = pd.merge(left=users, right=assess, how='outer', left_on='user_handle', right_on='user_handle')"
   ]
  },
  {
   "cell_type": "code",
   "execution_count": 48,
   "metadata": {},
   "outputs": [
    {
     "data": {
      "text/plain": [
       "(21951197, 11)"
      ]
     },
     "execution_count": 48,
     "metadata": {},
     "output_type": "execute_result"
    }
   ],
   "source": [
    "users.shape"
   ]
  },
  {
   "cell_type": "code",
   "execution_count": 49,
   "metadata": {},
   "outputs": [
    {
     "data": {
      "text/plain": [
       "(10000,)"
      ]
     },
     "execution_count": 49,
     "metadata": {},
     "output_type": "execute_result"
    }
   ],
   "source": [
    "users.user_handle.value_counts().shape"
   ]
  },
  {
   "cell_type": "code",
   "execution_count": 50,
   "metadata": {},
   "outputs": [],
   "source": [
    "#users = pd.merge(left=users, right=courses, how='outer', left_on='course_id', right_on='course_id')"
   ]
  },
  {
   "cell_type": "code",
   "execution_count": 51,
   "metadata": {},
   "outputs": [
    {
     "data": {
      "text/plain": [
       "(21951197, 11)"
      ]
     },
     "execution_count": 51,
     "metadata": {},
     "output_type": "execute_result"
    }
   ],
   "source": [
    "users.shape"
   ]
  },
  {
   "cell_type": "code",
   "execution_count": 52,
   "metadata": {},
   "outputs": [
    {
     "data": {
      "text/plain": [
       "(21951197, 5952)"
      ]
     },
     "execution_count": 52,
     "metadata": {},
     "output_type": "execute_result"
    }
   ],
   "source": [
    "users_dummied = pd.get_dummies(users, columns=['course_id'], sparse=True)\n",
    "users_dummied.shape"
   ]
  },
  {
   "cell_type": "code",
   "execution_count": 53,
   "metadata": {},
   "outputs": [
    {
     "data": {
      "text/plain": [
       "user_handle                                                                 int64\n",
       "interest_tag                                                               object\n",
       "date_followed                                                              object\n",
       "view_date                                                                  object\n",
       "author_handle                                                             float64\n",
       "                                                                       ...       \n",
       "course_id_zend-db-deep-dive                                      Sparse[uint8, 0]\n",
       "course_id_zmodeler-workflows-2091                                Sparse[uint8, 0]\n",
       "course_id_zombie-concept-illustration-photoshop-782              Sparse[uint8, 0]\n",
       "course_id_zombie-photo-manipulation-techniques-photoshop-1518    Sparse[uint8, 0]\n",
       "course_id_zsphere-modeling-zbrush-3505                           Sparse[uint8, 0]\n",
       "Length: 5952, dtype: object"
      ]
     },
     "execution_count": 53,
     "metadata": {},
     "output_type": "execute_result"
    }
   ],
   "source": [
    "users_dummied.dtypes"
   ]
  },
  {
   "cell_type": "code",
   "execution_count": 54,
   "metadata": {},
   "outputs": [
    {
     "data": {
      "text/plain": [
       "748"
      ]
     },
     "execution_count": 54,
     "metadata": {},
     "output_type": "execute_result"
    }
   ],
   "source": [
    "len(users_dummied['interest_tag'].value_counts())"
   ]
  },
  {
   "cell_type": "code",
   "execution_count": 55,
   "metadata": {},
   "outputs": [],
   "source": [
    "users_twice_dummied = pd.get_dummies(users_dummied, columns=['interest_tag'], sparse=True)"
   ]
  },
  {
   "cell_type": "code",
   "execution_count": 56,
   "metadata": {},
   "outputs": [
    {
     "data": {
      "text/plain": [
       "(21951197, 6699)"
      ]
     },
     "execution_count": 56,
     "metadata": {},
     "output_type": "execute_result"
    }
   ],
   "source": [
    "users_twice_dummied.shape"
   ]
  },
  {
   "cell_type": "markdown",
   "metadata": {},
   "source": [
    "## Convert remaining non-numeric columns"
   ]
  },
  {
   "cell_type": "code",
   "execution_count": 57,
   "metadata": {},
   "outputs": [
    {
     "name": "stdout",
     "output_type": "stream",
     "text": [
      "object\n",
      "object\n",
      "object\n",
      "object\n"
     ]
    }
   ],
   "source": [
    "for dtype in users_twice_dummied.dtypes:\n",
    "    if dtype == 'object':\n",
    "        print(dtype)"
   ]
  },
  {
   "cell_type": "code",
   "execution_count": 58,
   "metadata": {},
   "outputs": [],
   "source": [
    "users_twice_dummied = pd.get_dummies(users_twice_dummied, columns=['level'])"
   ]
  },
  {
   "cell_type": "code",
   "execution_count": 59,
   "metadata": {},
   "outputs": [
    {
     "data": {
      "text/plain": [
       "Index(['user_handle', 'date_followed', 'view_date', 'author_handle',\n",
       "       'view_time_seconds', 'assessment_tag'],\n",
       "      dtype='object')"
      ]
     },
     "execution_count": 59,
     "metadata": {},
     "output_type": "execute_result"
    }
   ],
   "source": [
    "users_twice_dummied.columns[:6]"
   ]
  },
  {
   "cell_type": "code",
   "execution_count": 60,
   "metadata": {},
   "outputs": [],
   "source": [
    "users_twice_dummied['view_date'] = pd.to_datetime(users_twice_dummied['view_date'])"
   ]
  },
  {
   "cell_type": "code",
   "execution_count": 61,
   "metadata": {},
   "outputs": [
    {
     "data": {
      "text/plain": [
       "1412"
      ]
     },
     "execution_count": 61,
     "metadata": {},
     "output_type": "execute_result"
    }
   ],
   "source": [
    "len(users_twice_dummied.author_handle.value_counts())"
   ]
  },
  {
   "cell_type": "code",
   "execution_count": 62,
   "metadata": {},
   "outputs": [],
   "source": [
    "users_s = pd.get_dummies(users_twice_dummied, columns=['author_handle'], sparse=True)"
   ]
  },
  {
   "cell_type": "code",
   "execution_count": 63,
   "metadata": {},
   "outputs": [
    {
     "data": {
      "text/plain": [
       "(21951197, 8112)"
      ]
     },
     "execution_count": 63,
     "metadata": {},
     "output_type": "execute_result"
    }
   ],
   "source": [
    "users_s.shape"
   ]
  },
  {
   "cell_type": "code",
   "execution_count": 64,
   "metadata": {},
   "outputs": [
    {
     "name": "stdout",
     "output_type": "stream",
     "text": [
      "object\n",
      "object\n"
     ]
    }
   ],
   "source": [
    "for dtype in users_twice_dummied.dtypes:\n",
    "    if dtype == 'object':\n",
    "        print(dtype)"
   ]
  },
  {
   "cell_type": "code",
   "execution_count": 65,
   "metadata": {},
   "outputs": [
    {
     "data": {
      "text/plain": [
       "user_handle                                                            int64\n",
       "date_followed                                                         object\n",
       "view_date                                                     datetime64[ns]\n",
       "view_time_seconds                                                    float64\n",
       "assessment_tag                                                        object\n",
       "user_assessment_date                                          datetime64[ns]\n",
       "user_assessment_score                                                float64\n",
       "course_id_12-principles-animation-toon-boom-harmony-1475    Sparse[uint8, 0]\n",
       "course_id_2d-racing-game-series-unity-5-1312                Sparse[uint8, 0]\n",
       "course_id_2d-racing-games-unity-volume-2-1286               Sparse[uint8, 0]\n",
       "dtype: object"
      ]
     },
     "execution_count": 65,
     "metadata": {},
     "output_type": "execute_result"
    }
   ],
   "source": [
    "users_s.dtypes[:10]"
   ]
  },
  {
   "cell_type": "code",
   "execution_count": 66,
   "metadata": {},
   "outputs": [],
   "source": [
    "users_s = users_s.drop(columns='assessment_tag')"
   ]
  },
  {
   "cell_type": "code",
   "execution_count": 67,
   "metadata": {},
   "outputs": [
    {
     "name": "stdout",
     "output_type": "stream",
     "text": [
      "object\n"
     ]
    }
   ],
   "source": [
    "for dtype in users_s.dtypes:\n",
    "    if dtype == 'object':\n",
    "        print(dtype)"
   ]
  },
  {
   "cell_type": "markdown",
   "metadata": {},
   "source": [
    "## not-so-quick but...\n",
    "So we've gotten our dataset down to a 100% numeric dataset. We've eliminated the tags entirely, which will be detremental to our final goal, but will help us at least get something started.\n",
    "\n",
    "We've One Hot Encoded all of the course ID's, the author ID's, and the levels, and thus we should be able to somewhat shrink our dataframe by grouping by the usernames..."
   ]
  },
  {
   "cell_type": "code",
   "execution_count": 68,
   "metadata": {},
   "outputs": [],
   "source": []
  },
  {
   "cell_type": "code",
   "execution_count": 69,
   "metadata": {},
   "outputs": [
    {
     "data": {
      "text/html": [
       "<div>\n",
       "<style scoped>\n",
       "    .dataframe tbody tr th:only-of-type {\n",
       "        vertical-align: middle;\n",
       "    }\n",
       "\n",
       "    .dataframe tbody tr th {\n",
       "        vertical-align: top;\n",
       "    }\n",
       "\n",
       "    .dataframe thead th {\n",
       "        text-align: right;\n",
       "    }\n",
       "</style>\n",
       "<table border=\"1\" class=\"dataframe\">\n",
       "  <thead>\n",
       "    <tr style=\"text-align: right;\">\n",
       "      <th></th>\n",
       "      <th>user_handle</th>\n",
       "      <th>date_followed</th>\n",
       "      <th>view_date</th>\n",
       "      <th>view_time_seconds</th>\n",
       "      <th>user_assessment_date</th>\n",
       "      <th>user_assessment_score</th>\n",
       "      <th>course_id_12-principles-animation-toon-boom-harmony-1475</th>\n",
       "      <th>course_id_2d-racing-game-series-unity-5-1312</th>\n",
       "      <th>course_id_2d-racing-games-unity-volume-2-1286</th>\n",
       "      <th>course_id_2d-racing-games-unity-volume-4-1311</th>\n",
       "      <th>...</th>\n",
       "      <th>author_handle_1403.0</th>\n",
       "      <th>author_handle_1404.0</th>\n",
       "      <th>author_handle_1405.0</th>\n",
       "      <th>author_handle_1406.0</th>\n",
       "      <th>author_handle_1407.0</th>\n",
       "      <th>author_handle_1408.0</th>\n",
       "      <th>author_handle_1409.0</th>\n",
       "      <th>author_handle_1410.0</th>\n",
       "      <th>author_handle_1411.0</th>\n",
       "      <th>author_handle_1412.0</th>\n",
       "    </tr>\n",
       "  </thead>\n",
       "  <tbody>\n",
       "    <tr>\n",
       "      <th>6936517</th>\n",
       "      <td>1970</td>\n",
       "      <td>2017-07-07 04:42:04</td>\n",
       "      <td>2017-07-20</td>\n",
       "      <td>85.0</td>\n",
       "      <td>2016-08-25 00:47:34</td>\n",
       "      <td>113.0</td>\n",
       "      <td>0</td>\n",
       "      <td>0</td>\n",
       "      <td>0</td>\n",
       "      <td>0</td>\n",
       "      <td>...</td>\n",
       "      <td>0</td>\n",
       "      <td>0</td>\n",
       "      <td>0</td>\n",
       "      <td>0</td>\n",
       "      <td>0</td>\n",
       "      <td>0</td>\n",
       "      <td>0</td>\n",
       "      <td>0</td>\n",
       "      <td>0</td>\n",
       "      <td>0</td>\n",
       "    </tr>\n",
       "  </tbody>\n",
       "</table>\n",
       "<p>1 rows × 8111 columns</p>\n",
       "</div>"
      ],
      "text/plain": [
       "         user_handle        date_followed  view_date  view_time_seconds  \\\n",
       "6936517         1970  2017-07-07 04:42:04 2017-07-20               85.0   \n",
       "\n",
       "        user_assessment_date  user_assessment_score  \\\n",
       "6936517  2016-08-25 00:47:34                  113.0   \n",
       "\n",
       "         course_id_12-principles-animation-toon-boom-harmony-1475  \\\n",
       "6936517                                                  0          \n",
       "\n",
       "         course_id_2d-racing-game-series-unity-5-1312  \\\n",
       "6936517                                             0   \n",
       "\n",
       "         course_id_2d-racing-games-unity-volume-2-1286  \\\n",
       "6936517                                              0   \n",
       "\n",
       "         course_id_2d-racing-games-unity-volume-4-1311  ...  \\\n",
       "6936517                                              0  ...   \n",
       "\n",
       "         author_handle_1403.0  author_handle_1404.0  author_handle_1405.0  \\\n",
       "6936517                     0                     0                     0   \n",
       "\n",
       "         author_handle_1406.0  author_handle_1407.0  author_handle_1408.0  \\\n",
       "6936517                     0                     0                     0   \n",
       "\n",
       "         author_handle_1409.0  author_handle_1410.0  author_handle_1411.0  \\\n",
       "6936517                     0                     0                     0   \n",
       "\n",
       "         author_handle_1412.0  \n",
       "6936517                     0  \n",
       "\n",
       "[1 rows x 8111 columns]"
      ]
     },
     "execution_count": 69,
     "metadata": {},
     "output_type": "execute_result"
    }
   ],
   "source": [
    "users_grouped = users_s.groupby(by='user_handle')\n",
    "users_s.sample()"
   ]
  },
  {
   "cell_type": "code",
   "execution_count": null,
   "metadata": {},
   "outputs": [],
   "source": [
    "users_grouped.sum()"
   ]
  },
  {
   "cell_type": "code",
   "execution_count": 71,
   "metadata": {},
   "outputs": [],
   "source": [
    "#users_grouped.describe().T"
   ]
  },
  {
   "cell_type": "code",
   "execution_count": null,
   "metadata": {},
   "outputs": [],
   "source": [
    "df_final = users_s.pivot_table( index=users_s.user_handle, aggfunc='sum')\n",
    "df_final.fillna(0, inplace = True)"
   ]
  },
  {
   "cell_type": "markdown",
   "metadata": {},
   "source": [
    "## Use DBScan to create clusters of users"
   ]
  },
  {
   "cell_type": "code",
   "execution_count": 72,
   "metadata": {},
   "outputs": [],
   "source": [
    "from sklearn.cluster import DBSCAN"
   ]
  },
  {
   "cell_type": "code",
   "execution_count": null,
   "metadata": {},
   "outputs": [],
   "source": []
  },
  {
   "cell_type": "code",
   "execution_count": null,
   "metadata": {},
   "outputs": [],
   "source": []
  },
  {
   "cell_type": "code",
   "execution_count": null,
   "metadata": {},
   "outputs": [],
   "source": []
  },
  {
   "cell_type": "code",
   "execution_count": null,
   "metadata": {},
   "outputs": [],
   "source": []
  },
  {
   "cell_type": "code",
   "execution_count": null,
   "metadata": {},
   "outputs": [],
   "source": []
  },
  {
   "cell_type": "markdown",
   "metadata": {},
   "source": [
    "## Use Cosine Similarity Scores to compare the users to one another"
   ]
  },
  {
   "cell_type": "code",
   "execution_count": null,
   "metadata": {},
   "outputs": [],
   "source": []
  },
  {
   "cell_type": "markdown",
   "metadata": {},
   "source": [
    "## Save the dataframe to csv and consider DynamoDB, SQLite, PostreSQL, and AWS RDS"
   ]
  },
  {
   "cell_type": "code",
   "execution_count": null,
   "metadata": {},
   "outputs": [],
   "source": []
  },
  {
   "cell_type": "code",
   "execution_count": null,
   "metadata": {},
   "outputs": [],
   "source": []
  }
 ],
 "metadata": {
  "kernelspec": {
   "display_name": "conda_python3",
   "language": "python",
   "name": "conda_python3"
  },
  "language_info": {
   "codemirror_mode": {
    "name": "ipython",
    "version": 3
   },
   "file_extension": ".py",
   "mimetype": "text/x-python",
   "name": "python",
   "nbconvert_exporter": "python",
   "pygments_lexer": "ipython3",
   "version": "3.6.13"
  }
 },
 "nbformat": 4,
 "nbformat_minor": 4
}
