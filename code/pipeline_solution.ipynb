{
 "cells": [
  {
   "cell_type": "markdown",
   "id": "4b6e9583",
   "metadata": {},
   "source": [
    "# How to complete this API without data issues in S3\n",
    "\n",
    "In order to make a good API for this project, simply save the original data as a zip file and implement an unzipping routine into the start of the package...and then pipeline the pre-processing steps with the pivot table and similarity score steps as a feed to the api...or add to that pipeline the programmatic creation of a SQLite DB or some such structure where the api can query the data"
   ]
  },
  {
   "cell_type": "code",
   "execution_count": 1,
   "id": "e826883a",
   "metadata": {},
   "outputs": [],
   "source": [
    "import pandas as pd\n",
    "import numpy as np"
   ]
  },
  {
   "cell_type": "code",
   "execution_count": 2,
   "id": "1291f307",
   "metadata": {},
   "outputs": [
    {
     "name": "stdout",
     "output_type": "stream",
     "text": [
      "course_tags.csv\n",
      "data_files_ml_engineer.zip\n",
      "user_assessment_scores.csv\n",
      "user_course_views.csv\n",
      "user_interests.csv\n"
     ]
    }
   ],
   "source": [
    "!ls ../data/"
   ]
  },
  {
   "cell_type": "code",
   "execution_count": 3,
   "id": "0778b626",
   "metadata": {},
   "outputs": [
    {
     "name": "stderr",
     "output_type": "stream",
     "text": [
      "The syntax of the command is incorrect.\n"
     ]
    }
   ],
   "source": [
    "!mkdir ../data/funtimes && unzip ../data/data_files_ml_engineer.zip -d ../data/funtimes"
   ]
  },
  {
   "cell_type": "code",
   "execution_count": 4,
   "id": "8dfdcf11",
   "metadata": {},
   "outputs": [
    {
     "name": "stderr",
     "output_type": "stream",
     "text": [
      "The syntax of the command is incorrect.\n"
     ]
    }
   ],
   "source": [
    "!mkdir ../data/funtimes"
   ]
  },
  {
   "cell_type": "code",
   "execution_count": 5,
   "id": "fae68b09",
   "metadata": {},
   "outputs": [],
   "source": [
    "!mkdir \"../data/funtimes\""
   ]
  },
  {
   "cell_type": "code",
   "execution_count": 6,
   "id": "352ee149",
   "metadata": {},
   "outputs": [
    {
     "name": "stdout",
     "output_type": "stream",
     "text": [
      "course_tags.csv\n",
      "data_files_ml_engineer.zip\n",
      "funtimes\n",
      "user_assessment_scores.csv\n",
      "user_course_views.csv\n",
      "user_interests.csv\n"
     ]
    }
   ],
   "source": [
    "!ls ../data/"
   ]
  },
  {
   "cell_type": "code",
   "execution_count": 12,
   "id": "0aae62bb",
   "metadata": {},
   "outputs": [
    {
     "name": "stdout",
     "output_type": "stream",
     "text": [
      "Archive:  ../data/data_files_ml_engineer.zip\n",
      " extracting: ../data/funtimes/course_tags.csv  \n",
      " extracting: ../data/funtimes/user_interests.csv  \n",
      " extracting: ../data/funtimes/user_course_views.csv  \n",
      " extracting: ../data/funtimes/user_assessment_scores.csv  \n"
     ]
    },
    {
     "name": "stderr",
     "output_type": "stream",
     "text": [
      "warning:  stripped absolute path spec from /\n",
      "mapname:  conversion of  failed\n"
     ]
    }
   ],
   "source": [
    "!unzip ../data/data_files_ml_engineer.zip -d ../data/funtimes"
   ]
  },
  {
   "cell_type": "code",
   "execution_count": 13,
   "id": "d7488cef",
   "metadata": {},
   "outputs": [
    {
     "name": "stdout",
     "output_type": "stream",
     "text": [
      "total 30108\n",
      "drwxr-xr-x 1 hello 197609        0 Nov 23 08:02 .\n",
      "drwxr-xr-x 1 hello 197609        0 Nov 23 08:01 ..\n",
      "-rw-r--r-- 1 hello 197609   617440 Nov 29  2017 course_tags.csv\n",
      "-rw-r--r-- 1 hello 197609   284138 Nov 29  2017 user_assessment_scores.csv\n",
      "-rw-r--r-- 1 hello 197609 17630111 Nov 29  2017 user_course_views.csv\n",
      "-rw-r--r-- 1 hello 197609 12282732 Nov 29  2017 user_interests.csv\n"
     ]
    }
   ],
   "source": [
    "!ls -la ../data/funtimes/"
   ]
  },
  {
   "cell_type": "code",
   "execution_count": null,
   "id": "bab80705",
   "metadata": {},
   "outputs": [],
   "source": []
  }
 ],
 "metadata": {
  "kernelspec": {
   "display_name": "Python 3 (ipykernel)",
   "language": "python",
   "name": "python3"
  },
  "language_info": {
   "codemirror_mode": {
    "name": "ipython",
    "version": 3
   },
   "file_extension": ".py",
   "mimetype": "text/x-python",
   "name": "python",
   "nbconvert_exporter": "python",
   "pygments_lexer": "ipython3",
   "version": "3.7.12"
  }
 },
 "nbformat": 4,
 "nbformat_minor": 5
}
