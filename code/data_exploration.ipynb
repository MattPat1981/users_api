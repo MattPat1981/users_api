{
 "cells": [
  {
   "cell_type": "markdown",
   "metadata": {},
   "source": [
    "# Find Similarities between students and cohorts\n",
    "***Matt Paterson***<br>\n",
    "***Machine Learning Engineer***<br>\n",
    "***Santa Cruz, California***<br>\n",
    "***10/16/2021***<br>\n",
    "\n",
    "In this challenge, I'll take four csv's with raw data about users of a platform who view videos, review the videos, and also voluntarily submit their interests in the videos, as well as the videos and video authors. \n",
    "\n",
    "I will create a model and api that allows an administrator/user (comapny) to input a user_handle (customer) from the existing group of user_handle(s) and get an output of the closest users to the input user_handle.\n",
    "\n",
    "To get there, \n",
    "- I will use a simple cosine similarity score for the users, \n",
    "- run a dbscan or heirarchical clustering model as an additional input column,\n",
    "- employ some Natural Language Processing techniques to find \n",
    "    - similar course tags and \n",
    "    - interest tags and \n",
    "    - assessment tags where they are inconsistent, and will \n",
    "- utilize scikit-learn's OneHotEncoder to quickly vectorize categorical data\n",
    "\n",
    "I will then create a lookup table in DynamoDB that can store the resulting users table, allowing a RESTful API to query the database through Amazon API Gateway through the depoloyment of an Amazon SageMaker Model Endpoint."
   ]
  },
  {
   "cell_type": "code",
   "execution_count": 132,
   "metadata": {},
   "outputs": [],
   "source": [
    "import pandas as pd\n",
    "import numpy as np\n",
    "import matplotlib.pyplot as plt\n",
    "from scipy import sparse\n",
    "from sklearn.metrics.pairwise import pairwise_distances, cosine_distances, cosine_similarity\n",
    "# Before final push, add any imports that come later in this program to this top box"
   ]
  },
  {
   "cell_type": "markdown",
   "metadata": {},
   "source": [
    "## Load `course_tags.csv`, `user_assessment_scores.csv`, `user_course_views.csv`, and `user_interests.csv`\n",
    "---"
   ]
  },
  {
   "cell_type": "code",
   "execution_count": 2,
   "metadata": {},
   "outputs": [
    {
     "name": "stdout",
     "output_type": "stream",
     "text": [
      "courses.shape is (11337, 2)\n"
     ]
    },
    {
     "data": {
      "text/html": [
       "<div>\n",
       "<style scoped>\n",
       "    .dataframe tbody tr th:only-of-type {\n",
       "        vertical-align: middle;\n",
       "    }\n",
       "\n",
       "    .dataframe tbody tr th {\n",
       "        vertical-align: top;\n",
       "    }\n",
       "\n",
       "    .dataframe thead th {\n",
       "        text-align: right;\n",
       "    }\n",
       "</style>\n",
       "<table border=\"1\" class=\"dataframe\">\n",
       "  <thead>\n",
       "    <tr style=\"text-align: right;\">\n",
       "      <th></th>\n",
       "      <th>course_id</th>\n",
       "      <th>course_tags</th>\n",
       "    </tr>\n",
       "  </thead>\n",
       "  <tbody>\n",
       "    <tr>\n",
       "      <th>0</th>\n",
       "      <td>12-principles-animation-toon-boom-harmony-1475</td>\n",
       "      <td>2d-animation</td>\n",
       "    </tr>\n",
       "    <tr>\n",
       "      <th>1</th>\n",
       "      <td>2d-racing-game-series-unity-5-1312</td>\n",
       "      <td>game-design</td>\n",
       "    </tr>\n",
       "    <tr>\n",
       "      <th>2</th>\n",
       "      <td>2d-racing-games-unity-volume-2-1286</td>\n",
       "      <td>game-art</td>\n",
       "    </tr>\n",
       "    <tr>\n",
       "      <th>3</th>\n",
       "      <td>2d-racing-games-unity-volume-2-1286</td>\n",
       "      <td>digital-painting</td>\n",
       "    </tr>\n",
       "    <tr>\n",
       "      <th>4</th>\n",
       "      <td>2d-racing-games-unity-volume-2-1286</td>\n",
       "      <td>image-editing</td>\n",
       "    </tr>\n",
       "  </tbody>\n",
       "</table>\n",
       "</div>"
      ],
      "text/plain": [
       "                                        course_id       course_tags\n",
       "0  12-principles-animation-toon-boom-harmony-1475      2d-animation\n",
       "1              2d-racing-game-series-unity-5-1312       game-design\n",
       "2             2d-racing-games-unity-volume-2-1286          game-art\n",
       "3             2d-racing-games-unity-volume-2-1286  digital-painting\n",
       "4             2d-racing-games-unity-volume-2-1286     image-editing"
      ]
     },
     "execution_count": 2,
     "metadata": {},
     "output_type": "execute_result"
    }
   ],
   "source": [
    "courses = pd.read_csv('../data/course_tags.csv')\n",
    "print(\"courses.shape is\", courses.shape)\n",
    "courses.head()"
   ]
  },
  {
   "cell_type": "code",
   "execution_count": 3,
   "metadata": {},
   "outputs": [
    {
     "name": "stdout",
     "output_type": "stream",
     "text": [
      "<class 'pandas.core.frame.DataFrame'>\n",
      "RangeIndex: 11337 entries, 0 to 11336\n",
      "Data columns (total 2 columns):\n",
      " #   Column       Non-Null Count  Dtype \n",
      "---  ------       --------------  ----- \n",
      " 0   course_id    11337 non-null  object\n",
      " 1   course_tags  11225 non-null  object\n",
      "dtypes: object(2)\n",
      "memory usage: 177.3+ KB\n"
     ]
    }
   ],
   "source": [
    "courses.info()"
   ]
  },
  {
   "cell_type": "code",
   "execution_count": 4,
   "metadata": {},
   "outputs": [
    {
     "data": {
      "text/plain": [
       "course_id        0\n",
       "course_tags    112\n",
       "dtype: int64"
      ]
     },
     "execution_count": 4,
     "metadata": {},
     "output_type": "execute_result"
    }
   ],
   "source": [
    "courses.isna().sum()"
   ]
  },
  {
   "cell_type": "code",
   "execution_count": 5,
   "metadata": {},
   "outputs": [
    {
     "data": {
      "text/plain": [
       "5942"
      ]
     },
     "execution_count": 5,
     "metadata": {},
     "output_type": "execute_result"
    }
   ],
   "source": [
    "len(courses.course_id.value_counts())"
   ]
  },
  {
   "cell_type": "code",
   "execution_count": 8,
   "metadata": {},
   "outputs": [
    {
     "data": {
      "text/plain": [
       "998"
      ]
     },
     "execution_count": 8,
     "metadata": {},
     "output_type": "execute_result"
    }
   ],
   "source": [
    "len(courses.course_tags.value_counts())"
   ]
  },
  {
   "cell_type": "code",
   "execution_count": 6,
   "metadata": {},
   "outputs": [
    {
     "name": "stdout",
     "output_type": "stream",
     "text": [
      "assess.shape is (6571, 4)\n"
     ]
    },
    {
     "data": {
      "text/html": [
       "<div>\n",
       "<style scoped>\n",
       "    .dataframe tbody tr th:only-of-type {\n",
       "        vertical-align: middle;\n",
       "    }\n",
       "\n",
       "    .dataframe tbody tr th {\n",
       "        vertical-align: top;\n",
       "    }\n",
       "\n",
       "    .dataframe thead th {\n",
       "        text-align: right;\n",
       "    }\n",
       "</style>\n",
       "<table border=\"1\" class=\"dataframe\">\n",
       "  <thead>\n",
       "    <tr style=\"text-align: right;\">\n",
       "      <th></th>\n",
       "      <th>user_handle</th>\n",
       "      <th>assessment_tag</th>\n",
       "      <th>user_assessment_date</th>\n",
       "      <th>user_assessment_score</th>\n",
       "    </tr>\n",
       "  </thead>\n",
       "  <tbody>\n",
       "    <tr>\n",
       "      <th>0</th>\n",
       "      <td>7487</td>\n",
       "      <td>angular-js</td>\n",
       "      <td>2017-08-11 19:03:38</td>\n",
       "      <td>134</td>\n",
       "    </tr>\n",
       "    <tr>\n",
       "      <th>1</th>\n",
       "      <td>7487</td>\n",
       "      <td>css</td>\n",
       "      <td>2017-08-11 20:09:56</td>\n",
       "      <td>38</td>\n",
       "    </tr>\n",
       "    <tr>\n",
       "      <th>2</th>\n",
       "      <td>7487</td>\n",
       "      <td>html5</td>\n",
       "      <td>2017-07-31 18:59:37</td>\n",
       "      <td>84</td>\n",
       "    </tr>\n",
       "    <tr>\n",
       "      <th>3</th>\n",
       "      <td>7487</td>\n",
       "      <td>java</td>\n",
       "      <td>2017-07-31 18:49:27</td>\n",
       "      <td>149</td>\n",
       "    </tr>\n",
       "    <tr>\n",
       "      <th>4</th>\n",
       "      <td>7487</td>\n",
       "      <td>javascript</td>\n",
       "      <td>2017-07-31 19:05:03</td>\n",
       "      <td>92</td>\n",
       "    </tr>\n",
       "  </tbody>\n",
       "</table>\n",
       "</div>"
      ],
      "text/plain": [
       "   user_handle assessment_tag user_assessment_date  user_assessment_score\n",
       "0         7487     angular-js  2017-08-11 19:03:38                    134\n",
       "1         7487            css  2017-08-11 20:09:56                     38\n",
       "2         7487          html5  2017-07-31 18:59:37                     84\n",
       "3         7487           java  2017-07-31 18:49:27                    149\n",
       "4         7487     javascript  2017-07-31 19:05:03                     92"
      ]
     },
     "execution_count": 6,
     "metadata": {},
     "output_type": "execute_result"
    }
   ],
   "source": [
    "assess = pd.read_csv('../data/user_assessment_scores.csv')\n",
    "print(\"assess.shape is\", assess.shape)\n",
    "assess.head()"
   ]
  },
  {
   "cell_type": "markdown",
   "metadata": {},
   "source": [
    "## Think through what we're looking at:\n",
    "- We have an assessment_tag, a course_tag, and an interest_tag that are not neccessarily consistent, but do tend to marry the interests of the users with their assessement score accross the four datasets\n",
    "- What if we marry the tags? Just to get an MVP coded up?\n"
   ]
  },
  {
   "cell_type": "code",
   "execution_count": 9,
   "metadata": {},
   "outputs": [
    {
     "name": "stdout",
     "output_type": "stream",
     "text": [
      "<class 'pandas.core.frame.DataFrame'>\n",
      "RangeIndex: 6571 entries, 0 to 6570\n",
      "Data columns (total 4 columns):\n",
      " #   Column                 Non-Null Count  Dtype \n",
      "---  ------                 --------------  ----- \n",
      " 0   user_handle            6571 non-null   int64 \n",
      " 1   assessment_tag         6571 non-null   object\n",
      " 2   user_assessment_date   6571 non-null   object\n",
      " 3   user_assessment_score  6571 non-null   int64 \n",
      "dtypes: int64(2), object(2)\n",
      "memory usage: 205.5+ KB\n"
     ]
    }
   ],
   "source": [
    "assess.info()"
   ]
  },
  {
   "cell_type": "code",
   "execution_count": 10,
   "metadata": {},
   "outputs": [
    {
     "data": {
      "text/html": [
       "<div>\n",
       "<style scoped>\n",
       "    .dataframe tbody tr th:only-of-type {\n",
       "        vertical-align: middle;\n",
       "    }\n",
       "\n",
       "    .dataframe tbody tr th {\n",
       "        vertical-align: top;\n",
       "    }\n",
       "\n",
       "    .dataframe thead th {\n",
       "        text-align: right;\n",
       "    }\n",
       "</style>\n",
       "<table border=\"1\" class=\"dataframe\">\n",
       "  <thead>\n",
       "    <tr style=\"text-align: right;\">\n",
       "      <th></th>\n",
       "      <th>user_handle</th>\n",
       "      <th>assessment_tag</th>\n",
       "      <th>user_assessment_date</th>\n",
       "      <th>user_assessment_score</th>\n",
       "    </tr>\n",
       "  </thead>\n",
       "  <tbody>\n",
       "    <tr>\n",
       "      <th>0</th>\n",
       "      <td>7487</td>\n",
       "      <td>angular-js</td>\n",
       "      <td>2017-08-11 19:03:38</td>\n",
       "      <td>134</td>\n",
       "    </tr>\n",
       "    <tr>\n",
       "      <th>1</th>\n",
       "      <td>7487</td>\n",
       "      <td>css</td>\n",
       "      <td>2017-08-11 20:09:56</td>\n",
       "      <td>38</td>\n",
       "    </tr>\n",
       "    <tr>\n",
       "      <th>2</th>\n",
       "      <td>7487</td>\n",
       "      <td>html5</td>\n",
       "      <td>2017-07-31 18:59:37</td>\n",
       "      <td>84</td>\n",
       "    </tr>\n",
       "    <tr>\n",
       "      <th>3</th>\n",
       "      <td>7487</td>\n",
       "      <td>java</td>\n",
       "      <td>2017-07-31 18:49:27</td>\n",
       "      <td>149</td>\n",
       "    </tr>\n",
       "    <tr>\n",
       "      <th>4</th>\n",
       "      <td>7487</td>\n",
       "      <td>javascript</td>\n",
       "      <td>2017-07-31 19:05:03</td>\n",
       "      <td>92</td>\n",
       "    </tr>\n",
       "    <tr>\n",
       "      <th>...</th>\n",
       "      <td>...</td>\n",
       "      <td>...</td>\n",
       "      <td>...</td>\n",
       "      <td>...</td>\n",
       "    </tr>\n",
       "    <tr>\n",
       "      <th>6566</th>\n",
       "      <td>958</td>\n",
       "      <td>node-js</td>\n",
       "      <td>2017-04-26 20:36:35</td>\n",
       "      <td>245</td>\n",
       "    </tr>\n",
       "    <tr>\n",
       "      <th>6567</th>\n",
       "      <td>8887</td>\n",
       "      <td>angular-js</td>\n",
       "      <td>2016-09-30 22:30:48</td>\n",
       "      <td>221</td>\n",
       "    </tr>\n",
       "    <tr>\n",
       "      <th>6568</th>\n",
       "      <td>8887</td>\n",
       "      <td>docker</td>\n",
       "      <td>2017-03-24 17:55:06</td>\n",
       "      <td>148</td>\n",
       "    </tr>\n",
       "    <tr>\n",
       "      <th>6569</th>\n",
       "      <td>8887</td>\n",
       "      <td>html5</td>\n",
       "      <td>2017-02-10 16:38:53</td>\n",
       "      <td>241</td>\n",
       "    </tr>\n",
       "    <tr>\n",
       "      <th>6570</th>\n",
       "      <td>4440</td>\n",
       "      <td>c-sharp</td>\n",
       "      <td>2017-09-04 15:58:48</td>\n",
       "      <td>126</td>\n",
       "    </tr>\n",
       "  </tbody>\n",
       "</table>\n",
       "<p>6571 rows × 4 columns</p>\n",
       "</div>"
      ],
      "text/plain": [
       "      user_handle assessment_tag user_assessment_date  user_assessment_score\n",
       "0            7487     angular-js  2017-08-11 19:03:38                    134\n",
       "1            7487            css  2017-08-11 20:09:56                     38\n",
       "2            7487          html5  2017-07-31 18:59:37                     84\n",
       "3            7487           java  2017-07-31 18:49:27                    149\n",
       "4            7487     javascript  2017-07-31 19:05:03                     92\n",
       "...           ...            ...                  ...                    ...\n",
       "6566          958        node-js  2017-04-26 20:36:35                    245\n",
       "6567         8887     angular-js  2016-09-30 22:30:48                    221\n",
       "6568         8887         docker  2017-03-24 17:55:06                    148\n",
       "6569         8887          html5  2017-02-10 16:38:53                    241\n",
       "6570         4440        c-sharp  2017-09-04 15:58:48                    126\n",
       "\n",
       "[6571 rows x 4 columns]"
      ]
     },
     "execution_count": 10,
     "metadata": {},
     "output_type": "execute_result"
    }
   ],
   "source": [
    "assess"
   ]
  },
  {
   "cell_type": "code",
   "execution_count": 11,
   "metadata": {},
   "outputs": [],
   "source": [
    "assess = assess.drop(columns=['user_assessment_date'])"
   ]
  },
  {
   "cell_type": "code",
   "execution_count": 12,
   "metadata": {},
   "outputs": [
    {
     "data": {
      "text/html": [
       "<div>\n",
       "<style scoped>\n",
       "    .dataframe tbody tr th:only-of-type {\n",
       "        vertical-align: middle;\n",
       "    }\n",
       "\n",
       "    .dataframe tbody tr th {\n",
       "        vertical-align: top;\n",
       "    }\n",
       "\n",
       "    .dataframe thead th {\n",
       "        text-align: right;\n",
       "    }\n",
       "</style>\n",
       "<table border=\"1\" class=\"dataframe\">\n",
       "  <thead>\n",
       "    <tr style=\"text-align: right;\">\n",
       "      <th></th>\n",
       "      <th>user_handle</th>\n",
       "      <th>assessment_tag</th>\n",
       "      <th>user_assessment_score</th>\n",
       "    </tr>\n",
       "  </thead>\n",
       "  <tbody>\n",
       "    <tr>\n",
       "      <th>0</th>\n",
       "      <td>7487</td>\n",
       "      <td>angular-js</td>\n",
       "      <td>134</td>\n",
       "    </tr>\n",
       "  </tbody>\n",
       "</table>\n",
       "</div>"
      ],
      "text/plain": [
       "   user_handle assessment_tag  user_assessment_score\n",
       "0         7487     angular-js                    134"
      ]
     },
     "execution_count": 12,
     "metadata": {},
     "output_type": "execute_result"
    }
   ],
   "source": [
    "assess.head(1)"
   ]
  },
  {
   "cell_type": "code",
   "execution_count": 13,
   "metadata": {},
   "outputs": [
    {
     "name": "stdout",
     "output_type": "stream",
     "text": [
      "views.shape is (249238, 6)\n"
     ]
    },
    {
     "data": {
      "text/html": [
       "<div>\n",
       "<style scoped>\n",
       "    .dataframe tbody tr th:only-of-type {\n",
       "        vertical-align: middle;\n",
       "    }\n",
       "\n",
       "    .dataframe tbody tr th {\n",
       "        vertical-align: top;\n",
       "    }\n",
       "\n",
       "    .dataframe thead th {\n",
       "        text-align: right;\n",
       "    }\n",
       "</style>\n",
       "<table border=\"1\" class=\"dataframe\">\n",
       "  <thead>\n",
       "    <tr style=\"text-align: right;\">\n",
       "      <th></th>\n",
       "      <th>user_handle</th>\n",
       "      <th>view_date</th>\n",
       "      <th>course_id</th>\n",
       "      <th>author_handle</th>\n",
       "      <th>level</th>\n",
       "      <th>view_time_seconds</th>\n",
       "    </tr>\n",
       "  </thead>\n",
       "  <tbody>\n",
       "    <tr>\n",
       "      <th>0</th>\n",
       "      <td>1</td>\n",
       "      <td>2017-06-27</td>\n",
       "      <td>cpt-sp2010-web-designers-branding-intro</td>\n",
       "      <td>875</td>\n",
       "      <td>Beginner</td>\n",
       "      <td>3786</td>\n",
       "    </tr>\n",
       "    <tr>\n",
       "      <th>1</th>\n",
       "      <td>1</td>\n",
       "      <td>2017-06-28</td>\n",
       "      <td>cpt-sp2010-web-designers-branding-intro</td>\n",
       "      <td>875</td>\n",
       "      <td>Beginner</td>\n",
       "      <td>1098</td>\n",
       "    </tr>\n",
       "    <tr>\n",
       "      <th>2</th>\n",
       "      <td>1</td>\n",
       "      <td>2017-06-28</td>\n",
       "      <td>cpt-sp2010-web-designers-css</td>\n",
       "      <td>875</td>\n",
       "      <td>Intermediate</td>\n",
       "      <td>4406</td>\n",
       "    </tr>\n",
       "    <tr>\n",
       "      <th>3</th>\n",
       "      <td>1</td>\n",
       "      <td>2017-07-27</td>\n",
       "      <td>cpt-sp2010-web-designers-css</td>\n",
       "      <td>875</td>\n",
       "      <td>Intermediate</td>\n",
       "      <td>553</td>\n",
       "    </tr>\n",
       "    <tr>\n",
       "      <th>4</th>\n",
       "      <td>1</td>\n",
       "      <td>2017-09-12</td>\n",
       "      <td>aws-certified-solutions-architect-professional</td>\n",
       "      <td>281</td>\n",
       "      <td>Advanced</td>\n",
       "      <td>102</td>\n",
       "    </tr>\n",
       "  </tbody>\n",
       "</table>\n",
       "</div>"
      ],
      "text/plain": [
       "   user_handle   view_date                                       course_id  \\\n",
       "0            1  2017-06-27         cpt-sp2010-web-designers-branding-intro   \n",
       "1            1  2017-06-28         cpt-sp2010-web-designers-branding-intro   \n",
       "2            1  2017-06-28                    cpt-sp2010-web-designers-css   \n",
       "3            1  2017-07-27                    cpt-sp2010-web-designers-css   \n",
       "4            1  2017-09-12  aws-certified-solutions-architect-professional   \n",
       "\n",
       "   author_handle         level  view_time_seconds  \n",
       "0            875      Beginner               3786  \n",
       "1            875      Beginner               1098  \n",
       "2            875  Intermediate               4406  \n",
       "3            875  Intermediate                553  \n",
       "4            281      Advanced                102  "
      ]
     },
     "execution_count": 13,
     "metadata": {},
     "output_type": "execute_result"
    }
   ],
   "source": [
    "views = pd.read_csv('../data/user_course_views.csv')\n",
    "print(\"views.shape is\", views.shape)\n",
    "views.head()"
   ]
  },
  {
   "cell_type": "markdown",
   "metadata": {},
   "source": []
  },
  {
   "cell_type": "code",
   "execution_count": 14,
   "metadata": {},
   "outputs": [
    {
     "data": {
      "text/plain": [
       "(34, 6)"
      ]
     },
     "execution_count": 14,
     "metadata": {},
     "output_type": "execute_result"
    }
   ],
   "source": [
    "views[views['course_id']=='wpf-advanced-topics'].shape"
   ]
  },
  {
   "cell_type": "code",
   "execution_count": 15,
   "metadata": {},
   "outputs": [
    {
     "name": "stdout",
     "output_type": "stream",
     "text": [
      "<class 'pandas.core.frame.DataFrame'>\n",
      "RangeIndex: 249238 entries, 0 to 249237\n",
      "Data columns (total 6 columns):\n",
      " #   Column             Non-Null Count   Dtype \n",
      "---  ------             --------------   ----- \n",
      " 0   user_handle        249238 non-null  int64 \n",
      " 1   view_date          249238 non-null  object\n",
      " 2   course_id          249238 non-null  object\n",
      " 3   author_handle      249238 non-null  int64 \n",
      " 4   level              249238 non-null  object\n",
      " 5   view_time_seconds  249238 non-null  int64 \n",
      "dtypes: int64(3), object(3)\n",
      "memory usage: 11.4+ MB\n"
     ]
    }
   ],
   "source": [
    "views.info()"
   ]
  },
  {
   "cell_type": "code",
   "execution_count": 16,
   "metadata": {},
   "outputs": [
    {
     "name": "stdout",
     "output_type": "stream",
     "text": [
      "interests.shape is (297526, 3)\n"
     ]
    },
    {
     "data": {
      "text/html": [
       "<div>\n",
       "<style scoped>\n",
       "    .dataframe tbody tr th:only-of-type {\n",
       "        vertical-align: middle;\n",
       "    }\n",
       "\n",
       "    .dataframe tbody tr th {\n",
       "        vertical-align: top;\n",
       "    }\n",
       "\n",
       "    .dataframe thead th {\n",
       "        text-align: right;\n",
       "    }\n",
       "</style>\n",
       "<table border=\"1\" class=\"dataframe\">\n",
       "  <thead>\n",
       "    <tr style=\"text-align: right;\">\n",
       "      <th></th>\n",
       "      <th>user_handle</th>\n",
       "      <th>interest_tag</th>\n",
       "      <th>date_followed</th>\n",
       "    </tr>\n",
       "  </thead>\n",
       "  <tbody>\n",
       "    <tr>\n",
       "      <th>0</th>\n",
       "      <td>1</td>\n",
       "      <td>mvc-scaffolding</td>\n",
       "      <td>2017-06-27 16:26:52</td>\n",
       "    </tr>\n",
       "    <tr>\n",
       "      <th>1</th>\n",
       "      <td>1</td>\n",
       "      <td>mvc2</td>\n",
       "      <td>2017-06-27 16:26:52</td>\n",
       "    </tr>\n",
       "    <tr>\n",
       "      <th>2</th>\n",
       "      <td>1</td>\n",
       "      <td>mvc-html-helpers</td>\n",
       "      <td>2017-06-27 16:26:52</td>\n",
       "    </tr>\n",
       "    <tr>\n",
       "      <th>3</th>\n",
       "      <td>1</td>\n",
       "      <td>mvc4-ioc</td>\n",
       "      <td>2017-06-27 16:26:52</td>\n",
       "    </tr>\n",
       "    <tr>\n",
       "      <th>4</th>\n",
       "      <td>1</td>\n",
       "      <td>mvc-testing</td>\n",
       "      <td>2017-06-27 16:26:52</td>\n",
       "    </tr>\n",
       "  </tbody>\n",
       "</table>\n",
       "</div>"
      ],
      "text/plain": [
       "   user_handle      interest_tag        date_followed\n",
       "0            1   mvc-scaffolding  2017-06-27 16:26:52\n",
       "1            1              mvc2  2017-06-27 16:26:52\n",
       "2            1  mvc-html-helpers  2017-06-27 16:26:52\n",
       "3            1          mvc4-ioc  2017-06-27 16:26:52\n",
       "4            1       mvc-testing  2017-06-27 16:26:52"
      ]
     },
     "execution_count": 16,
     "metadata": {},
     "output_type": "execute_result"
    }
   ],
   "source": [
    "interests = pd.read_csv('../data/user_interests.csv')\n",
    "print(\"interests.shape is\", interests.shape)\n",
    "interests.head()"
   ]
  },
  {
   "cell_type": "code",
   "execution_count": 17,
   "metadata": {},
   "outputs": [
    {
     "name": "stdout",
     "output_type": "stream",
     "text": [
      "<class 'pandas.core.frame.DataFrame'>\n",
      "RangeIndex: 297526 entries, 0 to 297525\n",
      "Data columns (total 3 columns):\n",
      " #   Column         Non-Null Count   Dtype \n",
      "---  ------         --------------   ----- \n",
      " 0   user_handle    297526 non-null  int64 \n",
      " 1   interest_tag   297526 non-null  object\n",
      " 2   date_followed  297526 non-null  object\n",
      "dtypes: int64(1), object(2)\n",
      "memory usage: 6.8+ MB\n"
     ]
    }
   ],
   "source": [
    "interests.info()"
   ]
  },
  {
   "cell_type": "markdown",
   "metadata": {},
   "source": [
    "## Drop unnecessary columns\n",
    "---\n",
    "\n",
    "For this first run through, drop all of the null values from courses as there are a small number of them--112/11337"
   ]
  },
  {
   "cell_type": "code",
   "execution_count": 18,
   "metadata": {},
   "outputs": [],
   "source": [
    "courses = courses.dropna()"
   ]
  },
  {
   "cell_type": "markdown",
   "metadata": {},
   "source": [
    "## Merge into a single dataframe\n",
    "---\n",
    "\n",
    "Use the user_handle column to merge three of the dataframes and course_id to merge the other\n",
    "\n",
    "look at them severally before trying to merge them all\n"
   ]
  },
  {
   "cell_type": "code",
   "execution_count": 22,
   "metadata": {},
   "outputs": [],
   "source": [
    "def make_dfs():\n",
    "    '''\n",
    "    return updated list with each df for parsing\n",
    "    '''\n",
    "    return [courses, assess, views, interests]"
   ]
  },
  {
   "cell_type": "code",
   "execution_count": 23,
   "metadata": {},
   "outputs": [],
   "source": [
    "dfs=make_dfs()\n",
    "df_names=['courses', 'assess', 'views', 'interests']"
   ]
  },
  {
   "cell_type": "code",
   "execution_count": 24,
   "metadata": {},
   "outputs": [
    {
     "name": "stdout",
     "output_type": "stream",
     "text": [
      "(11225, 2)\n",
      "(6571, 3)\n",
      "(249238, 6)\n",
      "(297526, 3)\n"
     ]
    }
   ],
   "source": [
    "for df in dfs:\n",
    "    print(df.shape)"
   ]
  },
  {
   "cell_type": "code",
   "execution_count": 25,
   "metadata": {},
   "outputs": [
    {
     "name": "stdout",
     "output_type": "stream",
     "text": [
      "***courses***\n",
      "course_id      object\n",
      "course_tags    object\n",
      "dtype: object\n",
      "***assess***\n",
      "user_handle               int64\n",
      "assessment_tag           object\n",
      "user_assessment_score     int64\n",
      "dtype: object\n",
      "***views***\n",
      "user_handle           int64\n",
      "view_date            object\n",
      "course_id            object\n",
      "author_handle         int64\n",
      "level                object\n",
      "view_time_seconds     int64\n",
      "dtype: object\n",
      "***interests***\n",
      "user_handle       int64\n",
      "interest_tag     object\n",
      "date_followed    object\n",
      "dtype: object\n"
     ]
    }
   ],
   "source": [
    "for i in range(len(dfs)):\n",
    "    print(\"***\" + df_names[i] + \"***\")\n",
    "    print(dfs[i].dtypes)"
   ]
  },
  {
   "cell_type": "code",
   "execution_count": 40,
   "metadata": {},
   "outputs": [
    {
     "data": {
      "text/plain": [
       "user_handle                   0\n",
       "interest_tag               4291\n",
       "date_followed              4291\n",
       "assessment_tag           294129\n",
       "user_assessment_score    294129\n",
       "dtype: int64"
      ]
     },
     "execution_count": 40,
     "metadata": {},
     "output_type": "execute_result"
    }
   ],
   "source": [
    "# Try to make a dataframe merging interests to assess on the tags and user_handle\n",
    "pd.merge(left=interests, right=assess, how='outer', left_on=['user_handle', 'interest_tag'], right_on=['user_handle', 'assessment_tag']).isna().sum()"
   ]
  },
  {
   "cell_type": "code",
   "execution_count": null,
   "metadata": {},
   "outputs": [],
   "source": []
  },
  {
   "cell_type": "code",
   "execution_count": 41,
   "metadata": {},
   "outputs": [
    {
     "data": {
      "text/html": [
       "<div>\n",
       "<style scoped>\n",
       "    .dataframe tbody tr th:only-of-type {\n",
       "        vertical-align: middle;\n",
       "    }\n",
       "\n",
       "    .dataframe tbody tr th {\n",
       "        vertical-align: top;\n",
       "    }\n",
       "\n",
       "    .dataframe thead th {\n",
       "        text-align: right;\n",
       "    }\n",
       "</style>\n",
       "<table border=\"1\" class=\"dataframe\">\n",
       "  <thead>\n",
       "    <tr style=\"text-align: right;\">\n",
       "      <th></th>\n",
       "      <th>user_handle</th>\n",
       "      <th>assessment_tag</th>\n",
       "      <th>user_assessment_score</th>\n",
       "    </tr>\n",
       "  </thead>\n",
       "  <tbody>\n",
       "    <tr>\n",
       "      <th>0</th>\n",
       "      <td>7487</td>\n",
       "      <td>angular-js</td>\n",
       "      <td>134</td>\n",
       "    </tr>\n",
       "  </tbody>\n",
       "</table>\n",
       "</div>"
      ],
      "text/plain": [
       "   user_handle assessment_tag  user_assessment_score\n",
       "0         7487     angular-js                    134"
      ]
     },
     "execution_count": 41,
     "metadata": {},
     "output_type": "execute_result"
    }
   ],
   "source": [
    "assess.head(1)"
   ]
  },
  {
   "cell_type": "markdown",
   "metadata": {},
   "source": [
    "How many unique tags exist in each dataframe?"
   ]
  },
  {
   "cell_type": "code",
   "execution_count": 42,
   "metadata": {},
   "outputs": [
    {
     "name": "stdout",
     "output_type": "stream",
     "text": [
      "There are 998 unique course tags\n",
      "There are 5830 unique course ids\n"
     ]
    }
   ],
   "source": [
    "tags = len(courses.course_tags.value_counts())\n",
    "ids = len(courses.course_id.value_counts())\n",
    "\n",
    "print(f\"There are {tags} unique course tags\")\n",
    "print(f\"There are {ids} unique course ids\")"
   ]
  },
  {
   "cell_type": "code",
   "execution_count": 43,
   "metadata": {},
   "outputs": [
    {
     "data": {
      "text/plain": [
       "Index(['user_handle', 'view_date', 'course_id', 'author_handle', 'level',\n",
       "       'view_time_seconds'],\n",
       "      dtype='object')"
      ]
     },
     "execution_count": 43,
     "metadata": {},
     "output_type": "execute_result"
    }
   ],
   "source": [
    "views.columns"
   ]
  },
  {
   "cell_type": "code",
   "execution_count": 44,
   "metadata": {},
   "outputs": [
    {
     "data": {
      "text/plain": [
       "Index(['user_handle', 'assessment_tag', 'user_assessment_score'], dtype='object')"
      ]
     },
     "execution_count": 44,
     "metadata": {},
     "output_type": "execute_result"
    }
   ],
   "source": [
    "assess.columns"
   ]
  },
  {
   "cell_type": "code",
   "execution_count": 45,
   "metadata": {},
   "outputs": [
    {
     "name": "stdout",
     "output_type": "stream",
     "text": [
      "There are 54 unique assessment tags\n"
     ]
    }
   ],
   "source": [
    "assess_tags = len(assess.assessment_tag.value_counts())\n",
    "\n",
    "print(f\"There are {assess_tags} unique assessment tags\")\n"
   ]
  },
  {
   "cell_type": "code",
   "execution_count": 46,
   "metadata": {},
   "outputs": [
    {
     "name": "stdout",
     "output_type": "stream",
     "text": [
      "There are 748 unique interest tags\n"
     ]
    }
   ],
   "source": [
    "interest_tags = len(interests.interest_tag.value_counts())\n",
    "\n",
    "print(f\"There are {interest_tags} unique interest tags\")\n"
   ]
  },
  {
   "cell_type": "code",
   "execution_count": 47,
   "metadata": {},
   "outputs": [
    {
     "name": "stdout",
     "output_type": "stream",
     "text": [
      "Index(['course_id', 'course_tags'], dtype='object')\n",
      "Index(['user_handle', 'assessment_tag', 'user_assessment_score'], dtype='object')\n",
      "Index(['user_handle', 'view_date', 'course_id', 'author_handle', 'level',\n",
      "       'view_time_seconds'],\n",
      "      dtype='object')\n",
      "Index(['user_handle', 'interest_tag', 'date_followed'], dtype='object')\n"
     ]
    }
   ],
   "source": [
    "for df in dfs:\n",
    "    print(df.columns)"
   ]
  },
  {
   "cell_type": "code",
   "execution_count": 48,
   "metadata": {},
   "outputs": [
    {
     "data": {
      "text/plain": [
       "['courses', 'assess', 'views', 'interests']"
      ]
     },
     "execution_count": 48,
     "metadata": {},
     "output_type": "execute_result"
    }
   ],
   "source": [
    "df_names"
   ]
  },
  {
   "cell_type": "code",
   "execution_count": 49,
   "metadata": {},
   "outputs": [
    {
     "data": {
      "text/plain": [
       "(6571, 3)"
      ]
     },
     "execution_count": 49,
     "metadata": {},
     "output_type": "execute_result"
    }
   ],
   "source": [
    "assess.shape"
   ]
  },
  {
   "cell_type": "code",
   "execution_count": 50,
   "metadata": {},
   "outputs": [
    {
     "data": {
      "text/plain": [
       "(249238, 6)"
      ]
     },
     "execution_count": 50,
     "metadata": {},
     "output_type": "execute_result"
    }
   ],
   "source": [
    "views.shape"
   ]
  },
  {
   "cell_type": "code",
   "execution_count": null,
   "metadata": {},
   "outputs": [],
   "source": []
  },
  {
   "cell_type": "code",
   "execution_count": 51,
   "metadata": {},
   "outputs": [
    {
     "data": {
      "text/html": [
       "<div>\n",
       "<style scoped>\n",
       "    .dataframe tbody tr th:only-of-type {\n",
       "        vertical-align: middle;\n",
       "    }\n",
       "\n",
       "    .dataframe tbody tr th {\n",
       "        vertical-align: top;\n",
       "    }\n",
       "\n",
       "    .dataframe thead th {\n",
       "        text-align: right;\n",
       "    }\n",
       "</style>\n",
       "<table border=\"1\" class=\"dataframe\">\n",
       "  <thead>\n",
       "    <tr style=\"text-align: right;\">\n",
       "      <th></th>\n",
       "      <th>user_handle</th>\n",
       "      <th>view_date</th>\n",
       "      <th>course_id</th>\n",
       "      <th>author_handle</th>\n",
       "      <th>level</th>\n",
       "      <th>view_time_seconds</th>\n",
       "      <th>assessment_tag</th>\n",
       "      <th>user_assessment_score</th>\n",
       "    </tr>\n",
       "  </thead>\n",
       "  <tbody>\n",
       "    <tr>\n",
       "      <th>0</th>\n",
       "      <td>2</td>\n",
       "      <td>2017-05-01</td>\n",
       "      <td>arnold-maya-fundamentals</td>\n",
       "      <td>273</td>\n",
       "      <td>Beginner</td>\n",
       "      <td>3277</td>\n",
       "      <td>photoshop</td>\n",
       "      <td>139</td>\n",
       "    </tr>\n",
       "    <tr>\n",
       "      <th>1</th>\n",
       "      <td>2</td>\n",
       "      <td>2017-05-08</td>\n",
       "      <td>animated-web-social-media-banners-photoshop-fl...</td>\n",
       "      <td>62</td>\n",
       "      <td>Advanced</td>\n",
       "      <td>1996</td>\n",
       "      <td>photoshop</td>\n",
       "      <td>139</td>\n",
       "    </tr>\n",
       "    <tr>\n",
       "      <th>2</th>\n",
       "      <td>2</td>\n",
       "      <td>2017-05-08</td>\n",
       "      <td>arnold-maya-fundamentals</td>\n",
       "      <td>273</td>\n",
       "      <td>Beginner</td>\n",
       "      <td>2612</td>\n",
       "      <td>photoshop</td>\n",
       "      <td>139</td>\n",
       "    </tr>\n",
       "    <tr>\n",
       "      <th>3</th>\n",
       "      <td>2</td>\n",
       "      <td>2017-05-09</td>\n",
       "      <td>arnold-maya-fundamentals</td>\n",
       "      <td>273</td>\n",
       "      <td>Beginner</td>\n",
       "      <td>2142</td>\n",
       "      <td>photoshop</td>\n",
       "      <td>139</td>\n",
       "    </tr>\n",
       "    <tr>\n",
       "      <th>4</th>\n",
       "      <td>2</td>\n",
       "      <td>2017-05-11</td>\n",
       "      <td>design-2d-game-level-illustrator-2113</td>\n",
       "      <td>640</td>\n",
       "      <td>Advanced</td>\n",
       "      <td>2131</td>\n",
       "      <td>photoshop</td>\n",
       "      <td>139</td>\n",
       "    </tr>\n",
       "  </tbody>\n",
       "</table>\n",
       "</div>"
      ],
      "text/plain": [
       "   user_handle   view_date                                          course_id  \\\n",
       "0            2  2017-05-01                           arnold-maya-fundamentals   \n",
       "1            2  2017-05-08  animated-web-social-media-banners-photoshop-fl...   \n",
       "2            2  2017-05-08                           arnold-maya-fundamentals   \n",
       "3            2  2017-05-09                           arnold-maya-fundamentals   \n",
       "4            2  2017-05-11              design-2d-game-level-illustrator-2113   \n",
       "\n",
       "   author_handle     level  view_time_seconds assessment_tag  \\\n",
       "0            273  Beginner               3277      photoshop   \n",
       "1             62  Advanced               1996      photoshop   \n",
       "2            273  Beginner               2612      photoshop   \n",
       "3            273  Beginner               2142      photoshop   \n",
       "4            640  Advanced               2131      photoshop   \n",
       "\n",
       "   user_assessment_score  \n",
       "0                    139  \n",
       "1                    139  \n",
       "2                    139  \n",
       "3                    139  \n",
       "4                    139  "
      ]
     },
     "execution_count": 51,
     "metadata": {},
     "output_type": "execute_result"
    }
   ],
   "source": [
    "pd.merge(left=views, right=assess, left_on='user_handle', right_on='user_handle').head() #.shape"
   ]
  },
  {
   "cell_type": "code",
   "execution_count": 52,
   "metadata": {},
   "outputs": [
    {
     "data": {
      "text/plain": [
       "(305883, 8)"
      ]
     },
     "execution_count": 52,
     "metadata": {},
     "output_type": "execute_result"
    }
   ],
   "source": [
    "pd.merge(left=views, right=assess, left_on='user_handle', right_on='user_handle').shape"
   ]
  },
  {
   "cell_type": "markdown",
   "metadata": {},
   "source": [
    "That merge didn't go as planned. Are the course_tags neccessary? How closely are they related to the interests tags?"
   ]
  },
  {
   "cell_type": "code",
   "execution_count": 53,
   "metadata": {},
   "outputs": [
    {
     "data": {
      "text/plain": [
       "javascript               4878\n",
       "javascript-frameworks    4469\n",
       "javascript-libraries     4469\n",
       "c#                       4178\n",
       "cloud-computing          3933\n",
       "                         ... \n",
       "stitcher                    2\n",
       "ansys                       2\n",
       "ketiv                       2\n",
       "onshape                     2\n",
       "netfabb                     1\n",
       "Name: interest_tag, Length: 748, dtype: int64"
      ]
     },
     "execution_count": 53,
     "metadata": {},
     "output_type": "execute_result"
    }
   ],
   "source": [
    "interests.interest_tag.value_counts()"
   ]
  },
  {
   "cell_type": "code",
   "execution_count": 54,
   "metadata": {},
   "outputs": [
    {
     "data": {
      "text/plain": [
       "3d-modeling                     484\n",
       "3d-rendering                    394\n",
       "3d-texturing                    347\n",
       "3d-animation                    307\n",
       "creative-pipeline               290\n",
       "                               ... \n",
       "jdbc                              1\n",
       "moq                               1\n",
       "stripe                            1\n",
       "web-compression-optimization      1\n",
       "filestream                        1\n",
       "Name: course_tags, Length: 998, dtype: int64"
      ]
     },
     "execution_count": 54,
     "metadata": {},
     "output_type": "execute_result"
    }
   ],
   "source": [
    "courses.course_tags.value_counts()"
   ]
  },
  {
   "cell_type": "markdown",
   "metadata": {},
   "source": [
    "## Create a `user-course` dataframe\n",
    "**It should have the following columns to start**\n",
    "- user_handle\n",
    "- total_users_courses\n",
    "- course_id\n",
    "- course_tags\n",
    "- first_view_date\n",
    "- total_views\n",
    "- avg_viewtime\n",
    "- level\n",
    "- author_handle\n",
    "- interest_tags\n",
    "- user_assessment_score\n",
    "- user_avg_assess_score\n",
    "\n",
    "**It should have a compound-index of user_handle_course_id**<br>\n",
    "\n",
    "***On second thought, will that be helpful or only serve to delay the time to get to the MVP?***\n",
    "\n",
    "## Create a `users` dataframe\n",
    "**This should really have the user_handle as an index**\n",
    "\n",
    "\n",
    "From here, create a DBScan clustering model and use the clusters from it as an additional feature.<br>\n",
    "\n",
    "Once completed, run the cosine similarity and create a way to score the users."
   ]
  },
  {
   "cell_type": "markdown",
   "metadata": {},
   "source": [
    "This will require that we group each dataframe by the above factors"
   ]
  },
  {
   "cell_type": "code",
   "execution_count": 55,
   "metadata": {},
   "outputs": [
    {
     "name": "stdout",
     "output_type": "stream",
     "text": [
      "There are 3114 user_handles in the assess df\n",
      "There are 10000 user_handles in the interests df\n",
      "There are 8760 user_handles in the views df\n"
     ]
    }
   ],
   "source": [
    "assess_users = len(assess.user_handle.value_counts())\n",
    "interests_users = len(interests.user_handle.value_counts())\n",
    "views_users = len(views.user_handle.value_counts())\n",
    "\n",
    "print(f\"There are {assess_users} user_handles in the assess df\")\n",
    "print(f\"There are {interests_users} user_handles in the interests df\")\n",
    "print(f\"There are {views_users} user_handles in the views df\")"
   ]
  },
  {
   "cell_type": "markdown",
   "metadata": {},
   "source": [
    "I'll need to figure out a logic to create this table that has \n",
    "1. a unique row for each comination of user and course that the user viewed\n",
    "2. the assessment and score that he user gave the course\n",
    "3. linked together by the course tags, assessment tags\n",
    "4. whether or not course tag or assessment tag match an interest tag from this user"
   ]
  },
  {
   "cell_type": "code",
   "execution_count": 56,
   "metadata": {},
   "outputs": [],
   "source": [
    "users = pd.merge(left=interests, right=views, how='outer', left_on='user_handle', right_on='user_handle')"
   ]
  },
  {
   "cell_type": "code",
   "execution_count": 57,
   "metadata": {},
   "outputs": [
    {
     "data": {
      "text/plain": [
       "(9474074, 8)"
      ]
     },
     "execution_count": 57,
     "metadata": {},
     "output_type": "execute_result"
    }
   ],
   "source": [
    "users.shape"
   ]
  },
  {
   "cell_type": "code",
   "execution_count": 58,
   "metadata": {},
   "outputs": [
    {
     "data": {
      "text/plain": [
       "(10000,)"
      ]
     },
     "execution_count": 58,
     "metadata": {},
     "output_type": "execute_result"
    }
   ],
   "source": [
    "users.user_handle.value_counts().shape"
   ]
  },
  {
   "cell_type": "code",
   "execution_count": 59,
   "metadata": {},
   "outputs": [
    {
     "data": {
      "text/plain": [
       "Index(['user_handle', 'interest_tag', 'date_followed', 'view_date',\n",
       "       'course_id', 'author_handle', 'level', 'view_time_seconds'],\n",
       "      dtype='object')"
      ]
     },
     "execution_count": 59,
     "metadata": {},
     "output_type": "execute_result"
    }
   ],
   "source": [
    "users.columns"
   ]
  },
  {
   "cell_type": "code",
   "execution_count": 60,
   "metadata": {},
   "outputs": [],
   "source": [
    "users = users.drop(columns=['view_date', 'author_handle'])"
   ]
  },
  {
   "cell_type": "markdown",
   "metadata": {},
   "source": [
    "We use the outer join merge, or otherwise keep all user_handles total, so that we can construct a dataset that includes those that never took a course but only gave their interests"
   ]
  },
  {
   "cell_type": "code",
   "execution_count": 61,
   "metadata": {},
   "outputs": [],
   "source": [
    "users = pd.merge(left=users, right=assess, how='outer', left_on='user_handle', right_on='user_handle')"
   ]
  },
  {
   "cell_type": "code",
   "execution_count": 62,
   "metadata": {},
   "outputs": [
    {
     "data": {
      "text/plain": [
       "(21951197, 8)"
      ]
     },
     "execution_count": 62,
     "metadata": {},
     "output_type": "execute_result"
    }
   ],
   "source": [
    "users.shape"
   ]
  },
  {
   "cell_type": "code",
   "execution_count": 63,
   "metadata": {},
   "outputs": [
    {
     "data": {
      "text/plain": [
       "(10000,)"
      ]
     },
     "execution_count": 63,
     "metadata": {},
     "output_type": "execute_result"
    }
   ],
   "source": [
    "users.user_handle.value_counts().shape"
   ]
  },
  {
   "cell_type": "code",
   "execution_count": 65,
   "metadata": {},
   "outputs": [
    {
     "data": {
      "text/plain": [
       "Index(['user_handle', 'interest_tag', 'date_followed', 'course_id', 'level',\n",
       "       'view_time_seconds', 'assessment_tag', 'user_assessment_score'],\n",
       "      dtype='object')"
      ]
     },
     "execution_count": 65,
     "metadata": {},
     "output_type": "execute_result"
    }
   ],
   "source": [
    "users.columns"
   ]
  },
  {
   "cell_type": "code",
   "execution_count": 66,
   "metadata": {},
   "outputs": [],
   "source": [
    "users = pd.merge(left=users, right=courses, how='outer', left_on='course_id', right_on='course_id')"
   ]
  },
  {
   "cell_type": "code",
   "execution_count": 67,
   "metadata": {},
   "outputs": [
    {
     "data": {
      "text/plain": [
       "(42253097, 9)"
      ]
     },
     "execution_count": 67,
     "metadata": {},
     "output_type": "execute_result"
    }
   ],
   "source": [
    "users.shape"
   ]
  },
  {
   "cell_type": "code",
   "execution_count": 68,
   "metadata": {},
   "outputs": [
    {
     "data": {
      "text/plain": [
       "(10000,)"
      ]
     },
     "execution_count": 68,
     "metadata": {},
     "output_type": "execute_result"
    }
   ],
   "source": [
    "users.user_handle.value_counts().shape"
   ]
  },
  {
   "cell_type": "code",
   "execution_count": 69,
   "metadata": {},
   "outputs": [
    {
     "data": {
      "text/plain": [
       "Index(['user_handle', 'interest_tag', 'date_followed', 'course_id', 'level',\n",
       "       'view_time_seconds', 'assessment_tag', 'user_assessment_score',\n",
       "       'course_tags'],\n",
       "      dtype='object')"
      ]
     },
     "execution_count": 69,
     "metadata": {},
     "output_type": "execute_result"
    }
   ],
   "source": [
    "users.columns"
   ]
  },
  {
   "cell_type": "code",
   "execution_count": 71,
   "metadata": {
    "scrolled": true
   },
   "outputs": [
    {
     "data": {
      "text/html": [
       "<div>\n",
       "<style scoped>\n",
       "    .dataframe tbody tr th:only-of-type {\n",
       "        vertical-align: middle;\n",
       "    }\n",
       "\n",
       "    .dataframe tbody tr th {\n",
       "        vertical-align: top;\n",
       "    }\n",
       "\n",
       "    .dataframe thead th {\n",
       "        text-align: right;\n",
       "    }\n",
       "</style>\n",
       "<table border=\"1\" class=\"dataframe\">\n",
       "  <thead>\n",
       "    <tr style=\"text-align: right;\">\n",
       "      <th></th>\n",
       "      <th>user_handle</th>\n",
       "      <th>interest_tag</th>\n",
       "      <th>course_id</th>\n",
       "      <th>level</th>\n",
       "      <th>view_time_seconds</th>\n",
       "      <th>assessment_tag</th>\n",
       "      <th>user_assessment_score</th>\n",
       "      <th>course_tags</th>\n",
       "    </tr>\n",
       "  </thead>\n",
       "  <tbody>\n",
       "    <tr>\n",
       "      <th>0</th>\n",
       "      <td>1</td>\n",
       "      <td>mvc-scaffolding</td>\n",
       "      <td>cpt-sp2010-web-designers-branding-intro</td>\n",
       "      <td>Beginner</td>\n",
       "      <td>3786.0</td>\n",
       "      <td>NaN</td>\n",
       "      <td>NaN</td>\n",
       "      <td>sharepoint</td>\n",
       "    </tr>\n",
       "    <tr>\n",
       "      <th>1</th>\n",
       "      <td>1</td>\n",
       "      <td>mvc-scaffolding</td>\n",
       "      <td>cpt-sp2010-web-designers-branding-intro</td>\n",
       "      <td>Beginner</td>\n",
       "      <td>1098.0</td>\n",
       "      <td>NaN</td>\n",
       "      <td>NaN</td>\n",
       "      <td>sharepoint</td>\n",
       "    </tr>\n",
       "    <tr>\n",
       "      <th>2</th>\n",
       "      <td>1</td>\n",
       "      <td>mvc2</td>\n",
       "      <td>cpt-sp2010-web-designers-branding-intro</td>\n",
       "      <td>Beginner</td>\n",
       "      <td>3786.0</td>\n",
       "      <td>NaN</td>\n",
       "      <td>NaN</td>\n",
       "      <td>sharepoint</td>\n",
       "    </tr>\n",
       "    <tr>\n",
       "      <th>3</th>\n",
       "      <td>1</td>\n",
       "      <td>mvc2</td>\n",
       "      <td>cpt-sp2010-web-designers-branding-intro</td>\n",
       "      <td>Beginner</td>\n",
       "      <td>1098.0</td>\n",
       "      <td>NaN</td>\n",
       "      <td>NaN</td>\n",
       "      <td>sharepoint</td>\n",
       "    </tr>\n",
       "    <tr>\n",
       "      <th>4</th>\n",
       "      <td>1</td>\n",
       "      <td>mvc-html-helpers</td>\n",
       "      <td>cpt-sp2010-web-designers-branding-intro</td>\n",
       "      <td>Beginner</td>\n",
       "      <td>3786.0</td>\n",
       "      <td>NaN</td>\n",
       "      <td>NaN</td>\n",
       "      <td>sharepoint</td>\n",
       "    </tr>\n",
       "    <tr>\n",
       "      <th>...</th>\n",
       "      <td>...</td>\n",
       "      <td>...</td>\n",
       "      <td>...</td>\n",
       "      <td>...</td>\n",
       "      <td>...</td>\n",
       "      <td>...</td>\n",
       "      <td>...</td>\n",
       "      <td>...</td>\n",
       "    </tr>\n",
       "    <tr>\n",
       "      <th>42253092</th>\n",
       "      <td>9919</td>\n",
       "      <td>performance</td>\n",
       "      <td>traveling-loyalty-programs-best-practices</td>\n",
       "      <td>Beginner</td>\n",
       "      <td>1641.0</td>\n",
       "      <td>NaN</td>\n",
       "      <td>NaN</td>\n",
       "      <td>travel</td>\n",
       "    </tr>\n",
       "    <tr>\n",
       "      <th>42253093</th>\n",
       "      <td>9919</td>\n",
       "      <td>performance-optimization</td>\n",
       "      <td>traveling-loyalty-programs-best-practices</td>\n",
       "      <td>Beginner</td>\n",
       "      <td>1641.0</td>\n",
       "      <td>NaN</td>\n",
       "      <td>NaN</td>\n",
       "      <td>travel</td>\n",
       "    </tr>\n",
       "    <tr>\n",
       "      <th>42253094</th>\n",
       "      <td>9919</td>\n",
       "      <td>requirements-gathering</td>\n",
       "      <td>traveling-loyalty-programs-best-practices</td>\n",
       "      <td>Beginner</td>\n",
       "      <td>1641.0</td>\n",
       "      <td>NaN</td>\n",
       "      <td>NaN</td>\n",
       "      <td>travel</td>\n",
       "    </tr>\n",
       "    <tr>\n",
       "      <th>42253095</th>\n",
       "      <td>9919</td>\n",
       "      <td>software-defined-networking</td>\n",
       "      <td>traveling-loyalty-programs-best-practices</td>\n",
       "      <td>Beginner</td>\n",
       "      <td>1641.0</td>\n",
       "      <td>NaN</td>\n",
       "      <td>NaN</td>\n",
       "      <td>travel</td>\n",
       "    </tr>\n",
       "    <tr>\n",
       "      <th>42253096</th>\n",
       "      <td>9919</td>\n",
       "      <td>productivity-apps</td>\n",
       "      <td>traveling-loyalty-programs-best-practices</td>\n",
       "      <td>Beginner</td>\n",
       "      <td>1641.0</td>\n",
       "      <td>NaN</td>\n",
       "      <td>NaN</td>\n",
       "      <td>travel</td>\n",
       "    </tr>\n",
       "  </tbody>\n",
       "</table>\n",
       "<p>42253097 rows × 8 columns</p>\n",
       "</div>"
      ],
      "text/plain": [
       "          user_handle                 interest_tag  \\\n",
       "0                   1              mvc-scaffolding   \n",
       "1                   1              mvc-scaffolding   \n",
       "2                   1                         mvc2   \n",
       "3                   1                         mvc2   \n",
       "4                   1             mvc-html-helpers   \n",
       "...               ...                          ...   \n",
       "42253092         9919                  performance   \n",
       "42253093         9919     performance-optimization   \n",
       "42253094         9919       requirements-gathering   \n",
       "42253095         9919  software-defined-networking   \n",
       "42253096         9919            productivity-apps   \n",
       "\n",
       "                                          course_id     level  \\\n",
       "0           cpt-sp2010-web-designers-branding-intro  Beginner   \n",
       "1           cpt-sp2010-web-designers-branding-intro  Beginner   \n",
       "2           cpt-sp2010-web-designers-branding-intro  Beginner   \n",
       "3           cpt-sp2010-web-designers-branding-intro  Beginner   \n",
       "4           cpt-sp2010-web-designers-branding-intro  Beginner   \n",
       "...                                             ...       ...   \n",
       "42253092  traveling-loyalty-programs-best-practices  Beginner   \n",
       "42253093  traveling-loyalty-programs-best-practices  Beginner   \n",
       "42253094  traveling-loyalty-programs-best-practices  Beginner   \n",
       "42253095  traveling-loyalty-programs-best-practices  Beginner   \n",
       "42253096  traveling-loyalty-programs-best-practices  Beginner   \n",
       "\n",
       "          view_time_seconds assessment_tag  user_assessment_score course_tags  \n",
       "0                    3786.0            NaN                    NaN  sharepoint  \n",
       "1                    1098.0            NaN                    NaN  sharepoint  \n",
       "2                    3786.0            NaN                    NaN  sharepoint  \n",
       "3                    1098.0            NaN                    NaN  sharepoint  \n",
       "4                    3786.0            NaN                    NaN  sharepoint  \n",
       "...                     ...            ...                    ...         ...  \n",
       "42253092             1641.0            NaN                    NaN      travel  \n",
       "42253093             1641.0            NaN                    NaN      travel  \n",
       "42253094             1641.0            NaN                    NaN      travel  \n",
       "42253095             1641.0            NaN                    NaN      travel  \n",
       "42253096             1641.0            NaN                    NaN      travel  \n",
       "\n",
       "[42253097 rows x 8 columns]"
      ]
     },
     "execution_count": 71,
     "metadata": {},
     "output_type": "execute_result"
    }
   ],
   "source": [
    "users = users.drop(columns='date_followed')\n",
    "users"
   ]
  },
  {
   "cell_type": "code",
   "execution_count": 73,
   "metadata": {},
   "outputs": [
    {
     "ename": "MemoryError",
     "evalue": "Unable to allocate 39.3 GiB for an array with shape (998, 42253097) and data type uint8",
     "output_type": "error",
     "traceback": [
      "\u001b[0;31m---------------------------------------------------------------------------\u001b[0m",
      "\u001b[0;31mMemoryError\u001b[0m                               Traceback (most recent call last)",
      "\u001b[0;32m<ipython-input-73-2cde2519cc0a>\u001b[0m in \u001b[0;36m<module>\u001b[0;34m\u001b[0m\n\u001b[0;32m----> 1\u001b[0;31m \u001b[0musers\u001b[0m \u001b[0;34m=\u001b[0m \u001b[0mpd\u001b[0m\u001b[0;34m.\u001b[0m\u001b[0mget_dummies\u001b[0m\u001b[0;34m(\u001b[0m\u001b[0mdata\u001b[0m\u001b[0;34m=\u001b[0m\u001b[0musers\u001b[0m\u001b[0;34m,\u001b[0m \u001b[0mcolumns\u001b[0m\u001b[0;34m=\u001b[0m\u001b[0;34m[\u001b[0m\u001b[0;34m'level'\u001b[0m\u001b[0;34m,\u001b[0m \u001b[0;34m'interest_tag'\u001b[0m\u001b[0;34m,\u001b[0m \u001b[0;34m'course_tags'\u001b[0m\u001b[0;34m,\u001b[0m \u001b[0;34m'assessment_tag'\u001b[0m\u001b[0;34m]\u001b[0m\u001b[0;34m)\u001b[0m\u001b[0;34m\u001b[0m\u001b[0;34m\u001b[0m\u001b[0m\n\u001b[0m",
      "\u001b[0;32m~/anaconda3/envs/python3/lib/python3.6/site-packages/pandas/core/reshape/reshape.py\u001b[0m in \u001b[0;36mget_dummies\u001b[0;34m(data, prefix, prefix_sep, dummy_na, columns, sparse, drop_first, dtype)\u001b[0m\n\u001b[1;32m    897\u001b[0m             )\n\u001b[1;32m    898\u001b[0m             \u001b[0mwith_dummies\u001b[0m\u001b[0;34m.\u001b[0m\u001b[0mappend\u001b[0m\u001b[0;34m(\u001b[0m\u001b[0mdummy\u001b[0m\u001b[0;34m)\u001b[0m\u001b[0;34m\u001b[0m\u001b[0;34m\u001b[0m\u001b[0m\n\u001b[0;32m--> 899\u001b[0;31m         \u001b[0mresult\u001b[0m \u001b[0;34m=\u001b[0m \u001b[0mconcat\u001b[0m\u001b[0;34m(\u001b[0m\u001b[0mwith_dummies\u001b[0m\u001b[0;34m,\u001b[0m \u001b[0maxis\u001b[0m\u001b[0;34m=\u001b[0m\u001b[0;36m1\u001b[0m\u001b[0;34m)\u001b[0m\u001b[0;34m\u001b[0m\u001b[0;34m\u001b[0m\u001b[0m\n\u001b[0m\u001b[1;32m    900\u001b[0m     \u001b[0;32melse\u001b[0m\u001b[0;34m:\u001b[0m\u001b[0;34m\u001b[0m\u001b[0;34m\u001b[0m\u001b[0m\n\u001b[1;32m    901\u001b[0m         result = _get_dummies_1d(\n",
      "\u001b[0;32m~/anaconda3/envs/python3/lib/python3.6/site-packages/pandas/core/reshape/concat.py\u001b[0m in \u001b[0;36mconcat\u001b[0;34m(objs, axis, join, ignore_index, keys, levels, names, verify_integrity, sort, copy)\u001b[0m\n\u001b[1;32m    285\u001b[0m     )\n\u001b[1;32m    286\u001b[0m \u001b[0;34m\u001b[0m\u001b[0m\n\u001b[0;32m--> 287\u001b[0;31m     \u001b[0;32mreturn\u001b[0m \u001b[0mop\u001b[0m\u001b[0;34m.\u001b[0m\u001b[0mget_result\u001b[0m\u001b[0;34m(\u001b[0m\u001b[0;34m)\u001b[0m\u001b[0;34m\u001b[0m\u001b[0;34m\u001b[0m\u001b[0m\n\u001b[0m\u001b[1;32m    288\u001b[0m \u001b[0;34m\u001b[0m\u001b[0m\n\u001b[1;32m    289\u001b[0m \u001b[0;34m\u001b[0m\u001b[0m\n",
      "\u001b[0;32m~/anaconda3/envs/python3/lib/python3.6/site-packages/pandas/core/reshape/concat.py\u001b[0m in \u001b[0;36mget_result\u001b[0;34m(self)\u001b[0m\n\u001b[1;32m    501\u001b[0m \u001b[0;34m\u001b[0m\u001b[0m\n\u001b[1;32m    502\u001b[0m             new_data = concatenate_block_managers(\n\u001b[0;32m--> 503\u001b[0;31m                 \u001b[0mmgrs_indexers\u001b[0m\u001b[0;34m,\u001b[0m \u001b[0mself\u001b[0m\u001b[0;34m.\u001b[0m\u001b[0mnew_axes\u001b[0m\u001b[0;34m,\u001b[0m \u001b[0mconcat_axis\u001b[0m\u001b[0;34m=\u001b[0m\u001b[0mself\u001b[0m\u001b[0;34m.\u001b[0m\u001b[0mbm_axis\u001b[0m\u001b[0;34m,\u001b[0m \u001b[0mcopy\u001b[0m\u001b[0;34m=\u001b[0m\u001b[0mself\u001b[0m\u001b[0;34m.\u001b[0m\u001b[0mcopy\u001b[0m\u001b[0;34m,\u001b[0m\u001b[0;34m\u001b[0m\u001b[0;34m\u001b[0m\u001b[0m\n\u001b[0m\u001b[1;32m    504\u001b[0m             )\n\u001b[1;32m    505\u001b[0m             \u001b[0;32mif\u001b[0m \u001b[0;32mnot\u001b[0m \u001b[0mself\u001b[0m\u001b[0;34m.\u001b[0m\u001b[0mcopy\u001b[0m\u001b[0;34m:\u001b[0m\u001b[0;34m\u001b[0m\u001b[0;34m\u001b[0m\u001b[0m\n",
      "\u001b[0;32m~/anaconda3/envs/python3/lib/python3.6/site-packages/pandas/core/internals/concat.py\u001b[0m in \u001b[0;36mconcatenate_block_managers\u001b[0;34m(mgrs_indexers, axes, concat_axis, copy)\u001b[0m\n\u001b[1;32m     58\u001b[0m             \u001b[0mvalues\u001b[0m \u001b[0;34m=\u001b[0m \u001b[0mb\u001b[0m\u001b[0;34m.\u001b[0m\u001b[0mvalues\u001b[0m\u001b[0;34m\u001b[0m\u001b[0;34m\u001b[0m\u001b[0m\n\u001b[1;32m     59\u001b[0m             \u001b[0;32mif\u001b[0m \u001b[0mcopy\u001b[0m\u001b[0;34m:\u001b[0m\u001b[0;34m\u001b[0m\u001b[0;34m\u001b[0m\u001b[0m\n\u001b[0;32m---> 60\u001b[0;31m                 \u001b[0mvalues\u001b[0m \u001b[0;34m=\u001b[0m \u001b[0mvalues\u001b[0m\u001b[0;34m.\u001b[0m\u001b[0mcopy\u001b[0m\u001b[0;34m(\u001b[0m\u001b[0;34m)\u001b[0m\u001b[0;34m\u001b[0m\u001b[0;34m\u001b[0m\u001b[0m\n\u001b[0m\u001b[1;32m     61\u001b[0m             \u001b[0;32melse\u001b[0m\u001b[0;34m:\u001b[0m\u001b[0;34m\u001b[0m\u001b[0;34m\u001b[0m\u001b[0m\n\u001b[1;32m     62\u001b[0m                 \u001b[0mvalues\u001b[0m \u001b[0;34m=\u001b[0m \u001b[0mvalues\u001b[0m\u001b[0;34m.\u001b[0m\u001b[0mview\u001b[0m\u001b[0;34m(\u001b[0m\u001b[0;34m)\u001b[0m\u001b[0;34m\u001b[0m\u001b[0;34m\u001b[0m\u001b[0m\n",
      "\u001b[0;31mMemoryError\u001b[0m: Unable to allocate 39.3 GiB for an array with shape (998, 42253097) and data type uint8"
     ]
    }
   ],
   "source": [
    "users = pd.get_dummies(data=users, columns=['level', 'interest_tag', 'course_tags', 'assessment_tag'])"
   ]
  },
  {
   "cell_type": "code",
   "execution_count": null,
   "metadata": {},
   "outputs": [],
   "source": []
  },
  {
   "cell_type": "code",
   "execution_count": null,
   "metadata": {},
   "outputs": [],
   "source": []
  },
  {
   "cell_type": "markdown",
   "metadata": {},
   "source": [
    "## What if I just look at the views and interests table\n",
    "Thus capturing all of the `user_handle`'s and the view times, then OHE the tags and courses and group by the `user_handle`"
   ]
  },
  {
   "cell_type": "code",
   "execution_count": 74,
   "metadata": {},
   "outputs": [
    {
     "data": {
      "text/plain": [
       "(9438131, 8)"
      ]
     },
     "execution_count": 74,
     "metadata": {},
     "output_type": "execute_result"
    }
   ],
   "source": [
    "qdt = pd.merge(left=interests, right=views, left_on='user_handle', right_on='user_handle')\n",
    "qdt.shape"
   ]
  },
  {
   "cell_type": "code",
   "execution_count": 76,
   "metadata": {},
   "outputs": [
    {
     "data": {
      "text/plain": [
       "Index(['user_handle', 'interest_tag', 'date_followed', 'view_date',\n",
       "       'course_id', 'author_handle', 'level', 'view_time_seconds'],\n",
       "      dtype='object')"
      ]
     },
     "execution_count": 76,
     "metadata": {},
     "output_type": "execute_result"
    }
   ],
   "source": [
    "qdt.columns"
   ]
  },
  {
   "cell_type": "code",
   "execution_count": 78,
   "metadata": {},
   "outputs": [
    {
     "ename": "MemoryError",
     "evalue": "Unable to allocate 52.2 GiB for an array with shape (9438131, 5942) and data type uint8",
     "output_type": "error",
     "traceback": [
      "\u001b[0;31m---------------------------------------------------------------------------\u001b[0m",
      "\u001b[0;31mMemoryError\u001b[0m                               Traceback (most recent call last)",
      "\u001b[0;32m<ipython-input-78-4a5f89bfa719>\u001b[0m in \u001b[0;36m<module>\u001b[0;34m\u001b[0m\n\u001b[0;32m----> 1\u001b[0;31m \u001b[0mqdt\u001b[0m \u001b[0;34m=\u001b[0m \u001b[0mpd\u001b[0m\u001b[0;34m.\u001b[0m\u001b[0mget_dummies\u001b[0m\u001b[0;34m(\u001b[0m\u001b[0mdata\u001b[0m\u001b[0;34m=\u001b[0m\u001b[0mqdt\u001b[0m\u001b[0;34m,\u001b[0m \u001b[0mcolumns\u001b[0m\u001b[0;34m=\u001b[0m\u001b[0;34m[\u001b[0m\u001b[0;34m'course_id'\u001b[0m\u001b[0;34m,\u001b[0m \u001b[0;34m'interest_tag'\u001b[0m\u001b[0;34m]\u001b[0m\u001b[0;34m)\u001b[0m\u001b[0;34m\u001b[0m\u001b[0;34m\u001b[0m\u001b[0m\n\u001b[0m",
      "\u001b[0;32m~/anaconda3/envs/python3/lib/python3.6/site-packages/pandas/core/reshape/reshape.py\u001b[0m in \u001b[0;36mget_dummies\u001b[0;34m(data, prefix, prefix_sep, dummy_na, columns, sparse, drop_first, dtype)\u001b[0m\n\u001b[1;32m    894\u001b[0m                 \u001b[0msparse\u001b[0m\u001b[0;34m=\u001b[0m\u001b[0msparse\u001b[0m\u001b[0;34m,\u001b[0m\u001b[0;34m\u001b[0m\u001b[0;34m\u001b[0m\u001b[0m\n\u001b[1;32m    895\u001b[0m                 \u001b[0mdrop_first\u001b[0m\u001b[0;34m=\u001b[0m\u001b[0mdrop_first\u001b[0m\u001b[0;34m,\u001b[0m\u001b[0;34m\u001b[0m\u001b[0;34m\u001b[0m\u001b[0m\n\u001b[0;32m--> 896\u001b[0;31m                 \u001b[0mdtype\u001b[0m\u001b[0;34m=\u001b[0m\u001b[0mdtype\u001b[0m\u001b[0;34m,\u001b[0m\u001b[0;34m\u001b[0m\u001b[0;34m\u001b[0m\u001b[0m\n\u001b[0m\u001b[1;32m    897\u001b[0m             )\n\u001b[1;32m    898\u001b[0m             \u001b[0mwith_dummies\u001b[0m\u001b[0;34m.\u001b[0m\u001b[0mappend\u001b[0m\u001b[0;34m(\u001b[0m\u001b[0mdummy\u001b[0m\u001b[0;34m)\u001b[0m\u001b[0;34m\u001b[0m\u001b[0;34m\u001b[0m\u001b[0m\n",
      "\u001b[0;32m~/anaconda3/envs/python3/lib/python3.6/site-packages/pandas/core/reshape/reshape.py\u001b[0m in \u001b[0;36m_get_dummies_1d\u001b[0;34m(data, prefix, prefix_sep, dummy_na, sparse, drop_first, dtype)\u001b[0m\n\u001b[1;32m   1003\u001b[0m \u001b[0;34m\u001b[0m\u001b[0m\n\u001b[1;32m   1004\u001b[0m     \u001b[0;32melse\u001b[0m\u001b[0;34m:\u001b[0m\u001b[0;34m\u001b[0m\u001b[0;34m\u001b[0m\u001b[0m\n\u001b[0;32m-> 1005\u001b[0;31m         \u001b[0mdummy_mat\u001b[0m \u001b[0;34m=\u001b[0m \u001b[0mnp\u001b[0m\u001b[0;34m.\u001b[0m\u001b[0meye\u001b[0m\u001b[0;34m(\u001b[0m\u001b[0mnumber_of_cols\u001b[0m\u001b[0;34m,\u001b[0m \u001b[0mdtype\u001b[0m\u001b[0;34m=\u001b[0m\u001b[0mdtype\u001b[0m\u001b[0;34m)\u001b[0m\u001b[0;34m.\u001b[0m\u001b[0mtake\u001b[0m\u001b[0;34m(\u001b[0m\u001b[0mcodes\u001b[0m\u001b[0;34m,\u001b[0m \u001b[0maxis\u001b[0m\u001b[0;34m=\u001b[0m\u001b[0;36m0\u001b[0m\u001b[0;34m)\u001b[0m\u001b[0;34m\u001b[0m\u001b[0;34m\u001b[0m\u001b[0m\n\u001b[0m\u001b[1;32m   1006\u001b[0m \u001b[0;34m\u001b[0m\u001b[0m\n\u001b[1;32m   1007\u001b[0m         \u001b[0;32mif\u001b[0m \u001b[0;32mnot\u001b[0m \u001b[0mdummy_na\u001b[0m\u001b[0;34m:\u001b[0m\u001b[0;34m\u001b[0m\u001b[0;34m\u001b[0m\u001b[0m\n",
      "\u001b[0;31mMemoryError\u001b[0m: Unable to allocate 52.2 GiB for an array with shape (9438131, 5942) and data type uint8"
     ]
    }
   ],
   "source": [
    "qdt = pd.get_dummies(data=qdt, columns=['course_id', 'interest_tag'])"
   ]
  },
  {
   "cell_type": "code",
   "execution_count": 109,
   "metadata": {},
   "outputs": [
    {
     "data": {
      "text/plain": [
       "(9438131, 8)"
      ]
     },
     "execution_count": 109,
     "metadata": {},
     "output_type": "execute_result"
    }
   ],
   "source": [
    "qdt.shape"
   ]
  },
  {
   "cell_type": "code",
   "execution_count": 110,
   "metadata": {},
   "outputs": [
    {
     "data": {
      "text/plain": [
       "Index(['user_handle', 'interest_tag', 'date_followed', 'view_date',\n",
       "       'course_id', 'author_handle', 'level', 'view_time_seconds'],\n",
       "      dtype='object')"
      ]
     },
     "execution_count": 110,
     "metadata": {},
     "output_type": "execute_result"
    }
   ],
   "source": [
    "qdt.columns"
   ]
  },
  {
   "cell_type": "code",
   "execution_count": 111,
   "metadata": {},
   "outputs": [],
   "source": [
    "pivot = pd.pivot_table(qdt, index='user_handle', columns='course_id', values='view_time_seconds')"
   ]
  },
  {
   "cell_type": "code",
   "execution_count": 112,
   "metadata": {},
   "outputs": [
    {
     "data": {
      "text/html": [
       "<div>\n",
       "<style scoped>\n",
       "    .dataframe tbody tr th:only-of-type {\n",
       "        vertical-align: middle;\n",
       "    }\n",
       "\n",
       "    .dataframe tbody tr th {\n",
       "        vertical-align: top;\n",
       "    }\n",
       "\n",
       "    .dataframe thead th {\n",
       "        text-align: right;\n",
       "    }\n",
       "</style>\n",
       "<table border=\"1\" class=\"dataframe\">\n",
       "  <thead>\n",
       "    <tr style=\"text-align: right;\">\n",
       "      <th>course_id</th>\n",
       "      <th>12-principles-animation-toon-boom-harmony-1475</th>\n",
       "      <th>2d-racing-game-series-unity-5-1312</th>\n",
       "      <th>2d-racing-games-unity-volume-2-1286</th>\n",
       "      <th>2d-racing-games-unity-volume-4-1311</th>\n",
       "      <th>3d-coat-character-concept-sculpting-techniques-2526</th>\n",
       "      <th>3d-coat-getting-started-2487</th>\n",
       "      <th>3d-integration-relighting-nuke-1157</th>\n",
       "      <th>3d-models-presenting-online-2385</th>\n",
       "      <th>3d-pan-tile-sky-nuke-81</th>\n",
       "      <th>3d-printing-design-selective-laser-sintering</th>\n",
       "      <th>...</th>\n",
       "      <th>zbrush-mudbox-artists-1416</th>\n",
       "      <th>zbrush-reference-library-3d-brushes-547</th>\n",
       "      <th>zbrush-sculpting-modular-structures-2537</th>\n",
       "      <th>zbrush-sculpting-necroknight-2509</th>\n",
       "      <th>zbrush-tileable-texture-creation-2438</th>\n",
       "      <th>zend-db-deep-dive</th>\n",
       "      <th>zmodeler-workflows-2091</th>\n",
       "      <th>zombie-concept-illustration-photoshop-782</th>\n",
       "      <th>zombie-photo-manipulation-techniques-photoshop-1518</th>\n",
       "      <th>zsphere-modeling-zbrush-3505</th>\n",
       "    </tr>\n",
       "    <tr>\n",
       "      <th>user_handle</th>\n",
       "      <th></th>\n",
       "      <th></th>\n",
       "      <th></th>\n",
       "      <th></th>\n",
       "      <th></th>\n",
       "      <th></th>\n",
       "      <th></th>\n",
       "      <th></th>\n",
       "      <th></th>\n",
       "      <th></th>\n",
       "      <th></th>\n",
       "      <th></th>\n",
       "      <th></th>\n",
       "      <th></th>\n",
       "      <th></th>\n",
       "      <th></th>\n",
       "      <th></th>\n",
       "      <th></th>\n",
       "      <th></th>\n",
       "      <th></th>\n",
       "      <th></th>\n",
       "    </tr>\n",
       "  </thead>\n",
       "  <tbody>\n",
       "    <tr>\n",
       "      <th>1</th>\n",
       "      <td>NaN</td>\n",
       "      <td>NaN</td>\n",
       "      <td>NaN</td>\n",
       "      <td>NaN</td>\n",
       "      <td>NaN</td>\n",
       "      <td>NaN</td>\n",
       "      <td>NaN</td>\n",
       "      <td>NaN</td>\n",
       "      <td>NaN</td>\n",
       "      <td>NaN</td>\n",
       "      <td>...</td>\n",
       "      <td>NaN</td>\n",
       "      <td>NaN</td>\n",
       "      <td>NaN</td>\n",
       "      <td>NaN</td>\n",
       "      <td>NaN</td>\n",
       "      <td>NaN</td>\n",
       "      <td>NaN</td>\n",
       "      <td>NaN</td>\n",
       "      <td>NaN</td>\n",
       "      <td>NaN</td>\n",
       "    </tr>\n",
       "    <tr>\n",
       "      <th>2</th>\n",
       "      <td>NaN</td>\n",
       "      <td>NaN</td>\n",
       "      <td>NaN</td>\n",
       "      <td>NaN</td>\n",
       "      <td>NaN</td>\n",
       "      <td>NaN</td>\n",
       "      <td>NaN</td>\n",
       "      <td>NaN</td>\n",
       "      <td>NaN</td>\n",
       "      <td>NaN</td>\n",
       "      <td>...</td>\n",
       "      <td>NaN</td>\n",
       "      <td>NaN</td>\n",
       "      <td>NaN</td>\n",
       "      <td>NaN</td>\n",
       "      <td>NaN</td>\n",
       "      <td>NaN</td>\n",
       "      <td>NaN</td>\n",
       "      <td>NaN</td>\n",
       "      <td>NaN</td>\n",
       "      <td>NaN</td>\n",
       "    </tr>\n",
       "    <tr>\n",
       "      <th>3</th>\n",
       "      <td>NaN</td>\n",
       "      <td>NaN</td>\n",
       "      <td>NaN</td>\n",
       "      <td>NaN</td>\n",
       "      <td>NaN</td>\n",
       "      <td>NaN</td>\n",
       "      <td>NaN</td>\n",
       "      <td>NaN</td>\n",
       "      <td>NaN</td>\n",
       "      <td>NaN</td>\n",
       "      <td>...</td>\n",
       "      <td>NaN</td>\n",
       "      <td>NaN</td>\n",
       "      <td>NaN</td>\n",
       "      <td>NaN</td>\n",
       "      <td>NaN</td>\n",
       "      <td>NaN</td>\n",
       "      <td>NaN</td>\n",
       "      <td>NaN</td>\n",
       "      <td>NaN</td>\n",
       "      <td>NaN</td>\n",
       "    </tr>\n",
       "    <tr>\n",
       "      <th>4</th>\n",
       "      <td>NaN</td>\n",
       "      <td>NaN</td>\n",
       "      <td>NaN</td>\n",
       "      <td>NaN</td>\n",
       "      <td>NaN</td>\n",
       "      <td>NaN</td>\n",
       "      <td>NaN</td>\n",
       "      <td>NaN</td>\n",
       "      <td>NaN</td>\n",
       "      <td>NaN</td>\n",
       "      <td>...</td>\n",
       "      <td>NaN</td>\n",
       "      <td>NaN</td>\n",
       "      <td>NaN</td>\n",
       "      <td>NaN</td>\n",
       "      <td>NaN</td>\n",
       "      <td>NaN</td>\n",
       "      <td>NaN</td>\n",
       "      <td>NaN</td>\n",
       "      <td>NaN</td>\n",
       "      <td>NaN</td>\n",
       "    </tr>\n",
       "    <tr>\n",
       "      <th>5</th>\n",
       "      <td>NaN</td>\n",
       "      <td>NaN</td>\n",
       "      <td>NaN</td>\n",
       "      <td>NaN</td>\n",
       "      <td>NaN</td>\n",
       "      <td>NaN</td>\n",
       "      <td>NaN</td>\n",
       "      <td>NaN</td>\n",
       "      <td>NaN</td>\n",
       "      <td>NaN</td>\n",
       "      <td>...</td>\n",
       "      <td>NaN</td>\n",
       "      <td>NaN</td>\n",
       "      <td>NaN</td>\n",
       "      <td>NaN</td>\n",
       "      <td>NaN</td>\n",
       "      <td>NaN</td>\n",
       "      <td>NaN</td>\n",
       "      <td>NaN</td>\n",
       "      <td>NaN</td>\n",
       "      <td>NaN</td>\n",
       "    </tr>\n",
       "  </tbody>\n",
       "</table>\n",
       "<p>5 rows × 5942 columns</p>\n",
       "</div>"
      ],
      "text/plain": [
       "course_id    12-principles-animation-toon-boom-harmony-1475  \\\n",
       "user_handle                                                   \n",
       "1                                                       NaN   \n",
       "2                                                       NaN   \n",
       "3                                                       NaN   \n",
       "4                                                       NaN   \n",
       "5                                                       NaN   \n",
       "\n",
       "course_id    2d-racing-game-series-unity-5-1312  \\\n",
       "user_handle                                       \n",
       "1                                           NaN   \n",
       "2                                           NaN   \n",
       "3                                           NaN   \n",
       "4                                           NaN   \n",
       "5                                           NaN   \n",
       "\n",
       "course_id    2d-racing-games-unity-volume-2-1286  \\\n",
       "user_handle                                        \n",
       "1                                            NaN   \n",
       "2                                            NaN   \n",
       "3                                            NaN   \n",
       "4                                            NaN   \n",
       "5                                            NaN   \n",
       "\n",
       "course_id    2d-racing-games-unity-volume-4-1311  \\\n",
       "user_handle                                        \n",
       "1                                            NaN   \n",
       "2                                            NaN   \n",
       "3                                            NaN   \n",
       "4                                            NaN   \n",
       "5                                            NaN   \n",
       "\n",
       "course_id    3d-coat-character-concept-sculpting-techniques-2526  \\\n",
       "user_handle                                                        \n",
       "1                                                          NaN     \n",
       "2                                                          NaN     \n",
       "3                                                          NaN     \n",
       "4                                                          NaN     \n",
       "5                                                          NaN     \n",
       "\n",
       "course_id    3d-coat-getting-started-2487  \\\n",
       "user_handle                                 \n",
       "1                                     NaN   \n",
       "2                                     NaN   \n",
       "3                                     NaN   \n",
       "4                                     NaN   \n",
       "5                                     NaN   \n",
       "\n",
       "course_id    3d-integration-relighting-nuke-1157  \\\n",
       "user_handle                                        \n",
       "1                                            NaN   \n",
       "2                                            NaN   \n",
       "3                                            NaN   \n",
       "4                                            NaN   \n",
       "5                                            NaN   \n",
       "\n",
       "course_id    3d-models-presenting-online-2385  3d-pan-tile-sky-nuke-81  \\\n",
       "user_handle                                                              \n",
       "1                                         NaN                      NaN   \n",
       "2                                         NaN                      NaN   \n",
       "3                                         NaN                      NaN   \n",
       "4                                         NaN                      NaN   \n",
       "5                                         NaN                      NaN   \n",
       "\n",
       "course_id    3d-printing-design-selective-laser-sintering  ...  \\\n",
       "user_handle                                                ...   \n",
       "1                                                     NaN  ...   \n",
       "2                                                     NaN  ...   \n",
       "3                                                     NaN  ...   \n",
       "4                                                     NaN  ...   \n",
       "5                                                     NaN  ...   \n",
       "\n",
       "course_id    zbrush-mudbox-artists-1416  \\\n",
       "user_handle                               \n",
       "1                                   NaN   \n",
       "2                                   NaN   \n",
       "3                                   NaN   \n",
       "4                                   NaN   \n",
       "5                                   NaN   \n",
       "\n",
       "course_id    zbrush-reference-library-3d-brushes-547  \\\n",
       "user_handle                                            \n",
       "1                                                NaN   \n",
       "2                                                NaN   \n",
       "3                                                NaN   \n",
       "4                                                NaN   \n",
       "5                                                NaN   \n",
       "\n",
       "course_id    zbrush-sculpting-modular-structures-2537  \\\n",
       "user_handle                                             \n",
       "1                                                 NaN   \n",
       "2                                                 NaN   \n",
       "3                                                 NaN   \n",
       "4                                                 NaN   \n",
       "5                                                 NaN   \n",
       "\n",
       "course_id    zbrush-sculpting-necroknight-2509  \\\n",
       "user_handle                                      \n",
       "1                                          NaN   \n",
       "2                                          NaN   \n",
       "3                                          NaN   \n",
       "4                                          NaN   \n",
       "5                                          NaN   \n",
       "\n",
       "course_id    zbrush-tileable-texture-creation-2438  zend-db-deep-dive  \\\n",
       "user_handle                                                             \n",
       "1                                              NaN                NaN   \n",
       "2                                              NaN                NaN   \n",
       "3                                              NaN                NaN   \n",
       "4                                              NaN                NaN   \n",
       "5                                              NaN                NaN   \n",
       "\n",
       "course_id    zmodeler-workflows-2091  \\\n",
       "user_handle                            \n",
       "1                                NaN   \n",
       "2                                NaN   \n",
       "3                                NaN   \n",
       "4                                NaN   \n",
       "5                                NaN   \n",
       "\n",
       "course_id    zombie-concept-illustration-photoshop-782  \\\n",
       "user_handle                                              \n",
       "1                                                  NaN   \n",
       "2                                                  NaN   \n",
       "3                                                  NaN   \n",
       "4                                                  NaN   \n",
       "5                                                  NaN   \n",
       "\n",
       "course_id    zombie-photo-manipulation-techniques-photoshop-1518  \\\n",
       "user_handle                                                        \n",
       "1                                                          NaN     \n",
       "2                                                          NaN     \n",
       "3                                                          NaN     \n",
       "4                                                          NaN     \n",
       "5                                                          NaN     \n",
       "\n",
       "course_id    zsphere-modeling-zbrush-3505  \n",
       "user_handle                                \n",
       "1                                     NaN  \n",
       "2                                     NaN  \n",
       "3                                     NaN  \n",
       "4                                     NaN  \n",
       "5                                     NaN  \n",
       "\n",
       "[5 rows x 5942 columns]"
      ]
     },
     "execution_count": 112,
     "metadata": {},
     "output_type": "execute_result"
    }
   ],
   "source": [
    "pivot.head()"
   ]
  },
  {
   "cell_type": "code",
   "execution_count": 113,
   "metadata": {},
   "outputs": [
    {
     "data": {
      "text/plain": [
       "(8760, 5942)"
      ]
     },
     "execution_count": 113,
     "metadata": {},
     "output_type": "execute_result"
    }
   ],
   "source": [
    "pivot.shape"
   ]
  },
  {
   "cell_type": "markdown",
   "metadata": {},
   "source": [
    "Which courses have the highest view_times?"
   ]
  },
  {
   "cell_type": "code",
   "execution_count": 118,
   "metadata": {},
   "outputs": [
    {
     "data": {
      "text/plain": [
       "course_id\n",
       "c-sharp-fundamentals-with-visual-studio-2015                 1.800805e+06\n",
       "angular-2-getting-started-update                             1.485150e+06\n",
       "python-getting-started                                       1.313811e+06\n",
       "java-fundamentals-language                                   1.142512e+06\n",
       "quick-start-javascript-1-1870                                1.025012e+06\n",
       "                                                                 ...     \n",
       "exploring-animation-maya-animating-swinging-character-522    3.000000e+00\n",
       "exploring-animation-principles-maya-staging-513              2.000000e+00\n",
       "exploring-animation-principles-maya-appeal-395               2.000000e+00\n",
       "exploring-animation-principles-maya-exaggeration-394         2.000000e+00\n",
       "animating-creatures-maya-insects-3523                        1.000000e+00\n",
       "Length: 5942, dtype: float64"
      ]
     },
     "execution_count": 118,
     "metadata": {},
     "output_type": "execute_result"
    }
   ],
   "source": [
    "pivot.sum(axis=0).sort_values(ascending=False)"
   ]
  },
  {
   "cell_type": "markdown",
   "metadata": {},
   "source": [
    "Distribution of viewing time"
   ]
  },
  {
   "cell_type": "code",
   "execution_count": 122,
   "metadata": {},
   "outputs": [
    {
     "data": {
      "image/png": "[encoded data removed]",
      "text/plain": [
       "<Figure size 432x288 with 1 Axes>"
      ]
     },
     "metadata": {
      "needs_background": "light"
     },
     "output_type": "display_data"
    }
   ],
   "source": [
    "pivot.sum(axis=0).sort_values(ascending=False)[:100].hist(bins=50);"
   ]
  },
  {
   "cell_type": "code",
   "execution_count": 127,
   "metadata": {},
   "outputs": [
    {
     "data": {
      "image/png": "[encoded data removed]",
      "text/plain": [
       "<Figure size 1512x504 with 1 Axes>"
      ]
     },
     "metadata": {
      "needs_background": "light"
     },
     "output_type": "display_data"
    }
   ],
   "source": [
    "plt.figure(figsize=(21, 7))\n",
    "pivot.sum(axis=0).sort_values(ascending=False)[:10].plot.bar()\n",
    "plt.title(\"Top 10 longest-viewed courses\");"
   ]
  },
  {
   "cell_type": "code",
   "execution_count": 128,
   "metadata": {},
   "outputs": [
    {
     "data": {
      "image/png": "[encoded data removed]",
      "text/plain": [
       "<Figure size 1512x504 with 1 Axes>"
      ]
     },
     "metadata": {
      "needs_background": "light"
     },
     "output_type": "display_data"
    }
   ],
   "source": [
    "plt.figure(figsize=(21, 7))\n",
    "(pivot > 0).sum(axis=0).sort_values(ascending=False)[:10].plot.bar()\n",
    "plt.title(\"Number of views in the top 10 longest-viewed courses\");"
   ]
  },
  {
   "cell_type": "markdown",
   "metadata": {},
   "source": [
    "### Create a sparse matrix"
   ]
  },
  {
   "cell_type": "code",
   "execution_count": 129,
   "metadata": {},
   "outputs": [
    {
     "data": {
      "text/plain": [
       "<8760x5942 sparse matrix of type '<class 'numpy.float64'>'\n",
       "\twith 105324 stored elements in Compressed Sparse Row format>"
      ]
     },
     "execution_count": 129,
     "metadata": {},
     "output_type": "execute_result"
    }
   ],
   "source": [
    "sparse_pivot = sparse.csr_matrix(pivot.fillna(0))\n",
    "sparse_pivot"
   ]
  },
  {
   "cell_type": "markdown",
   "metadata": {},
   "source": [
    "## Calculate the Cosine Similarity of the users' viewing time"
   ]
  },
  {
   "cell_type": "code",
   "execution_count": 135,
   "metadata": {},
   "outputs": [
    {
     "data": {
      "text/plain": [
       "array([[1.        , 0.        , 0.        , ..., 0.        , 0.        ,\n",
       "        0.        ],\n",
       "       [0.        , 1.        , 0.        , ..., 0.00773652, 0.        ,\n",
       "        0.        ],\n",
       "       [0.        , 0.        , 1.        , ..., 0.        , 0.        ,\n",
       "        0.        ],\n",
       "       ...,\n",
       "       [0.        , 0.00773652, 0.        , ..., 1.        , 0.        ,\n",
       "        0.        ],\n",
       "       [0.        , 0.        , 0.        , ..., 0.        , 1.        ,\n",
       "        0.        ],\n",
       "       [0.        , 0.        , 0.        , ..., 0.        , 0.        ,\n",
       "        1.        ]])"
      ]
     },
     "execution_count": 135,
     "metadata": {},
     "output_type": "execute_result"
    }
   ],
   "source": [
    "similarities = cosine_similarity(sparse_pivot)\n",
    "similarities"
   ]
  },
  {
   "cell_type": "markdown",
   "metadata": {},
   "source": [
    "Put into a dataframe"
   ]
  },
  {
   "cell_type": "code",
   "execution_count": 136,
   "metadata": {},
   "outputs": [
    {
     "data": {
      "text/html": [
       "<div>\n",
       "<style scoped>\n",
       "    .dataframe tbody tr th:only-of-type {\n",
       "        vertical-align: middle;\n",
       "    }\n",
       "\n",
       "    .dataframe tbody tr th {\n",
       "        vertical-align: top;\n",
       "    }\n",
       "\n",
       "    .dataframe thead th {\n",
       "        text-align: right;\n",
       "    }\n",
       "</style>\n",
       "<table border=\"1\" class=\"dataframe\">\n",
       "  <thead>\n",
       "    <tr style=\"text-align: right;\">\n",
       "      <th>user_handle</th>\n",
       "      <th>1</th>\n",
       "      <th>2</th>\n",
       "      <th>3</th>\n",
       "      <th>4</th>\n",
       "      <th>5</th>\n",
       "      <th>6</th>\n",
       "      <th>8</th>\n",
       "      <th>9</th>\n",
       "      <th>10</th>\n",
       "      <th>12</th>\n",
       "      <th>...</th>\n",
       "      <th>9991</th>\n",
       "      <th>9992</th>\n",
       "      <th>9993</th>\n",
       "      <th>9994</th>\n",
       "      <th>9995</th>\n",
       "      <th>9996</th>\n",
       "      <th>9997</th>\n",
       "      <th>9998</th>\n",
       "      <th>9999</th>\n",
       "      <th>10000</th>\n",
       "    </tr>\n",
       "    <tr>\n",
       "      <th>user_handle</th>\n",
       "      <th></th>\n",
       "      <th></th>\n",
       "      <th></th>\n",
       "      <th></th>\n",
       "      <th></th>\n",
       "      <th></th>\n",
       "      <th></th>\n",
       "      <th></th>\n",
       "      <th></th>\n",
       "      <th></th>\n",
       "      <th></th>\n",
       "      <th></th>\n",
       "      <th></th>\n",
       "      <th></th>\n",
       "      <th></th>\n",
       "      <th></th>\n",
       "      <th></th>\n",
       "      <th></th>\n",
       "      <th></th>\n",
       "      <th></th>\n",
       "      <th></th>\n",
       "    </tr>\n",
       "  </thead>\n",
       "  <tbody>\n",
       "    <tr>\n",
       "      <th>1</th>\n",
       "      <td>1.000000</td>\n",
       "      <td>0.000000</td>\n",
       "      <td>0.0</td>\n",
       "      <td>0.190064</td>\n",
       "      <td>0.000000</td>\n",
       "      <td>0.000000</td>\n",
       "      <td>0.0</td>\n",
       "      <td>0.0</td>\n",
       "      <td>0.000000</td>\n",
       "      <td>0.0</td>\n",
       "      <td>...</td>\n",
       "      <td>0.0</td>\n",
       "      <td>0.0</td>\n",
       "      <td>0.157964</td>\n",
       "      <td>0.632888</td>\n",
       "      <td>0.000000</td>\n",
       "      <td>0.000000</td>\n",
       "      <td>0.000000</td>\n",
       "      <td>0.000000</td>\n",
       "      <td>0.0</td>\n",
       "      <td>0.0</td>\n",
       "    </tr>\n",
       "    <tr>\n",
       "      <th>2</th>\n",
       "      <td>0.000000</td>\n",
       "      <td>1.000000</td>\n",
       "      <td>0.0</td>\n",
       "      <td>0.000000</td>\n",
       "      <td>0.073494</td>\n",
       "      <td>0.000000</td>\n",
       "      <td>0.0</td>\n",
       "      <td>0.0</td>\n",
       "      <td>0.014494</td>\n",
       "      <td>0.0</td>\n",
       "      <td>...</td>\n",
       "      <td>0.0</td>\n",
       "      <td>0.0</td>\n",
       "      <td>0.000000</td>\n",
       "      <td>0.000000</td>\n",
       "      <td>0.000000</td>\n",
       "      <td>0.000000</td>\n",
       "      <td>0.000000</td>\n",
       "      <td>0.007737</td>\n",
       "      <td>0.0</td>\n",
       "      <td>0.0</td>\n",
       "    </tr>\n",
       "    <tr>\n",
       "      <th>3</th>\n",
       "      <td>0.000000</td>\n",
       "      <td>0.000000</td>\n",
       "      <td>1.0</td>\n",
       "      <td>0.000000</td>\n",
       "      <td>0.000000</td>\n",
       "      <td>0.000000</td>\n",
       "      <td>0.0</td>\n",
       "      <td>0.0</td>\n",
       "      <td>0.000000</td>\n",
       "      <td>0.0</td>\n",
       "      <td>...</td>\n",
       "      <td>0.0</td>\n",
       "      <td>0.0</td>\n",
       "      <td>0.000000</td>\n",
       "      <td>0.000000</td>\n",
       "      <td>0.000000</td>\n",
       "      <td>0.459196</td>\n",
       "      <td>0.515684</td>\n",
       "      <td>0.000000</td>\n",
       "      <td>0.0</td>\n",
       "      <td>0.0</td>\n",
       "    </tr>\n",
       "    <tr>\n",
       "      <th>4</th>\n",
       "      <td>0.190064</td>\n",
       "      <td>0.000000</td>\n",
       "      <td>0.0</td>\n",
       "      <td>1.000000</td>\n",
       "      <td>0.000000</td>\n",
       "      <td>0.000161</td>\n",
       "      <td>0.0</td>\n",
       "      <td>0.0</td>\n",
       "      <td>0.029279</td>\n",
       "      <td>0.0</td>\n",
       "      <td>...</td>\n",
       "      <td>0.0</td>\n",
       "      <td>0.0</td>\n",
       "      <td>0.000000</td>\n",
       "      <td>0.000000</td>\n",
       "      <td>0.013636</td>\n",
       "      <td>0.131830</td>\n",
       "      <td>0.000000</td>\n",
       "      <td>0.000000</td>\n",
       "      <td>0.0</td>\n",
       "      <td>0.0</td>\n",
       "    </tr>\n",
       "    <tr>\n",
       "      <th>5</th>\n",
       "      <td>0.000000</td>\n",
       "      <td>0.073494</td>\n",
       "      <td>0.0</td>\n",
       "      <td>0.000000</td>\n",
       "      <td>1.000000</td>\n",
       "      <td>0.000000</td>\n",
       "      <td>0.0</td>\n",
       "      <td>0.0</td>\n",
       "      <td>0.000000</td>\n",
       "      <td>0.0</td>\n",
       "      <td>...</td>\n",
       "      <td>0.0</td>\n",
       "      <td>0.0</td>\n",
       "      <td>0.000000</td>\n",
       "      <td>0.000000</td>\n",
       "      <td>0.000000</td>\n",
       "      <td>0.000000</td>\n",
       "      <td>0.000000</td>\n",
       "      <td>0.000000</td>\n",
       "      <td>0.0</td>\n",
       "      <td>0.0</td>\n",
       "    </tr>\n",
       "  </tbody>\n",
       "</table>\n",
       "<p>5 rows × 8760 columns</p>\n",
       "</div>"
      ],
      "text/plain": [
       "user_handle     1         2      3         4         5         6      8      \\\n",
       "user_handle                                                                   \n",
       "1            1.000000  0.000000    0.0  0.190064  0.000000  0.000000    0.0   \n",
       "2            0.000000  1.000000    0.0  0.000000  0.073494  0.000000    0.0   \n",
       "3            0.000000  0.000000    1.0  0.000000  0.000000  0.000000    0.0   \n",
       "4            0.190064  0.000000    0.0  1.000000  0.000000  0.000161    0.0   \n",
       "5            0.000000  0.073494    0.0  0.000000  1.000000  0.000000    0.0   \n",
       "\n",
       "user_handle  9         10     12     ...  9991   9992      9993      9994   \\\n",
       "user_handle                          ...                                     \n",
       "1              0.0  0.000000    0.0  ...    0.0    0.0  0.157964  0.632888   \n",
       "2              0.0  0.014494    0.0  ...    0.0    0.0  0.000000  0.000000   \n",
       "3              0.0  0.000000    0.0  ...    0.0    0.0  0.000000  0.000000   \n",
       "4              0.0  0.029279    0.0  ...    0.0    0.0  0.000000  0.000000   \n",
       "5              0.0  0.000000    0.0  ...    0.0    0.0  0.000000  0.000000   \n",
       "\n",
       "user_handle     9995      9996      9997      9998   9999   10000  \n",
       "user_handle                                                        \n",
       "1            0.000000  0.000000  0.000000  0.000000    0.0    0.0  \n",
       "2            0.000000  0.000000  0.000000  0.007737    0.0    0.0  \n",
       "3            0.000000  0.459196  0.515684  0.000000    0.0    0.0  \n",
       "4            0.013636  0.131830  0.000000  0.000000    0.0    0.0  \n",
       "5            0.000000  0.000000  0.000000  0.000000    0.0    0.0  \n",
       "\n",
       "[5 rows x 8760 columns]"
      ]
     },
     "execution_count": 136,
     "metadata": {},
     "output_type": "execute_result"
    }
   ],
   "source": [
    "sim_users = pd.DataFrame(similarities, columns=pivot.index, index=pivot.index)\n",
    "sim_users.head()"
   ]
  },
  {
   "cell_type": "markdown",
   "metadata": {},
   "source": [
    "## Use this dataframe as the lookup table\n",
    "Now we'll mimic what our API is to do:\n",
    "1. User enters a term that becomes \"search\" in the below script\n",
    "2. list the ten most similar users\n",
    "3. list the average time viewed in hours (seconds * 3600)\n",
    "4. list the number of courses viewed"
   ]
  },
  {
   "cell_type": "code",
   "execution_count": 150,
   "metadata": {},
   "outputs": [
    {
     "name": "stdout",
     "output_type": "stream",
     "text": [
      "user_handle 749\n",
      "10 closest users\n",
      "user_handle\n",
      "6647    0.0\n",
      "6646    0.0\n",
      "6645    0.0\n",
      "6643    0.0\n",
      "6642    0.0\n",
      "6641    0.0\n",
      "6640    0.0\n",
      "6638    0.0\n",
      "6637    0.0\n",
      "6636    0.0\n",
      "Name: 749, dtype: float64\n",
      "view_date 749\n",
      "10 closest users\n",
      "user_handle\n",
      "6647    0.0\n",
      "6646    0.0\n",
      "6645    0.0\n",
      "6643    0.0\n",
      "6642    0.0\n",
      "6641    0.0\n",
      "6640    0.0\n",
      "6638    0.0\n",
      "6637    0.0\n",
      "6636    0.0\n",
      "Name: 749, dtype: float64\n",
      "course_id 749\n",
      "10 closest users\n",
      "user_handle\n",
      "6647    0.0\n",
      "6646    0.0\n",
      "6645    0.0\n",
      "6643    0.0\n",
      "6642    0.0\n",
      "6641    0.0\n",
      "6640    0.0\n",
      "6638    0.0\n",
      "6637    0.0\n",
      "6636    0.0\n",
      "Name: 749, dtype: float64\n",
      "author_handle 749\n",
      "10 closest users\n",
      "user_handle\n",
      "6647    0.0\n",
      "6646    0.0\n",
      "6645    0.0\n",
      "6643    0.0\n",
      "6642    0.0\n",
      "6641    0.0\n",
      "6640    0.0\n",
      "6638    0.0\n",
      "6637    0.0\n",
      "6636    0.0\n",
      "Name: 749, dtype: float64\n",
      "level 749\n",
      "10 closest users\n",
      "user_handle\n",
      "6647    0.0\n",
      "6646    0.0\n",
      "6645    0.0\n",
      "6643    0.0\n",
      "6642    0.0\n",
      "6641    0.0\n",
      "6640    0.0\n",
      "6638    0.0\n",
      "6637    0.0\n",
      "6636    0.0\n",
      "Name: 749, dtype: float64\n",
      "view_time_seconds 749\n",
      "10 closest users\n",
      "user_handle\n",
      "6647    0.0\n",
      "6646    0.0\n",
      "6645    0.0\n",
      "6643    0.0\n",
      "6642    0.0\n",
      "6641    0.0\n",
      "6640    0.0\n",
      "6638    0.0\n",
      "6637    0.0\n",
      "6636    0.0\n",
      "Name: 749, dtype: float64\n"
     ]
    }
   ],
   "source": [
    "search = '749'\n",
    "\n",
    "for user in views.loc[views['user_handle']==int(search)]:\n",
    "    print(user, search)\n",
    "    print(\"10 closest users\")\n",
    "    print(sim_users[int(search)].sort_values()[1:11]) "
   ]
  },
  {
   "cell_type": "code",
   "execution_count": null,
   "metadata": {},
   "outputs": [],
   "source": []
  },
  {
   "cell_type": "code",
   "execution_count": null,
   "metadata": {},
   "outputs": [],
   "source": []
  },
  {
   "cell_type": "code",
   "execution_count": null,
   "metadata": {},
   "outputs": [],
   "source": []
  },
  {
   "cell_type": "code",
   "execution_count": null,
   "metadata": {},
   "outputs": [],
   "source": []
  },
  {
   "cell_type": "code",
   "execution_count": null,
   "metadata": {},
   "outputs": [],
   "source": []
  },
  {
   "cell_type": "markdown",
   "metadata": {},
   "source": [
    "## Use NLP to find the similar course_tags and assessment_tags and interest_tags"
   ]
  },
  {
   "cell_type": "code",
   "execution_count": null,
   "metadata": {},
   "outputs": [],
   "source": []
  },
  {
   "cell_type": "markdown",
   "metadata": {},
   "source": [
    "## Use OHE to vectorize categorical columns"
   ]
  },
  {
   "cell_type": "code",
   "execution_count": null,
   "metadata": {},
   "outputs": [],
   "source": []
  },
  {
   "cell_type": "code",
   "execution_count": null,
   "metadata": {},
   "outputs": [],
   "source": []
  },
  {
   "cell_type": "markdown",
   "metadata": {},
   "source": [
    "## Use DBScan to create clusters of users"
   ]
  },
  {
   "cell_type": "code",
   "execution_count": 85,
   "metadata": {},
   "outputs": [],
   "source": [
    "from sklearn.cluster import DBSCAN"
   ]
  },
  {
   "cell_type": "code",
   "execution_count": 89,
   "metadata": {},
   "outputs": [],
   "source": [
    "db = DBSCAN(n_jobs=-1)"
   ]
  },
  {
   "cell_type": "code",
   "execution_count": 90,
   "metadata": {},
   "outputs": [
    {
     "data": {
      "text/plain": [
       "DBSCAN(n_jobs=-1)"
      ]
     },
     "execution_count": 90,
     "metadata": {},
     "output_type": "execute_result"
    }
   ],
   "source": [
    "db.fit(users)"
   ]
  },
  {
   "cell_type": "code",
   "execution_count": 92,
   "metadata": {},
   "outputs": [
    {
     "data": {
      "text/plain": [
       "array([-1, -1, -1, ..., -1, -1, -1])"
      ]
     },
     "execution_count": 92,
     "metadata": {},
     "output_type": "execute_result"
    }
   ],
   "source": [
    "db.labels_"
   ]
  },
  {
   "cell_type": "code",
   "execution_count": 93,
   "metadata": {},
   "outputs": [],
   "source": [
    "users['dblabels'] = db.labels_"
   ]
  },
  {
   "cell_type": "markdown",
   "metadata": {},
   "source": [
    "## Use Cosine Similarity Scores to compare the users to one another"
   ]
  },
  {
   "cell_type": "code",
   "execution_count": 94,
   "metadata": {},
   "outputs": [],
   "source": [
    "from sklearn.metrics.pairwise import cosine_similarity"
   ]
  },
  {
   "cell_type": "code",
   "execution_count": 96,
   "metadata": {},
   "outputs": [
    {
     "data": {
      "text/html": [
       "<div>\n",
       "<style scoped>\n",
       "    .dataframe tbody tr th:only-of-type {\n",
       "        vertical-align: middle;\n",
       "    }\n",
       "\n",
       "    .dataframe tbody tr th {\n",
       "        vertical-align: top;\n",
       "    }\n",
       "\n",
       "    .dataframe thead th {\n",
       "        text-align: right;\n",
       "    }\n",
       "</style>\n",
       "<table border=\"1\" class=\"dataframe\">\n",
       "  <thead>\n",
       "    <tr style=\"text-align: right;\">\n",
       "      <th></th>\n",
       "      <th>view_time_seconds</th>\n",
       "      <th>user_assessment_score</th>\n",
       "      <th>dblabels</th>\n",
       "    </tr>\n",
       "    <tr>\n",
       "      <th>user_handle</th>\n",
       "      <th></th>\n",
       "      <th></th>\n",
       "      <th></th>\n",
       "    </tr>\n",
       "  </thead>\n",
       "  <tbody>\n",
       "    <tr>\n",
       "      <th>1</th>\n",
       "      <td>3182060.0</td>\n",
       "      <td>0.0</td>\n",
       "      <td>-1</td>\n",
       "    </tr>\n",
       "    <tr>\n",
       "      <th>2</th>\n",
       "      <td>2685460.0</td>\n",
       "      <td>250756.0</td>\n",
       "      <td>-1</td>\n",
       "    </tr>\n",
       "  </tbody>\n",
       "</table>\n",
       "</div>"
      ],
      "text/plain": [
       "             view_time_seconds  user_assessment_score  dblabels\n",
       "user_handle                                                    \n",
       "1                    3182060.0                    0.0        -1\n",
       "2                    2685460.0               250756.0        -1"
      ]
     },
     "execution_count": 96,
     "metadata": {},
     "output_type": "execute_result"
    }
   ],
   "source": [
    "users.head(2)"
   ]
  },
  {
   "cell_type": "code",
   "execution_count": 97,
   "metadata": {},
   "outputs": [],
   "source": [
    "from sklearn.preprocessing import StandardScaler"
   ]
  },
  {
   "cell_type": "code",
   "execution_count": 102,
   "metadata": {},
   "outputs": [],
   "source": [
    "sc = StandardScaler()"
   ]
  },
  {
   "cell_type": "code",
   "execution_count": 103,
   "metadata": {},
   "outputs": [],
   "source": [
    "users_sc = sc.fit_transform(users)"
   ]
  },
  {
   "cell_type": "code",
   "execution_count": 106,
   "metadata": {},
   "outputs": [],
   "source": [
    "users_sc = pd.DataFrame(users_sc)"
   ]
  },
  {
   "cell_type": "code",
   "execution_count": 107,
   "metadata": {},
   "outputs": [
    {
     "data": {
      "text/html": [
       "<div>\n",
       "<style scoped>\n",
       "    .dataframe tbody tr th:only-of-type {\n",
       "        vertical-align: middle;\n",
       "    }\n",
       "\n",
       "    .dataframe tbody tr th {\n",
       "        vertical-align: top;\n",
       "    }\n",
       "\n",
       "    .dataframe thead th {\n",
       "        text-align: right;\n",
       "    }\n",
       "</style>\n",
       "<table border=\"1\" class=\"dataframe\">\n",
       "  <thead>\n",
       "    <tr style=\"text-align: right;\">\n",
       "      <th></th>\n",
       "      <th>0</th>\n",
       "      <th>1</th>\n",
       "      <th>2</th>\n",
       "    </tr>\n",
       "  </thead>\n",
       "  <tbody>\n",
       "    <tr>\n",
       "      <th>0</th>\n",
       "      <td>-0.022298</td>\n",
       "      <td>-0.038951</td>\n",
       "      <td>-0.339795</td>\n",
       "    </tr>\n",
       "    <tr>\n",
       "      <th>1</th>\n",
       "      <td>-0.024138</td>\n",
       "      <td>-0.020313</td>\n",
       "      <td>-0.339795</td>\n",
       "    </tr>\n",
       "    <tr>\n",
       "      <th>2</th>\n",
       "      <td>-0.033936</td>\n",
       "      <td>-0.038951</td>\n",
       "      <td>-0.339795</td>\n",
       "    </tr>\n",
       "    <tr>\n",
       "      <th>3</th>\n",
       "      <td>-0.032351</td>\n",
       "      <td>-0.035710</td>\n",
       "      <td>-0.339795</td>\n",
       "    </tr>\n",
       "    <tr>\n",
       "      <th>4</th>\n",
       "      <td>-0.021824</td>\n",
       "      <td>-0.038951</td>\n",
       "      <td>-0.339795</td>\n",
       "    </tr>\n",
       "  </tbody>\n",
       "</table>\n",
       "</div>"
      ],
      "text/plain": [
       "          0         1         2\n",
       "0 -0.022298 -0.038951 -0.339795\n",
       "1 -0.024138 -0.020313 -0.339795\n",
       "2 -0.033936 -0.038951 -0.339795\n",
       "3 -0.032351 -0.035710 -0.339795\n",
       "4 -0.021824 -0.038951 -0.339795"
      ]
     },
     "execution_count": 107,
     "metadata": {},
     "output_type": "execute_result"
    }
   ],
   "source": [
    "users_sc.head()"
   ]
  },
  {
   "cell_type": "code",
   "execution_count": null,
   "metadata": {},
   "outputs": [],
   "source": [
    "#vectorize the dataframe?\n",
    "#mean center the dataframe\n",
    "#make it a df again\n",
    "#cosine similarity\n"
   ]
  },
  {
   "cell_type": "code",
   "execution_count": 108,
   "metadata": {},
   "outputs": [],
   "source": [
    "from scipy import sparse"
   ]
  },
  {
   "cell_type": "code",
   "execution_count": null,
   "metadata": {},
   "outputs": [],
   "source": []
  },
  {
   "cell_type": "code",
   "execution_count": null,
   "metadata": {},
   "outputs": [],
   "source": []
  },
  {
   "cell_type": "code",
   "execution_count": null,
   "metadata": {},
   "outputs": [],
   "source": []
  },
  {
   "cell_type": "markdown",
   "metadata": {},
   "source": [
    "## Save the dataframe to csv and consider DynamoDB, SQLite, PostreSQL, and AWS RDS"
   ]
  },
  {
   "cell_type": "code",
   "execution_count": null,
   "metadata": {},
   "outputs": [],
   "source": []
  },
  {
   "cell_type": "code",
   "execution_count": null,
   "metadata": {},
   "outputs": [],
   "source": []
  }
 ],
 "metadata": {
  "kernelspec": {
   "display_name": "conda_python3",
   "language": "python",
   "name": "conda_python3"
  },
  "language_info": {
   "codemirror_mode": {
    "name": "ipython",
    "version": 3
   },
   "file_extension": ".py",
   "mimetype": "text/x-python",
   "name": "python",
   "nbconvert_exporter": "python",
   "pygments_lexer": "ipython3",
   "version": "3.6.13"
  }
 },
 "nbformat": 4,
 "nbformat_minor": 4
}
